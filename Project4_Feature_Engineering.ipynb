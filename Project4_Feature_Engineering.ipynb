{
 "cells": [
  {
   "cell_type": "markdown",
   "metadata": {},
   "source": [
    "# Projet 4 : Anticiper les besoins en consommation électrique de bâtiments\n",
    "*Pierre-Eloi Ragetly*\n",
    "\n",
    "Ce projet fait parti du parcours *DataScientist* d'OpenClassrooms.\n",
    "\n",
    "L'objectif principal est de trouver un modèle permettant de prédire **les émissions de CO2 et la consommation totale d’énergie de bâtiments non destinés à l'habitation.**\n",
    "\n",
    "Pour cela nous disposons des données de la ville de Seattle pour les années 2015 et 2016. Ces données sont à récupérer sur le site kaggle."
   ]
  },
  {
   "cell_type": "markdown",
   "metadata": {},
   "source": [
    "# Partie II : Feature Engineering\n",
    "\n",
    "Ce notebook a pour but de présenter le travail effectué sur l'ingénierie de variables. C'est à dire toutes les transformations effectuées sur les variables afin d'améliorer les performances du modèle. Les données nettoyées (cf Partie I), seront utilisées.\n",
    "\n",
    "De plus, Un premier tri parmi les variables sera effectué. Celles qui ne seront clairement pas pertinentes pour l'exercice de modélisation, par exemple l'adresse des bâtiments, seront écartées."
   ]
  },
  {
   "cell_type": "code",
   "execution_count": 1,
   "metadata": {
    "ExecuteTime": {
     "end_time": "2020-05-11T15:18:27.280413Z",
     "start_time": "2020-05-11T15:18:26.417099Z"
    }
   },
   "outputs": [],
   "source": [
    "# Import des librairies usuelles\n",
    "%matplotlib inline\n",
    "import matplotlib.pyplot as plt\n",
    "import numpy as np\n",
    "import scipy.stats as stats\n",
    "import pandas as pd\n",
    "import seaborn as sns"
   ]
  },
  {
   "cell_type": "code",
   "execution_count": 2,
   "metadata": {
    "ExecuteTime": {
     "end_time": "2020-05-11T15:18:27.288346Z",
     "start_time": "2020-05-11T15:18:27.281402Z"
    }
   },
   "outputs": [],
   "source": [
    "# Change some default parameters of matplotlib using seaborn\n",
    "plt.rcParams.update(plt.rcParamsDefault)\n",
    "plt.rcParams.update({'axes.titleweight': 'bold'})\n",
    "sns.set(style='ticks')\n",
    "current_palette = sns.color_palette('RdBu')\n",
    "sns.set_palette(current_palette)"
   ]
  },
  {
   "cell_type": "code",
   "execution_count": 3,
   "metadata": {
    "ExecuteTime": {
     "end_time": "2020-05-11T15:18:27.332267Z",
     "start_time": "2020-05-11T15:18:27.290342Z"
    }
   },
   "outputs": [],
   "source": [
    "data_2015 = pd.read_csv('data/data_2015.csv')\n",
    "data_2016 = pd.read_csv('data/data_2016.csv')"
   ]
  },
  {
   "cell_type": "markdown",
   "metadata": {
    "toc": true
   },
   "source": [
    "<h1>Table of Contents<span class=\"tocSkip\"></span></h1>\n",
    "<div class=\"toc\"><ul class=\"toc-item\"><li><span><a href=\"#Sélection-de-variables\" data-toc-modified-id=\"Sélection-de-variables-1\"><span class=\"toc-item-num\">1&nbsp;&nbsp;</span>Sélection de variables</a></span></li><li><span><a href=\"#Analyse-des-variables-cibles\" data-toc-modified-id=\"Analyse-des-variables-cibles-2\"><span class=\"toc-item-num\">2&nbsp;&nbsp;</span>Analyse des variables cibles</a></span></li></ul></div>"
   ]
  },
  {
   "cell_type": "code",
   "execution_count": 4,
   "metadata": {
    "ExecuteTime": {
     "end_time": "2020-05-11T15:18:27.338225Z",
     "start_time": "2020-05-11T15:18:27.333236Z"
    }
   },
   "outputs": [
    {
     "data": {
      "text/plain": [
       "Index(['OSEBuildingID', 'DataYear', 'BuildingType', 'PrimaryPropertyType',\n",
       "       'PropertyName', 'TaxParcelIdentificationNumber', 'CouncilDistrictCode',\n",
       "       'Neighborhood', 'YearBuilt', 'NumberofBuildings', 'NumberofFloors',\n",
       "       'PropertyGFATotal', 'PropertyGFAParking', 'PropertyGFABuilding(s)',\n",
       "       'ListOfAllPropertyUseTypes', 'LargestPropertyUseType',\n",
       "       'LargestPropertyUseTypeGFA', 'SecondLargestPropertyUseType',\n",
       "       'SecondLargestPropertyUseTypeGFA', 'ThirdLargestPropertyUseType',\n",
       "       'ThirdLargestPropertyUseTypeGFA', 'YearsENERGYSTARCertified',\n",
       "       'ENERGYSTARScore', 'SiteEUI(kBtu/sf)', 'SiteEUIWN(kBtu/sf)',\n",
       "       'SourceEUI(kBtu/sf)', 'SourceEUIWN(kBtu/sf)', 'SiteEnergyUse(kBtu)',\n",
       "       'SiteEnergyUseWN(kBtu)', 'SteamUse(kBtu)', 'Electricity(kBtu)',\n",
       "       'NaturalGas(kBtu)', 'TotalGHGEmissions', 'GHGEmissionsIntensity',\n",
       "       'DefaultData', 'Comments', 'ComplianceStatus', 'Latitude', 'Longitude',\n",
       "       'Address', 'City', 'State', 'ZipCode'],\n",
       "      dtype='object')"
      ]
     },
     "execution_count": 4,
     "metadata": {},
     "output_type": "execute_result"
    }
   ],
   "source": [
    "data_2015.columns"
   ]
  },
  {
   "cell_type": "markdown",
   "metadata": {},
   "source": [
    "## Sélection de variables"
   ]
  },
  {
   "cell_type": "markdown",
   "metadata": {},
   "source": [
    "Nombre de variables ne sont pas pertinentes pour modéliser la consommation en énergie ou l'émission de CO2. Elles viennent donc polluer le jeu de données et risque d'abaisser l'efficacité de notre modèle, il faut donc les écarter avant de procéder à l'entrainement des modèles.\n",
    "\n",
    "Parmi elles nous allons trouver des variables renvoyant toutes la même donnée :\n",
    "- DataYear\n",
    "- ComplianceStatus\n",
    "- City\n",
    "- State\n",
    "\n",
    "Nous avons aussi des variables qui pourraient s'apparenter à un identifiant. Ayant déja choisi comme identifiant *OSEBuildingID* (cf. Partie I), elles sont donc redondantes et peuvent être écartées sans risquer de perdre de l'information :\n",
    "- PropertyName\n",
    "- TaxParcelIdentificationNumber\n",
    "- Address\n",
    "\n",
    "D'autres n'auront clairement aucun lien avec les attributs que nous cherchons à modéliser :\n",
    "- YearsENERGYSTARCertified\n",
    "- DefaultData\n",
    "\n",
    "Une variable contient très peu de valeurs renseignée, cinq en tout. De plus, il s'agit de texte, et est donc difficilement utilisable par les algorithmes d'apprentissage automatique classiques :\n",
    "- Comments\n",
    "\n",
    "Pour finir, certaines sont redondantes :\n",
    "- BuildingType (redondante avec PrimaryPropertyType, cf. Partie I)\n",
    "- CouncilDistrictCode (redondante avec Neighborhood)\n",
    "- ZipCode (redondante avec Neighborhood)"
   ]
  },
  {
   "cell_type": "code",
   "execution_count": 5,
   "metadata": {
    "ExecuteTime": {
     "end_time": "2020-05-11T15:18:27.347195Z",
     "start_time": "2020-05-11T15:18:27.340209Z"
    }
   },
   "outputs": [
    {
     "data": {
      "text/plain": [
       "7    375\n",
       "2    289\n",
       "3    171\n",
       "4    117\n",
       "5    107\n",
       "1     99\n",
       "6     94\n",
       "Name: CouncilDistrictCode, dtype: int64"
      ]
     },
     "execution_count": 5,
     "metadata": {},
     "output_type": "execute_result"
    }
   ],
   "source": [
    "data_2015['CouncilDistrictCode'].value_counts()"
   ]
  },
  {
   "cell_type": "code",
   "execution_count": 6,
   "metadata": {
    "ExecuteTime": {
     "end_time": "2020-05-11T15:18:27.355191Z",
     "start_time": "2020-05-11T15:18:27.348217Z"
    }
   },
   "outputs": [
    {
     "data": {
      "text/plain": [
       "DOWNTOWN                 253\n",
       "GREATER DUWAMISH         248\n",
       "EAST                     111\n",
       "MAGNOLIA / QUEEN ANNE    105\n",
       "LAKE UNION               103\n",
       "NORTHEAST                 92\n",
       "NORTHWEST                 76\n",
       "BALLARD                   54\n",
       "NORTH                     53\n",
       "CENTRAL                   44\n",
       "DELRIDGE                  39\n",
       "SOUTHEAST                 39\n",
       "SOUTHWEST                 35\n",
       "Name: Neighborhood, dtype: int64"
      ]
     },
     "execution_count": 6,
     "metadata": {},
     "output_type": "execute_result"
    }
   ],
   "source": [
    "data_2015['Neighborhood'].value_counts()"
   ]
  },
  {
   "cell_type": "code",
   "execution_count": 7,
   "metadata": {
    "ExecuteTime": {
     "end_time": "2020-05-11T15:18:27.364143Z",
     "start_time": "2020-05-11T15:18:27.356196Z"
    }
   },
   "outputs": [
    {
     "data": {
      "text/plain": [
       "No     1105\n",
       "Yes     147\n",
       "Name: DefaultData, dtype: int64"
      ]
     },
     "execution_count": 7,
     "metadata": {},
     "output_type": "execute_result"
    }
   ],
   "source": [
    "data_2015['DefaultData'].value_counts()"
   ]
  },
  {
   "cell_type": "code",
   "execution_count": 8,
   "metadata": {
    "ExecuteTime": {
     "end_time": "2020-05-11T15:18:27.372161Z",
     "start_time": "2020-05-11T15:18:27.367136Z"
    }
   },
   "outputs": [
    {
     "data": {
      "text/plain": [
       "334    Part of McKinstry's campus, property operates ...\n",
       "335    One of two office buildings on McKinstry's cam...\n",
       "437    Part of McKinstry’s campus, this remodeled war...\n",
       "711    Under construction starting 6/2015 (old buildi...\n",
       "991    Part of McKinstry's campus, property includes ...\n",
       "Name: Comments, dtype: object"
      ]
     },
     "execution_count": 8,
     "metadata": {},
     "output_type": "execute_result"
    }
   ],
   "source": [
    "data_2015['Comments'].dropna()"
   ]
  },
  {
   "cell_type": "code",
   "execution_count": 9,
   "metadata": {
    "ExecuteTime": {
     "end_time": "2020-05-11T15:18:27.382121Z",
     "start_time": "2020-05-11T15:18:27.375113Z"
    }
   },
   "outputs": [
    {
     "data": {
      "text/plain": [
       "Compliant    1252\n",
       "Name: ComplianceStatus, dtype: int64"
      ]
     },
     "execution_count": 9,
     "metadata": {},
     "output_type": "execute_result"
    }
   ],
   "source": [
    "data_2015['ComplianceStatus'].value_counts()"
   ]
  },
  {
   "cell_type": "code",
   "execution_count": 10,
   "metadata": {
    "ExecuteTime": {
     "end_time": "2020-05-11T15:18:27.391071Z",
     "start_time": "2020-05-11T15:18:27.384091Z"
    }
   },
   "outputs": [
    {
     "data": {
      "text/plain": [
       "SEATTLE    1252\n",
       "Name: City, dtype: int64"
      ]
     },
     "execution_count": 10,
     "metadata": {},
     "output_type": "execute_result"
    }
   ],
   "source": [
    "data_2015['City'].value_counts()"
   ]
  },
  {
   "cell_type": "code",
   "execution_count": 11,
   "metadata": {
    "ExecuteTime": {
     "end_time": "2020-05-11T15:18:27.401102Z",
     "start_time": "2020-05-11T15:18:27.392069Z"
    }
   },
   "outputs": [
    {
     "data": {
      "text/plain": [
       "WA    1252\n",
       "Name: State, dtype: int64"
      ]
     },
     "execution_count": 11,
     "metadata": {},
     "output_type": "execute_result"
    }
   ],
   "source": [
    "data_2015['State'].value_counts()"
   ]
  },
  {
   "cell_type": "code",
   "execution_count": 12,
   "metadata": {
    "ExecuteTime": {
     "end_time": "2020-05-11T15:18:27.410020Z",
     "start_time": "2020-05-11T15:18:27.403070Z"
    }
   },
   "outputs": [
    {
     "data": {
      "text/plain": [
       "98134    145\n",
       "98104    118\n",
       "98101    110\n",
       "98109    104\n",
       "98108     83\n",
       "98122     75\n",
       "98105     64\n",
       "98121     56\n",
       "98103     52\n",
       "98125     51\n",
       "98119     45\n",
       "98115     41\n",
       "98133     40\n",
       "98118     39\n",
       "98107     38\n",
       "98144     36\n",
       "98106     25\n",
       "98102     23\n",
       "98116     21\n",
       "98112     21\n",
       "98117     20\n",
       "98126     20\n",
       "98199     13\n",
       "98178      4\n",
       "98136      4\n",
       "98177      2\n",
       "98146      1\n",
       "98155      1\n",
       "Name: ZipCode, dtype: int64"
      ]
     },
     "execution_count": 12,
     "metadata": {},
     "output_type": "execute_result"
    }
   ],
   "source": [
    "data_2015['ZipCode'].value_counts()"
   ]
  },
  {
   "cell_type": "code",
   "execution_count": 13,
   "metadata": {
    "ExecuteTime": {
     "end_time": "2020-05-11T15:18:27.418020Z",
     "start_time": "2020-05-11T15:18:27.411046Z"
    }
   },
   "outputs": [],
   "source": [
    "cols_to_del = ['DataYear',\n",
    "               'ComplianceStatus',\n",
    "               'City',\n",
    "               'State',\n",
    "               'PropertyName',\n",
    "               'TaxParcelIdentificationNumber',\n",
    "               'Address',\n",
    "               'YearsENERGYSTARCertified',\n",
    "               'DefaultData',\n",
    "               'Comments',\n",
    "               'BuildingType',\n",
    "               'CouncilDistrictCode',\n",
    "               'ZipCode']\n",
    "\n",
    "data_2015.set_index('OSEBuildingID', inplace=True)\n",
    "data_2015.drop(columns=cols_to_del, inplace=True)"
   ]
  },
  {
   "cell_type": "code",
   "execution_count": 14,
   "metadata": {
    "ExecuteTime": {
     "end_time": "2020-05-11T15:18:27.435952Z",
     "start_time": "2020-05-11T15:18:27.420995Z"
    }
   },
   "outputs": [
    {
     "name": "stdout",
     "output_type": "stream",
     "text": [
      "<class 'pandas.core.frame.DataFrame'>\n",
      "Int64Index: 1252 entries, 1 to 50008\n",
      "Data columns (total 29 columns):\n",
      " #   Column                           Non-Null Count  Dtype  \n",
      "---  ------                           --------------  -----  \n",
      " 0   PrimaryPropertyType              1252 non-null   object \n",
      " 1   Neighborhood                     1252 non-null   object \n",
      " 2   YearBuilt                        1252 non-null   int64  \n",
      " 3   NumberofBuildings                1252 non-null   int64  \n",
      " 4   NumberofFloors                   1245 non-null   float64\n",
      " 5   PropertyGFATotal                 1252 non-null   int64  \n",
      " 6   PropertyGFAParking               1252 non-null   int64  \n",
      " 7   PropertyGFABuilding(s)           1252 non-null   int64  \n",
      " 8   ListOfAllPropertyUseTypes        1208 non-null   object \n",
      " 9   LargestPropertyUseType           1206 non-null   object \n",
      " 10  LargestPropertyUseTypeGFA        1206 non-null   float64\n",
      " 11  SecondLargestPropertyUseType     616 non-null    object \n",
      " 12  SecondLargestPropertyUseTypeGFA  616 non-null    float64\n",
      " 13  ThirdLargestPropertyUseType      255 non-null    object \n",
      " 14  ThirdLargestPropertyUseTypeGFA   255 non-null    float64\n",
      " 15  ENERGYSTARScore                  830 non-null    float64\n",
      " 16  SiteEUI(kBtu/sf)                 1252 non-null   float64\n",
      " 17  SiteEUIWN(kBtu/sf)               1252 non-null   float64\n",
      " 18  SourceEUI(kBtu/sf)               1252 non-null   float64\n",
      " 19  SourceEUIWN(kBtu/sf)             1252 non-null   float64\n",
      " 20  SiteEnergyUse(kBtu)              1252 non-null   float64\n",
      " 21  SiteEnergyUseWN(kBtu)            1252 non-null   float64\n",
      " 22  SteamUse(kBtu)                   1252 non-null   float64\n",
      " 23  Electricity(kBtu)                1252 non-null   float64\n",
      " 24  NaturalGas(kBtu)                 1252 non-null   float64\n",
      " 25  TotalGHGEmissions                1252 non-null   float64\n",
      " 26  GHGEmissionsIntensity            1252 non-null   float64\n",
      " 27  Latitude                         1252 non-null   float64\n",
      " 28  Longitude                        1252 non-null   float64\n",
      "dtypes: float64(18), int64(5), object(6)\n",
      "memory usage: 293.4+ KB\n"
     ]
    }
   ],
   "source": [
    "data_2015.info()"
   ]
  },
  {
   "cell_type": "markdown",
   "metadata": {},
   "source": [
    "## Analyse des variables cibles"
   ]
  },
  {
   "cell_type": "markdown",
   "metadata": {},
   "source": [
    "La première grandeur que nous cherchons à prédire est l'émission de CO2. Cette grandeur est renseignée dans nos jeux de données par la variable **TotalGHGEmissions**.\n",
    "\n",
    "La deuxième est la consommation totale d'énergie, elle est renseignée par la variable **SiteEnergyUse(kBtu)**.\n",
    "\n",
    "Commençons par voir la distribution de ces variables à l'aide d'un histogramme."
   ]
  },
  {
   "cell_type": "code",
   "execution_count": 15,
   "metadata": {
    "ExecuteTime": {
     "end_time": "2020-05-11T15:18:27.775083Z",
     "start_time": "2020-05-11T15:18:27.436973Z"
    }
   },
   "outputs": [
    {
     "data": {
      "image/png": "[encoded data removed]",
      "text/plain": [
       "<Figure size 1200x500 with 2 Axes>"
      ]
     },
     "metadata": {},
     "output_type": "display_data"
    }
   ],
   "source": [
    "data_2015[['TotalGHGEmissions', 'SiteEnergyUse(kBtu)']].hist(bins=50, figsize=(12, 5))\n",
    "plt.show()"
   ]
  },
  {
   "cell_type": "markdown",
   "metadata": {},
   "source": [
    "Nous constatons que la distribution est fortement asymétrique pour les deux variables. La forme s'apparente plus à une distribution log normale que normale. Or, en général les algorithmes de Machine Learning (ML) sont plus performants quand les données suivent une distribution normale. Appliquons le log sur les deux variables, et regardons si on obtient une distribution un peu plus proche d'une cloche, forme typique de la distribution normale."
   ]
  },
  {
   "cell_type": "code",
   "execution_count": 17,
   "metadata": {
    "ExecuteTime": {
     "end_time": "2020-05-11T15:19:06.591405Z",
     "start_time": "2020-05-11T15:19:06.304138Z"
    }
   },
   "outputs": [
    {
     "data": {
      "image/png": "[encoded data removed]",
      "text/plain": [
       "<Figure size 1200x500 with 2 Axes>"
      ]
     },
     "metadata": {},
     "output_type": "display_data"
    }
   ],
   "source": [
    "df = data_2015.copy()\n",
    "df['SiteEnergyUse(kBtu)_log'] = np.log(df['SiteEnergyUse(kBtu)'])\n",
    "df['TotalGHGEmissions_log'] = np.log(df['TotalGHGEmissions'])\n",
    "df[['TotalGHGEmissions_log', 'SiteEnergyUse(kBtu)_log']].hist(bins=50, figsize=(12, 5))\n",
    "plt.show()"
   ]
  },
  {
   "cell_type": "markdown",
   "metadata": {},
   "source": [
    "C'est nettement mieux. **Nous entrainerons donc nos modèles sur le logarithme de ces variables. Puis nous appliquerons l'exponentielle sur les prédictions pour obtenir les bonnes valeurs.**"
   ]
  },
  {
   "cell_type": "code",
   "execution_count": 18,
   "metadata": {
    "ExecuteTime": {
     "end_time": "2020-05-11T15:22:27.912944Z",
     "start_time": "2020-05-11T15:22:27.906960Z"
    }
   },
   "outputs": [],
   "source": [
    "data_2015['SiteEnergyUse(kBtu)_log'] = np.log(data_2015['SiteEnergyUse(kBtu)'])\n",
    "data_2015['TotalGHGEmissions_log'] = np.log(data_2015['TotalGHGEmissions'])"
   ]
  }
 ],
 "metadata": {
  "kernelspec": {
   "display_name": "Python 3",
   "language": "python",
   "name": "python3"
  },
  "language_info": {
   "codemirror_mode": {
    "name": "ipython",
    "version": 3
   },
   "file_extension": ".py",
   "mimetype": "text/x-python",
   "name": "python",
   "nbconvert_exporter": "python",
   "pygments_lexer": "ipython3",
   "version": "3.7.4"
  },
  "toc": {
   "base_numbering": 1,
   "nav_menu": {},
   "number_sections": true,
   "sideBar": true,
   "skip_h1_title": true,
   "title_cell": "Table of Contents",
   "title_sidebar": "Contents",
   "toc_cell": true,
   "toc_position": {
    "height": "calc(100% - 180px)",
    "left": "10px",
    "top": "150px",
    "width": "349.091px"
   },
   "toc_section_display": true,
   "toc_window_display": true
  }
 },
 "nbformat": 4,
 "nbformat_minor": 4
}
