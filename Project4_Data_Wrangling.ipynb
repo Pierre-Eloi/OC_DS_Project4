{
 "cells": [
  {
   "cell_type": "markdown",
   "metadata": {},
   "source": [
    "# Projet 4 : Anticiper les besoins en consommation électrique de bâtiments\n",
    "*Pierre-Eloi Ragetly*\n",
    "\n",
    "Ce projet fait parti du parcours *DataScientist* d'OpenClassrooms.\n",
    "\n",
    "L'objectif principal est de trouver un modèle permettant de prédire **les émissions de CO2 et la consommation totale d’énergie de bâtiments non destinés à l'habitation.**\n",
    "\n",
    "Pour cela nous disposons des données de la ville de Seattle pour les années 2015 et 2016. Ces données sont à récupérer sur le site kaggle."
   ]
  },
  {
   "cell_type": "markdown",
   "metadata": {},
   "source": [
    "# Partie I : Data Wrangling\n",
    "\n",
    "Ce notebook a pour but de présenter les données et de décrire les opérations nécessaire au nettoyage afin d'obtenir un format adapté à l'analyse et la modélisation."
   ]
  },
  {
   "cell_type": "code",
   "execution_count": 1,
   "metadata": {
    "ExecuteTime": {
     "end_time": "2020-04-20T20:11:23.909672Z",
     "start_time": "2020-04-20T20:11:20.543293Z"
    }
   },
   "outputs": [],
   "source": [
    "# Import des librairies usuelles\n",
    "%matplotlib inline\n",
    "import matplotlib.pyplot as plt\n",
    "import numpy as np\n",
    "import scipy.stats as stats\n",
    "import pandas as pd\n",
    "import seaborn as sns"
   ]
  },
  {
   "cell_type": "code",
   "execution_count": 2,
   "metadata": {
    "ExecuteTime": {
     "end_time": "2020-04-20T20:11:23.919644Z",
     "start_time": "2020-04-20T20:11:23.911667Z"
    }
   },
   "outputs": [],
   "source": [
    "# Change some default parameters of matplotlib using seaborn\n",
    "plt.rcParams.update(plt.rcParamsDefault)\n",
    "plt.rcParams.update({'axes.titleweight': 'bold'})\n",
    "sns.set(style='ticks')\n",
    "current_palette = sns.color_palette('RdBu')\n",
    "sns.set_palette(current_palette)"
   ]
  },
  {
   "cell_type": "markdown",
   "metadata": {
    "toc": true
   },
   "source": [
    "<h1>Table of Contents<span class=\"tocSkip\"></span></h1>\n",
    "<div class=\"toc\"><ul class=\"toc-item\"><li><span><a href=\"#Récupération-des-données\" data-toc-modified-id=\"Récupération-des-données-1\"><span class=\"toc-item-num\">1&nbsp;&nbsp;</span>Récupération des données</a></span></li><li><span><a href=\"#Comparaison-des-deux-jeux-de-données\" data-toc-modified-id=\"Comparaison-des-deux-jeux-de-données-2\"><span class=\"toc-item-num\">2&nbsp;&nbsp;</span>Comparaison des deux jeux de données</a></span><ul class=\"toc-item\"><li><span><a href=\"#Variables-n'étant-pas-présentes-dans-l'un-des-jeux-de-données\" data-toc-modified-id=\"Variables-n'étant-pas-présentes-dans-l'un-des-jeux-de-données-2.1\"><span class=\"toc-item-num\">2.1&nbsp;&nbsp;</span>Variables n'étant pas présentes dans l'un des jeux de données</a></span></li><li><span><a href=\"#Traitement-de-la-variable-localisation\" data-toc-modified-id=\"Traitement-de-la-variable-localisation-2.2\"><span class=\"toc-item-num\">2.2&nbsp;&nbsp;</span>Traitement de la variable localisation</a></span></li><li><span><a href=\"#Renommer-les-variables-de-2015-comme-celles-de-2016\" data-toc-modified-id=\"Renommer-les-variables-de-2015-comme-celles-de-2016-2.3\"><span class=\"toc-item-num\">2.3&nbsp;&nbsp;</span>Renommer les variables de 2015 comme celles de 2016</a></span></li><li><span><a href=\"#Variables-non-présentes-dans-le-jeu-de-données-2016\" data-toc-modified-id=\"Variables-non-présentes-dans-le-jeu-de-données-2016-2.4\"><span class=\"toc-item-num\">2.4&nbsp;&nbsp;</span>Variables non présentes dans le jeu de données 2016</a></span></li><li><span><a href=\"#Ajout-des-variables-manquantes-pour-le-jeu-de-données-de-2016\" data-toc-modified-id=\"Ajout-des-variables-manquantes-pour-le-jeu-de-données-de-2016-2.5\"><span class=\"toc-item-num\">2.5&nbsp;&nbsp;</span>Ajout des variables manquantes pour le jeu de données de 2016</a></span></li><li><span><a href=\"#Traitement-de-la-variable-OtherFuelUse(kBtu)\" data-toc-modified-id=\"Traitement-de-la-variable-OtherFuelUse(kBtu)-2.6\"><span class=\"toc-item-num\">2.6&nbsp;&nbsp;</span>Traitement de la variable OtherFuelUse(kBtu)</a></span></li></ul></li></ul></div>"
   ]
  },
  {
   "cell_type": "markdown",
   "metadata": {},
   "source": [
    "## Récupération des données"
   ]
  },
  {
   "cell_type": "markdown",
   "metadata": {},
   "source": [
    "Nous commençons par télécharger les données du site *kaggle*. Ces données sont contenus dans 2 fichier csv :\n",
    "- 2015-building-energy-benchmarking\n",
    "- 2016-building-energy-benchmarking\n",
    "\n",
    "Notre but étant de prédire des données de consommation, avoir des données pour deux dates différentes est un gros plus. **Nous allons pouvoir utiliser les donnée de 2015 (l'année la plus ancienne) comme jeu d'entraînement et les données de 2016 (les plus récentes) comme jeu de test.** Les données étant déja contenues dans deux jeux de données distincts, nous n'aurons pas à séparer les données en deux (test et entraînement).\n",
    "\n",
    "Une fois téléchargées, nous pouvons les charger dans des DataFrame."
   ]
  },
  {
   "cell_type": "code",
   "execution_count": 3,
   "metadata": {
    "ExecuteTime": {
     "end_time": "2020-04-20T20:11:23.997435Z",
     "start_time": "2020-04-20T20:11:23.921644Z"
    }
   },
   "outputs": [
    {
     "name": "stdout",
     "output_type": "stream",
     "text": [
      "(3340, 47)\n"
     ]
    },
    {
     "data": {
      "text/html": [
       "<div>\n",
       "<style scoped>\n",
       "    .dataframe tbody tr th:only-of-type {\n",
       "        vertical-align: middle;\n",
       "    }\n",
       "\n",
       "    .dataframe tbody tr th {\n",
       "        vertical-align: top;\n",
       "    }\n",
       "\n",
       "    .dataframe thead th {\n",
       "        text-align: right;\n",
       "    }\n",
       "</style>\n",
       "<table border=\"1\" class=\"dataframe\">\n",
       "  <thead>\n",
       "    <tr style=\"text-align: right;\">\n",
       "      <th></th>\n",
       "      <th>OSEBuildingID</th>\n",
       "      <th>DataYear</th>\n",
       "      <th>BuildingType</th>\n",
       "      <th>PrimaryPropertyType</th>\n",
       "      <th>PropertyName</th>\n",
       "      <th>TaxParcelIdentificationNumber</th>\n",
       "      <th>Location</th>\n",
       "      <th>CouncilDistrictCode</th>\n",
       "      <th>Neighborhood</th>\n",
       "      <th>YearBuilt</th>\n",
       "      <th>...</th>\n",
       "      <th>GHGEmissionsIntensity(kgCO2e/ft2)</th>\n",
       "      <th>DefaultData</th>\n",
       "      <th>Comment</th>\n",
       "      <th>ComplianceStatus</th>\n",
       "      <th>Outlier</th>\n",
       "      <th>2010 Census Tracts</th>\n",
       "      <th>Seattle Police Department Micro Community Policing Plan Areas</th>\n",
       "      <th>City Council Districts</th>\n",
       "      <th>SPD Beats</th>\n",
       "      <th>Zip Codes</th>\n",
       "    </tr>\n",
       "  </thead>\n",
       "  <tbody>\n",
       "    <tr>\n",
       "      <th>0</th>\n",
       "      <td>1</td>\n",
       "      <td>2015</td>\n",
       "      <td>NonResidential</td>\n",
       "      <td>Hotel</td>\n",
       "      <td>MAYFLOWER PARK HOTEL</td>\n",
       "      <td>659000030</td>\n",
       "      <td>{'latitude': '47.61219025', 'longitude': '-122...</td>\n",
       "      <td>7</td>\n",
       "      <td>DOWNTOWN</td>\n",
       "      <td>1927</td>\n",
       "      <td>...</td>\n",
       "      <td>2.64</td>\n",
       "      <td>No</td>\n",
       "      <td>NaN</td>\n",
       "      <td>Compliant</td>\n",
       "      <td>NaN</td>\n",
       "      <td>NaN</td>\n",
       "      <td>14.0</td>\n",
       "      <td>NaN</td>\n",
       "      <td>31.0</td>\n",
       "      <td>18081</td>\n",
       "    </tr>\n",
       "    <tr>\n",
       "      <th>1</th>\n",
       "      <td>2</td>\n",
       "      <td>2015</td>\n",
       "      <td>NonResidential</td>\n",
       "      <td>Hotel</td>\n",
       "      <td>PARAMOUNT HOTEL</td>\n",
       "      <td>659000220</td>\n",
       "      <td>{'latitude': '47.61310583', 'longitude': '-122...</td>\n",
       "      <td>7</td>\n",
       "      <td>DOWNTOWN</td>\n",
       "      <td>1996</td>\n",
       "      <td>...</td>\n",
       "      <td>2.38</td>\n",
       "      <td>No</td>\n",
       "      <td>NaN</td>\n",
       "      <td>Compliant</td>\n",
       "      <td>NaN</td>\n",
       "      <td>NaN</td>\n",
       "      <td>14.0</td>\n",
       "      <td>NaN</td>\n",
       "      <td>31.0</td>\n",
       "      <td>18081</td>\n",
       "    </tr>\n",
       "    <tr>\n",
       "      <th>2</th>\n",
       "      <td>3</td>\n",
       "      <td>2015</td>\n",
       "      <td>NonResidential</td>\n",
       "      <td>Hotel</td>\n",
       "      <td>WESTIN HOTEL</td>\n",
       "      <td>659000475</td>\n",
       "      <td>{'latitude': '47.61334897', 'longitude': '-122...</td>\n",
       "      <td>7</td>\n",
       "      <td>DOWNTOWN</td>\n",
       "      <td>1969</td>\n",
       "      <td>...</td>\n",
       "      <td>1.92</td>\n",
       "      <td>Yes</td>\n",
       "      <td>NaN</td>\n",
       "      <td>Compliant</td>\n",
       "      <td>NaN</td>\n",
       "      <td>NaN</td>\n",
       "      <td>56.0</td>\n",
       "      <td>NaN</td>\n",
       "      <td>31.0</td>\n",
       "      <td>18081</td>\n",
       "    </tr>\n",
       "    <tr>\n",
       "      <th>3</th>\n",
       "      <td>5</td>\n",
       "      <td>2015</td>\n",
       "      <td>NonResidential</td>\n",
       "      <td>Hotel</td>\n",
       "      <td>HOTEL MAX</td>\n",
       "      <td>659000640</td>\n",
       "      <td>{'latitude': '47.61421585', 'longitude': '-122...</td>\n",
       "      <td>7</td>\n",
       "      <td>DOWNTOWN</td>\n",
       "      <td>1926</td>\n",
       "      <td>...</td>\n",
       "      <td>31.38</td>\n",
       "      <td>No</td>\n",
       "      <td>NaN</td>\n",
       "      <td>Compliant</td>\n",
       "      <td>High Outlier</td>\n",
       "      <td>NaN</td>\n",
       "      <td>56.0</td>\n",
       "      <td>NaN</td>\n",
       "      <td>31.0</td>\n",
       "      <td>18081</td>\n",
       "    </tr>\n",
       "    <tr>\n",
       "      <th>4</th>\n",
       "      <td>8</td>\n",
       "      <td>2015</td>\n",
       "      <td>NonResidential</td>\n",
       "      <td>Hotel</td>\n",
       "      <td>WARWICK SEATTLE HOTEL</td>\n",
       "      <td>659000970</td>\n",
       "      <td>{'latitude': '47.6137544', 'longitude': '-122....</td>\n",
       "      <td>7</td>\n",
       "      <td>DOWNTOWN</td>\n",
       "      <td>1980</td>\n",
       "      <td>...</td>\n",
       "      <td>4.02</td>\n",
       "      <td>No</td>\n",
       "      <td>NaN</td>\n",
       "      <td>Compliant</td>\n",
       "      <td>NaN</td>\n",
       "      <td>NaN</td>\n",
       "      <td>56.0</td>\n",
       "      <td>NaN</td>\n",
       "      <td>31.0</td>\n",
       "      <td>19576</td>\n",
       "    </tr>\n",
       "  </tbody>\n",
       "</table>\n",
       "<p>5 rows × 47 columns</p>\n",
       "</div>"
      ],
      "text/plain": [
       "   OSEBuildingID  DataYear    BuildingType PrimaryPropertyType  \\\n",
       "0              1      2015  NonResidential               Hotel   \n",
       "1              2      2015  NonResidential               Hotel   \n",
       "2              3      2015  NonResidential               Hotel   \n",
       "3              5      2015  NonResidential               Hotel   \n",
       "4              8      2015  NonResidential               Hotel   \n",
       "\n",
       "            PropertyName TaxParcelIdentificationNumber  \\\n",
       "0   MAYFLOWER PARK HOTEL                     659000030   \n",
       "1        PARAMOUNT HOTEL                     659000220   \n",
       "2           WESTIN HOTEL                     659000475   \n",
       "3              HOTEL MAX                     659000640   \n",
       "4  WARWICK SEATTLE HOTEL                     659000970   \n",
       "\n",
       "                                            Location  CouncilDistrictCode  \\\n",
       "0  {'latitude': '47.61219025', 'longitude': '-122...                    7   \n",
       "1  {'latitude': '47.61310583', 'longitude': '-122...                    7   \n",
       "2  {'latitude': '47.61334897', 'longitude': '-122...                    7   \n",
       "3  {'latitude': '47.61421585', 'longitude': '-122...                    7   \n",
       "4  {'latitude': '47.6137544', 'longitude': '-122....                    7   \n",
       "\n",
       "  Neighborhood  YearBuilt  ...  GHGEmissionsIntensity(kgCO2e/ft2)  \\\n",
       "0     DOWNTOWN       1927  ...                               2.64   \n",
       "1     DOWNTOWN       1996  ...                               2.38   \n",
       "2     DOWNTOWN       1969  ...                               1.92   \n",
       "3     DOWNTOWN       1926  ...                              31.38   \n",
       "4     DOWNTOWN       1980  ...                               4.02   \n",
       "\n",
       "   DefaultData  Comment  ComplianceStatus       Outlier 2010 Census Tracts  \\\n",
       "0           No      NaN         Compliant           NaN                NaN   \n",
       "1           No      NaN         Compliant           NaN                NaN   \n",
       "2          Yes      NaN         Compliant           NaN                NaN   \n",
       "3           No      NaN         Compliant  High Outlier                NaN   \n",
       "4           No      NaN         Compliant           NaN                NaN   \n",
       "\n",
       "  Seattle Police Department Micro Community Policing Plan Areas  \\\n",
       "0                                               14.0              \n",
       "1                                               14.0              \n",
       "2                                               56.0              \n",
       "3                                               56.0              \n",
       "4                                               56.0              \n",
       "\n",
       "   City Council Districts SPD Beats  Zip Codes  \n",
       "0                     NaN      31.0      18081  \n",
       "1                     NaN      31.0      18081  \n",
       "2                     NaN      31.0      18081  \n",
       "3                     NaN      31.0      18081  \n",
       "4                     NaN      31.0      19576  \n",
       "\n",
       "[5 rows x 47 columns]"
      ]
     },
     "execution_count": 3,
     "metadata": {},
     "output_type": "execute_result"
    }
   ],
   "source": [
    "raw_data_2015 = pd.read_csv('data/2015-building-energy-benchmarking.csv')\n",
    "print(raw_data_2015.shape)\n",
    "raw_data_2015.head()"
   ]
  },
  {
   "cell_type": "code",
   "execution_count": 4,
   "metadata": {
    "ExecuteTime": {
     "end_time": "2020-04-20T20:11:24.064255Z",
     "start_time": "2020-04-20T20:11:23.999425Z"
    }
   },
   "outputs": [
    {
     "name": "stdout",
     "output_type": "stream",
     "text": [
      "(3376, 46)\n"
     ]
    },
    {
     "data": {
      "text/html": [
       "<div>\n",
       "<style scoped>\n",
       "    .dataframe tbody tr th:only-of-type {\n",
       "        vertical-align: middle;\n",
       "    }\n",
       "\n",
       "    .dataframe tbody tr th {\n",
       "        vertical-align: top;\n",
       "    }\n",
       "\n",
       "    .dataframe thead th {\n",
       "        text-align: right;\n",
       "    }\n",
       "</style>\n",
       "<table border=\"1\" class=\"dataframe\">\n",
       "  <thead>\n",
       "    <tr style=\"text-align: right;\">\n",
       "      <th></th>\n",
       "      <th>OSEBuildingID</th>\n",
       "      <th>DataYear</th>\n",
       "      <th>BuildingType</th>\n",
       "      <th>PrimaryPropertyType</th>\n",
       "      <th>PropertyName</th>\n",
       "      <th>Address</th>\n",
       "      <th>City</th>\n",
       "      <th>State</th>\n",
       "      <th>ZipCode</th>\n",
       "      <th>TaxParcelIdentificationNumber</th>\n",
       "      <th>...</th>\n",
       "      <th>Electricity(kWh)</th>\n",
       "      <th>Electricity(kBtu)</th>\n",
       "      <th>NaturalGas(therms)</th>\n",
       "      <th>NaturalGas(kBtu)</th>\n",
       "      <th>DefaultData</th>\n",
       "      <th>Comments</th>\n",
       "      <th>ComplianceStatus</th>\n",
       "      <th>Outlier</th>\n",
       "      <th>TotalGHGEmissions</th>\n",
       "      <th>GHGEmissionsIntensity</th>\n",
       "    </tr>\n",
       "  </thead>\n",
       "  <tbody>\n",
       "    <tr>\n",
       "      <th>0</th>\n",
       "      <td>1</td>\n",
       "      <td>2016</td>\n",
       "      <td>NonResidential</td>\n",
       "      <td>Hotel</td>\n",
       "      <td>Mayflower park hotel</td>\n",
       "      <td>405 Olive way</td>\n",
       "      <td>Seattle</td>\n",
       "      <td>WA</td>\n",
       "      <td>98101.0</td>\n",
       "      <td>0659000030</td>\n",
       "      <td>...</td>\n",
       "      <td>1.156514e+06</td>\n",
       "      <td>3946027.0</td>\n",
       "      <td>12764.52930</td>\n",
       "      <td>1276453.0</td>\n",
       "      <td>False</td>\n",
       "      <td>NaN</td>\n",
       "      <td>Compliant</td>\n",
       "      <td>NaN</td>\n",
       "      <td>249.98</td>\n",
       "      <td>2.83</td>\n",
       "    </tr>\n",
       "    <tr>\n",
       "      <th>1</th>\n",
       "      <td>2</td>\n",
       "      <td>2016</td>\n",
       "      <td>NonResidential</td>\n",
       "      <td>Hotel</td>\n",
       "      <td>Paramount Hotel</td>\n",
       "      <td>724 Pine street</td>\n",
       "      <td>Seattle</td>\n",
       "      <td>WA</td>\n",
       "      <td>98101.0</td>\n",
       "      <td>0659000220</td>\n",
       "      <td>...</td>\n",
       "      <td>9.504252e+05</td>\n",
       "      <td>3242851.0</td>\n",
       "      <td>51450.81641</td>\n",
       "      <td>5145082.0</td>\n",
       "      <td>False</td>\n",
       "      <td>NaN</td>\n",
       "      <td>Compliant</td>\n",
       "      <td>NaN</td>\n",
       "      <td>295.86</td>\n",
       "      <td>2.86</td>\n",
       "    </tr>\n",
       "    <tr>\n",
       "      <th>2</th>\n",
       "      <td>3</td>\n",
       "      <td>2016</td>\n",
       "      <td>NonResidential</td>\n",
       "      <td>Hotel</td>\n",
       "      <td>5673-The Westin Seattle</td>\n",
       "      <td>1900 5th Avenue</td>\n",
       "      <td>Seattle</td>\n",
       "      <td>WA</td>\n",
       "      <td>98101.0</td>\n",
       "      <td>0659000475</td>\n",
       "      <td>...</td>\n",
       "      <td>1.451544e+07</td>\n",
       "      <td>49526664.0</td>\n",
       "      <td>14938.00000</td>\n",
       "      <td>1493800.0</td>\n",
       "      <td>False</td>\n",
       "      <td>NaN</td>\n",
       "      <td>Compliant</td>\n",
       "      <td>NaN</td>\n",
       "      <td>2089.28</td>\n",
       "      <td>2.19</td>\n",
       "    </tr>\n",
       "    <tr>\n",
       "      <th>3</th>\n",
       "      <td>5</td>\n",
       "      <td>2016</td>\n",
       "      <td>NonResidential</td>\n",
       "      <td>Hotel</td>\n",
       "      <td>HOTEL MAX</td>\n",
       "      <td>620 STEWART ST</td>\n",
       "      <td>Seattle</td>\n",
       "      <td>WA</td>\n",
       "      <td>98101.0</td>\n",
       "      <td>0659000640</td>\n",
       "      <td>...</td>\n",
       "      <td>8.115253e+05</td>\n",
       "      <td>2768924.0</td>\n",
       "      <td>18112.13086</td>\n",
       "      <td>1811213.0</td>\n",
       "      <td>False</td>\n",
       "      <td>NaN</td>\n",
       "      <td>Compliant</td>\n",
       "      <td>NaN</td>\n",
       "      <td>286.43</td>\n",
       "      <td>4.67</td>\n",
       "    </tr>\n",
       "    <tr>\n",
       "      <th>4</th>\n",
       "      <td>8</td>\n",
       "      <td>2016</td>\n",
       "      <td>NonResidential</td>\n",
       "      <td>Hotel</td>\n",
       "      <td>WARWICK SEATTLE HOTEL (ID8)</td>\n",
       "      <td>401 LENORA ST</td>\n",
       "      <td>Seattle</td>\n",
       "      <td>WA</td>\n",
       "      <td>98121.0</td>\n",
       "      <td>0659000970</td>\n",
       "      <td>...</td>\n",
       "      <td>1.573449e+06</td>\n",
       "      <td>5368607.0</td>\n",
       "      <td>88039.98438</td>\n",
       "      <td>8803998.0</td>\n",
       "      <td>False</td>\n",
       "      <td>NaN</td>\n",
       "      <td>Compliant</td>\n",
       "      <td>NaN</td>\n",
       "      <td>505.01</td>\n",
       "      <td>2.88</td>\n",
       "    </tr>\n",
       "  </tbody>\n",
       "</table>\n",
       "<p>5 rows × 46 columns</p>\n",
       "</div>"
      ],
      "text/plain": [
       "   OSEBuildingID  DataYear    BuildingType PrimaryPropertyType  \\\n",
       "0              1      2016  NonResidential               Hotel   \n",
       "1              2      2016  NonResidential               Hotel   \n",
       "2              3      2016  NonResidential               Hotel   \n",
       "3              5      2016  NonResidential               Hotel   \n",
       "4              8      2016  NonResidential               Hotel   \n",
       "\n",
       "                  PropertyName          Address     City State  ZipCode  \\\n",
       "0         Mayflower park hotel    405 Olive way  Seattle    WA  98101.0   \n",
       "1              Paramount Hotel  724 Pine street  Seattle    WA  98101.0   \n",
       "2      5673-The Westin Seattle  1900 5th Avenue  Seattle    WA  98101.0   \n",
       "3                    HOTEL MAX   620 STEWART ST  Seattle    WA  98101.0   \n",
       "4  WARWICK SEATTLE HOTEL (ID8)    401 LENORA ST  Seattle    WA  98121.0   \n",
       "\n",
       "  TaxParcelIdentificationNumber  ...  Electricity(kWh) Electricity(kBtu)  \\\n",
       "0                    0659000030  ...      1.156514e+06         3946027.0   \n",
       "1                    0659000220  ...      9.504252e+05         3242851.0   \n",
       "2                    0659000475  ...      1.451544e+07        49526664.0   \n",
       "3                    0659000640  ...      8.115253e+05         2768924.0   \n",
       "4                    0659000970  ...      1.573449e+06         5368607.0   \n",
       "\n",
       "   NaturalGas(therms)  NaturalGas(kBtu)  DefaultData  Comments  \\\n",
       "0         12764.52930         1276453.0        False       NaN   \n",
       "1         51450.81641         5145082.0        False       NaN   \n",
       "2         14938.00000         1493800.0        False       NaN   \n",
       "3         18112.13086         1811213.0        False       NaN   \n",
       "4         88039.98438         8803998.0        False       NaN   \n",
       "\n",
       "   ComplianceStatus  Outlier  TotalGHGEmissions  GHGEmissionsIntensity  \n",
       "0         Compliant      NaN             249.98                   2.83  \n",
       "1         Compliant      NaN             295.86                   2.86  \n",
       "2         Compliant      NaN            2089.28                   2.19  \n",
       "3         Compliant      NaN             286.43                   4.67  \n",
       "4         Compliant      NaN             505.01                   2.88  \n",
       "\n",
       "[5 rows x 46 columns]"
      ]
     },
     "execution_count": 4,
     "metadata": {},
     "output_type": "execute_result"
    }
   ],
   "source": [
    "raw_data_2016 = pd.read_csv('data/2016-building-energy-benchmarking.csv')\n",
    "print(raw_data_2016.shape)\n",
    "raw_data_2016.head()"
   ]
  },
  {
   "cell_type": "markdown",
   "metadata": {},
   "source": [
    "## Comparaison des deux jeux de données"
   ]
  },
  {
   "cell_type": "markdown",
   "metadata": {},
   "source": [
    "### Variables n'étant pas présentes dans l'un des jeux de données"
   ]
  },
  {
   "cell_type": "markdown",
   "metadata": {},
   "source": [
    "Les deux jeux de données possédent un nombre d'observations similaires, en revanche, nous notons qu'ils ne possédent pas le même nombre de variables. Or, il est indispensable que les deux possédent exactement les mêmes caractéristiques pour pouvoir entraîner (sur les données de 2015) et tester (sur les données de 2016) notre modèle.\n",
    "\n",
    "On va donc commencer par ne garder que les variables communes aux deux années."
   ]
  },
  {
   "cell_type": "code",
   "execution_count": 5,
   "metadata": {
    "ExecuteTime": {
     "end_time": "2020-04-20T20:11:24.073223Z",
     "start_time": "2020-04-20T20:11:24.068240Z"
    }
   },
   "outputs": [
    {
     "name": "stdout",
     "output_type": "stream",
     "text": [
      "37\n"
     ]
    }
   ],
   "source": [
    "features_2015 = raw_data_2015.columns.tolist()\n",
    "features_2016 = raw_data_2016.columns.tolist()\n",
    "features = [c for c in features_2016 if c in features_2015]\n",
    "print(len(features))"
   ]
  },
  {
   "cell_type": "markdown",
   "metadata": {},
   "source": [
    "Dix-neuf variables ne sont pas présentes dans l'un des deux jeux de données, cela représente plus de 30% de nos variables, c'est loin d'être négligeable. Avant de les écarter, regardons les en détail pour voir si elles ne contiennent pas d'éléments clés."
   ]
  },
  {
   "cell_type": "code",
   "execution_count": 6,
   "metadata": {
    "ExecuteTime": {
     "end_time": "2020-04-20T20:11:24.084194Z",
     "start_time": "2020-04-20T20:11:24.077213Z"
    }
   },
   "outputs": [
    {
     "name": "stdout",
     "output_type": "stream",
     "text": [
      "19\n",
      "['Location', 'OtherFuelUse(kBtu)', 'GHGEmissions(MetricTonsCO2e)', 'GHGEmissionsIntensity(kgCO2e/ft2)', 'Comment', '2010 Census Tracts', 'Seattle Police Department Micro Community Policing Plan Areas', 'City Council Districts', 'SPD Beats', 'Zip Codes', 'Address', 'City', 'State', 'ZipCode', 'Latitude', 'Longitude', 'Comments', 'TotalGHGEmissions', 'GHGEmissionsIntensity']\n"
     ]
    }
   ],
   "source": [
    "feat_to_del = [c for c in features_2015 if c not in features] + [c for c in features_2016 if c not in features]\n",
    "print(len(feat_to_del))\n",
    "print(feat_to_del)"
   ]
  },
  {
   "cell_type": "markdown",
   "metadata": {},
   "source": [
    "Nous remarquons que certaines variables semblent très proches :\n",
    "- Location & Latitude/Longitude\n",
    "- GHGEmissions(MetricTonsCO2e) & TotalGHGEmissions\n",
    "- GHGEmissionsIntensity(kgCO2e/ft2) & GHGEmissionsIntensity\n",
    "- Zip Codes & ZipCode\n",
    "- Comment & Comments\n",
    "\n",
    "Commençons par vérifier si ces variables ne seraient pas les mêmes, mais avec des noms différents."
   ]
  },
  {
   "cell_type": "code",
   "execution_count": 7,
   "metadata": {
    "ExecuteTime": {
     "end_time": "2020-04-20T20:11:24.118103Z",
     "start_time": "2020-04-20T20:11:24.086191Z"
    }
   },
   "outputs": [
    {
     "data": {
      "text/html": [
       "<div>\n",
       "<style scoped>\n",
       "    .dataframe tbody tr th:only-of-type {\n",
       "        vertical-align: middle;\n",
       "    }\n",
       "\n",
       "    .dataframe tbody tr th {\n",
       "        vertical-align: top;\n",
       "    }\n",
       "\n",
       "    .dataframe thead th {\n",
       "        text-align: right;\n",
       "    }\n",
       "</style>\n",
       "<table border=\"1\" class=\"dataframe\">\n",
       "  <thead>\n",
       "    <tr style=\"text-align: right;\">\n",
       "      <th></th>\n",
       "      <th>OSEBuildingID</th>\n",
       "      <th>Location</th>\n",
       "      <th>GHGEmissions(MetricTonsCO2e)</th>\n",
       "      <th>GHGEmissionsIntensity(kgCO2e/ft2)</th>\n",
       "      <th>Comment</th>\n",
       "      <th>Zip Codes</th>\n",
       "      <th>ZipCode</th>\n",
       "      <th>Latitude</th>\n",
       "      <th>Longitude</th>\n",
       "      <th>Comments</th>\n",
       "      <th>TotalGHGEmissions</th>\n",
       "      <th>GHGEmissionsIntensity</th>\n",
       "    </tr>\n",
       "  </thead>\n",
       "  <tbody>\n",
       "    <tr>\n",
       "      <th>0</th>\n",
       "      <td>1</td>\n",
       "      <td>{'latitude': '47.61219025', 'longitude': '-122...</td>\n",
       "      <td>249.43</td>\n",
       "      <td>2.64</td>\n",
       "      <td>NaN</td>\n",
       "      <td>18081</td>\n",
       "      <td>98101.0</td>\n",
       "      <td>47.61220</td>\n",
       "      <td>-122.33799</td>\n",
       "      <td>NaN</td>\n",
       "      <td>249.98</td>\n",
       "      <td>2.83</td>\n",
       "    </tr>\n",
       "    <tr>\n",
       "      <th>1</th>\n",
       "      <td>2</td>\n",
       "      <td>{'latitude': '47.61310583', 'longitude': '-122...</td>\n",
       "      <td>263.51</td>\n",
       "      <td>2.38</td>\n",
       "      <td>NaN</td>\n",
       "      <td>18081</td>\n",
       "      <td>98101.0</td>\n",
       "      <td>47.61317</td>\n",
       "      <td>-122.33393</td>\n",
       "      <td>NaN</td>\n",
       "      <td>295.86</td>\n",
       "      <td>2.86</td>\n",
       "    </tr>\n",
       "    <tr>\n",
       "      <th>2</th>\n",
       "      <td>3</td>\n",
       "      <td>{'latitude': '47.61334897', 'longitude': '-122...</td>\n",
       "      <td>2061.48</td>\n",
       "      <td>1.92</td>\n",
       "      <td>NaN</td>\n",
       "      <td>18081</td>\n",
       "      <td>98101.0</td>\n",
       "      <td>47.61393</td>\n",
       "      <td>-122.33810</td>\n",
       "      <td>NaN</td>\n",
       "      <td>2089.28</td>\n",
       "      <td>2.19</td>\n",
       "    </tr>\n",
       "    <tr>\n",
       "      <th>3</th>\n",
       "      <td>5</td>\n",
       "      <td>{'latitude': '47.61421585', 'longitude': '-122...</td>\n",
       "      <td>1936.34</td>\n",
       "      <td>31.38</td>\n",
       "      <td>NaN</td>\n",
       "      <td>18081</td>\n",
       "      <td>98101.0</td>\n",
       "      <td>47.61412</td>\n",
       "      <td>-122.33664</td>\n",
       "      <td>NaN</td>\n",
       "      <td>286.43</td>\n",
       "      <td>4.67</td>\n",
       "    </tr>\n",
       "    <tr>\n",
       "      <th>4</th>\n",
       "      <td>8</td>\n",
       "      <td>{'latitude': '47.6137544', 'longitude': '-122....</td>\n",
       "      <td>507.70</td>\n",
       "      <td>4.02</td>\n",
       "      <td>NaN</td>\n",
       "      <td>19576</td>\n",
       "      <td>98121.0</td>\n",
       "      <td>47.61375</td>\n",
       "      <td>-122.34047</td>\n",
       "      <td>NaN</td>\n",
       "      <td>505.01</td>\n",
       "      <td>2.88</td>\n",
       "    </tr>\n",
       "  </tbody>\n",
       "</table>\n",
       "</div>"
      ],
      "text/plain": [
       "   OSEBuildingID                                           Location  \\\n",
       "0              1  {'latitude': '47.61219025', 'longitude': '-122...   \n",
       "1              2  {'latitude': '47.61310583', 'longitude': '-122...   \n",
       "2              3  {'latitude': '47.61334897', 'longitude': '-122...   \n",
       "3              5  {'latitude': '47.61421585', 'longitude': '-122...   \n",
       "4              8  {'latitude': '47.6137544', 'longitude': '-122....   \n",
       "\n",
       "   GHGEmissions(MetricTonsCO2e)  GHGEmissionsIntensity(kgCO2e/ft2) Comment  \\\n",
       "0                        249.43                               2.64     NaN   \n",
       "1                        263.51                               2.38     NaN   \n",
       "2                       2061.48                               1.92     NaN   \n",
       "3                       1936.34                              31.38     NaN   \n",
       "4                        507.70                               4.02     NaN   \n",
       "\n",
       "   Zip Codes  ZipCode  Latitude  Longitude  Comments  TotalGHGEmissions  \\\n",
       "0      18081  98101.0  47.61220 -122.33799       NaN             249.98   \n",
       "1      18081  98101.0  47.61317 -122.33393       NaN             295.86   \n",
       "2      18081  98101.0  47.61393 -122.33810       NaN            2089.28   \n",
       "3      18081  98101.0  47.61412 -122.33664       NaN             286.43   \n",
       "4      19576  98121.0  47.61375 -122.34047       NaN             505.01   \n",
       "\n",
       "   GHGEmissionsIntensity  \n",
       "0                   2.83  \n",
       "1                   2.86  \n",
       "2                   2.19  \n",
       "3                   4.67  \n",
       "4                   2.88  "
      ]
     },
     "execution_count": 7,
     "metadata": {},
     "output_type": "execute_result"
    }
   ],
   "source": [
    "feat_to_check = ['Location', 'Latitude', 'Longitude',\n",
    "                 'GHGEmissions(MetricTonsCO2e)', 'TotalGHGEmissions',\n",
    "                 'GHGEmissionsIntensity(kgCO2e/ft2)', 'GHGEmissionsIntensity',\n",
    "                 'Zip Codes', 'ZipCode',\n",
    "                 'Comment', 'Comments']\n",
    "key = 'OSEBuildingID'\n",
    "feat_to_check += [key]\n",
    "\n",
    "# keep only the features to be checked for each dataset\n",
    "df_2015 = raw_data_2015.loc[:, raw_data_2015.columns.isin(feat_to_check)]\n",
    "df_2016 = raw_data_2016.loc[:, raw_data_2016.columns.isin(feat_to_check)]\n",
    "\n",
    "# use the feature 'OSEBuildingID' to merge datasets\n",
    "df = pd.merge(df_2015, df_2016, on=key)\n",
    "df.head()"
   ]
  },
  {
   "cell_type": "markdown",
   "metadata": {},
   "source": [
    "En dehors des variables ZipCodes et ZipCode, il s'agit bien des mêmes variables. En fait la variable **Localisation** de 2015 contient toutes les variables suivantes :\n",
    "- Latitude\n",
    "- Longitude\n",
    "- Adress\n",
    "- City\n",
    "- State\n",
    "- ZipCode\n",
    "\n",
    "Extrayons toutes ces variables de **Localisation**."
   ]
  },
  {
   "cell_type": "markdown",
   "metadata": {},
   "source": [
    "### Traitement de la variable localisation"
   ]
  },
  {
   "cell_type": "markdown",
   "metadata": {},
   "source": [
    "Comme nous avons précédemment, plusieurs variables de 2016 sont réunis dans la variable *Localisation* sous forme de dictionnaire. Nous allons recréer ces variables en les extrayant de *Localisation*."
   ]
  },
  {
   "cell_type": "code",
   "execution_count": 8,
   "metadata": {
    "ExecuteTime": {
     "end_time": "2020-04-20T20:11:25.438574Z",
     "start_time": "2020-04-20T20:11:24.122095Z"
    }
   },
   "outputs": [],
   "source": [
    "import ast\n",
    "\n",
    "data_2015 = pd.concat([raw_data_2015.drop('Location', axis=1), # Delete 'Location' column\n",
    "                       raw_data_2015['Location'].apply(ast.literal_eval) # Convert string into dictionary\n",
    "                                                .apply(pd.Series)], # Split the dictionary into columns\n",
    "                      axis=1)"
   ]
  },
  {
   "cell_type": "markdown",
   "metadata": {},
   "source": [
    "Il reste encore à séparer les données de human_address en plusieurs colonnes."
   ]
  },
  {
   "cell_type": "code",
   "execution_count": 9,
   "metadata": {
    "ExecuteTime": {
     "end_time": "2020-04-20T20:11:26.795154Z",
     "start_time": "2020-04-20T20:11:25.443562Z"
    }
   },
   "outputs": [],
   "source": [
    "data_2015 = pd.concat([data_2015.drop('human_address', axis=1), # Delete 'human_address' column\n",
    "                       data_2015['human_address'].apply(ast.literal_eval) # Convert string into dictionary\n",
    "                                                 .apply(pd.Series)], # Split the dictionary into columns\n",
    "                      axis=1)"
   ]
  },
  {
   "cell_type": "markdown",
   "metadata": {},
   "source": [
    "### Renommer les variables de 2015 comme celles de 2016"
   ]
  },
  {
   "cell_type": "code",
   "execution_count": 10,
   "metadata": {
    "ExecuteTime": {
     "end_time": "2020-04-20T20:11:26.805062Z",
     "start_time": "2020-04-20T20:11:26.796058Z"
    }
   },
   "outputs": [],
   "source": [
    "data_2015.rename(columns={'GHGEmissions(MetricTonsCO2e)': 'TotalGHGEmissions',\n",
    "                  'GHGEmissionsIntensity(kgCO2e/ft2)': 'GHGEmissionsIntensity',\n",
    "                  'Comment': 'Comments',\n",
    "                  'latitude': 'Latitude',\n",
    "                  'longitude': 'Longitude',\n",
    "                  'address': 'Address',\n",
    "                  'city': 'City',\n",
    "                  'state': 'State',\n",
    "                  'zip': 'ZipCode'},\n",
    "                 inplace=True)"
   ]
  },
  {
   "cell_type": "markdown",
   "metadata": {},
   "source": [
    "Il ne reste plus qu'à vérifier que toutes les variables de 2016 sont bien présentes dans le jeu de données de 2015."
   ]
  },
  {
   "cell_type": "code",
   "execution_count": 11,
   "metadata": {
    "ExecuteTime": {
     "end_time": "2020-04-20T20:11:26.812040Z",
     "start_time": "2020-04-20T20:11:26.807031Z"
    }
   },
   "outputs": [
    {
     "name": "stdout",
     "output_type": "stream",
     "text": [
      "46\n"
     ]
    }
   ],
   "source": [
    "features_2015 = data_2015.columns.tolist()\n",
    "features_2016 = raw_data_2016.columns.tolist()\n",
    "features = [c for c in features_2016 if c in features_2015]\n",
    "print(len(features))"
   ]
  },
  {
   "cell_type": "markdown",
   "metadata": {},
   "source": [
    "C'est bon, toutes les variables de 2016 sont bien présentes dans le jeu de données de 2015. Il nous reste maintenant à traiter les variables de 2015 non présentes dans le jeu de données de 2016."
   ]
  },
  {
   "cell_type": "markdown",
   "metadata": {},
   "source": [
    "### Variables non présentes dans le jeu de données 2016"
   ]
  },
  {
   "cell_type": "code",
   "execution_count": 12,
   "metadata": {
    "ExecuteTime": {
     "end_time": "2020-04-20T20:11:26.818998Z",
     "start_time": "2020-04-20T20:11:26.814012Z"
    }
   },
   "outputs": [
    {
     "name": "stdout",
     "output_type": "stream",
     "text": [
      "['OtherFuelUse(kBtu)', '2010 Census Tracts', 'Seattle Police Department Micro Community Policing Plan Areas', 'City Council Districts', 'SPD Beats', 'Zip Codes']\n"
     ]
    }
   ],
   "source": [
    "features = [c for c in features_2015 if c not in features_2016]\n",
    "print(features)"
   ]
  },
  {
   "cell_type": "markdown",
   "metadata": {},
   "source": [
    "Voici la liste des variables manquantes :\n",
    "\n",
    "Ayant accès à la localisation il est peu pertinent de les garder. C'est d'ailleurs le cas pour toutes les variables ci dessous :\n",
    "- OtherFuelUse(kBtu)\n",
    "- 2010 Census Tracts\n",
    "- Seattle Police Department Micro Community Policing Plan Areas\n",
    "- City Council Districts\n",
    "- SPD Beats (ils s'agit de zone de délimitation, elles sont au nombre de cinq à Seattle)\n",
    "- Zip Codes\n",
    "\n",
    "Les cinq dernières ne devraient pas changer d'une année à l'autre, et peuvent donc être intégrée au jeu de données de 2016 en reprenant les même valeurs que celles de 2015.\n",
    "\n",
    "En revanche, ce n'est pas le cas pour **OtherFuelUse(kBtu)**. Il faudra vérifier si on ne peut pas l'obtenir via d'autres variables. Si ce n'est pas le cas, alors il faudra voir si ses valeurs sont négligeables par rapport aux autres sources de consommation."
   ]
  },
  {
   "cell_type": "markdown",
   "metadata": {},
   "source": [
    "### Ajout des variables manquantes pour le jeu de données de 2016"
   ]
  },
  {
   "cell_type": "code",
   "execution_count": 13,
   "metadata": {
    "ExecuteTime": {
     "end_time": "2020-04-20T20:11:26.846957Z",
     "start_time": "2020-04-20T20:11:26.821989Z"
    }
   },
   "outputs": [],
   "source": [
    "feat_to_add =['OSEBuildingID', '2010 Census Tracts',\n",
    "              'Seattle Police Department Micro Community Policing Plan Areas',\n",
    "              'City Council Districts',\n",
    "              'SPD Beats',\n",
    "              'Zip Codes']\n",
    "\n",
    "data_2016 = pd.merge(raw_data_2016, data_2015[feat_to_add], how='left', on='OSEBuildingID')"
   ]
  },
  {
   "cell_type": "markdown",
   "metadata": {},
   "source": [
    "### Traitement de la variable OtherFuelUse(kBtu)"
   ]
  },
  {
   "cell_type": "markdown",
   "metadata": {},
   "source": [
    "Nous allons commencer par regarder s'il est possible de calculer cette variable à partir de la consommation totale et des autres sources d'énergie.\n",
    "\n",
    "Puis nous diviserons la différence entre le calcul et la variable *OtherFuelUse(kBtu)* par la consommation totale *SiteEnergyUse(kBtu)*. Cela permettra de vérifier si la différence est négligeable et donc de valider le calcul."
   ]
  },
  {
   "cell_type": "code",
   "execution_count": 14,
   "metadata": {
    "ExecuteTime": {
     "end_time": "2020-04-20T20:11:26.863913Z",
     "start_time": "2020-04-20T20:11:26.847919Z"
    }
   },
   "outputs": [],
   "source": [
    "df = data_2015[['SiteEnergyUse(kBtu)', 'SiteEnergyUseWN(kBtu)',\n",
    "                'SteamUse(kBtu)', 'Electricity(kBtu)', 'NaturalGas(kBtu)', 'OtherFuelUse(kBtu)']].copy()\n",
    "\n",
    "df['Other_calc'] = df.iloc[:, 0] - df.iloc[:, 2:].sum(axis=1)\n",
    "df['Other_calc'] = df['Other_calc'] / df.iloc[:, 0]"
   ]
  },
  {
   "cell_type": "code",
   "execution_count": 15,
   "metadata": {
    "ExecuteTime": {
     "end_time": "2020-04-20T20:11:26.899820Z",
     "start_time": "2020-04-20T20:11:26.864912Z"
    }
   },
   "outputs": [
    {
     "data": {
      "text/html": [
       "<div>\n",
       "<style scoped>\n",
       "    .dataframe tbody tr th:only-of-type {\n",
       "        vertical-align: middle;\n",
       "    }\n",
       "\n",
       "    .dataframe tbody tr th {\n",
       "        vertical-align: top;\n",
       "    }\n",
       "\n",
       "    .dataframe thead th {\n",
       "        text-align: right;\n",
       "    }\n",
       "</style>\n",
       "<table border=\"1\" class=\"dataframe\">\n",
       "  <thead>\n",
       "    <tr style=\"text-align: right;\">\n",
       "      <th></th>\n",
       "      <th>SiteEnergyUse(kBtu)</th>\n",
       "      <th>SiteEnergyUseWN(kBtu)</th>\n",
       "      <th>SteamUse(kBtu)</th>\n",
       "      <th>Electricity(kBtu)</th>\n",
       "      <th>NaturalGas(kBtu)</th>\n",
       "      <th>OtherFuelUse(kBtu)</th>\n",
       "      <th>Other_calc</th>\n",
       "    </tr>\n",
       "  </thead>\n",
       "  <tbody>\n",
       "    <tr>\n",
       "      <th>count</th>\n",
       "      <td>3.330000e+03</td>\n",
       "      <td>3.330000e+03</td>\n",
       "      <td>3.330000e+03</td>\n",
       "      <td>3.330000e+03</td>\n",
       "      <td>3.330000e+03</td>\n",
       "      <td>3.330000e+03</td>\n",
       "      <td>3328.000000</td>\n",
       "    </tr>\n",
       "    <tr>\n",
       "      <th>mean</th>\n",
       "      <td>4.983106e+06</td>\n",
       "      <td>5.203055e+06</td>\n",
       "      <td>2.502851e+05</td>\n",
       "      <td>3.473209e+06</td>\n",
       "      <td>1.253304e+06</td>\n",
       "      <td>7.142301e+03</td>\n",
       "      <td>-0.000246</td>\n",
       "    </tr>\n",
       "    <tr>\n",
       "      <th>std</th>\n",
       "      <td>1.375330e+07</td>\n",
       "      <td>1.400757e+07</td>\n",
       "      <td>3.481900e+06</td>\n",
       "      <td>9.519639e+06</td>\n",
       "      <td>4.415142e+06</td>\n",
       "      <td>1.962790e+05</td>\n",
       "      <td>0.007625</td>\n",
       "    </tr>\n",
       "    <tr>\n",
       "      <th>min</th>\n",
       "      <td>0.000000e+00</td>\n",
       "      <td>0.000000e+00</td>\n",
       "      <td>0.000000e+00</td>\n",
       "      <td>0.000000e+00</td>\n",
       "      <td>0.000000e+00</td>\n",
       "      <td>0.000000e+00</td>\n",
       "      <td>-0.314228</td>\n",
       "    </tr>\n",
       "    <tr>\n",
       "      <th>25%</th>\n",
       "      <td>9.139300e+05</td>\n",
       "      <td>9.883248e+05</td>\n",
       "      <td>0.000000e+00</td>\n",
       "      <td>6.363322e+05</td>\n",
       "      <td>0.000000e+00</td>\n",
       "      <td>0.000000e+00</td>\n",
       "      <td>-0.000041</td>\n",
       "    </tr>\n",
       "    <tr>\n",
       "      <th>50%</th>\n",
       "      <td>1.776219e+06</td>\n",
       "      <td>1.953996e+06</td>\n",
       "      <td>0.000000e+00</td>\n",
       "      <td>1.160236e+06</td>\n",
       "      <td>2.945770e+05</td>\n",
       "      <td>0.000000e+00</td>\n",
       "      <td>-0.000033</td>\n",
       "    </tr>\n",
       "    <tr>\n",
       "      <th>75%</th>\n",
       "      <td>4.044277e+06</td>\n",
       "      <td>4.368462e+06</td>\n",
       "      <td>0.000000e+00</td>\n",
       "      <td>2.750847e+06</td>\n",
       "      <td>1.115366e+06</td>\n",
       "      <td>0.000000e+00</td>\n",
       "      <td>-0.000022</td>\n",
       "    </tr>\n",
       "    <tr>\n",
       "      <th>max</th>\n",
       "      <td>2.958126e+08</td>\n",
       "      <td>2.977410e+08</td>\n",
       "      <td>1.278697e+08</td>\n",
       "      <td>2.847263e+08</td>\n",
       "      <td>1.364484e+08</td>\n",
       "      <td>8.269669e+06</td>\n",
       "      <td>0.000001</td>\n",
       "    </tr>\n",
       "  </tbody>\n",
       "</table>\n",
       "</div>"
      ],
      "text/plain": [
       "       SiteEnergyUse(kBtu)  SiteEnergyUseWN(kBtu)  SteamUse(kBtu)  \\\n",
       "count         3.330000e+03           3.330000e+03    3.330000e+03   \n",
       "mean          4.983106e+06           5.203055e+06    2.502851e+05   \n",
       "std           1.375330e+07           1.400757e+07    3.481900e+06   \n",
       "min           0.000000e+00           0.000000e+00    0.000000e+00   \n",
       "25%           9.139300e+05           9.883248e+05    0.000000e+00   \n",
       "50%           1.776219e+06           1.953996e+06    0.000000e+00   \n",
       "75%           4.044277e+06           4.368462e+06    0.000000e+00   \n",
       "max           2.958126e+08           2.977410e+08    1.278697e+08   \n",
       "\n",
       "       Electricity(kBtu)  NaturalGas(kBtu)  OtherFuelUse(kBtu)   Other_calc  \n",
       "count       3.330000e+03      3.330000e+03        3.330000e+03  3328.000000  \n",
       "mean        3.473209e+06      1.253304e+06        7.142301e+03    -0.000246  \n",
       "std         9.519639e+06      4.415142e+06        1.962790e+05     0.007625  \n",
       "min         0.000000e+00      0.000000e+00        0.000000e+00    -0.314228  \n",
       "25%         6.363322e+05      0.000000e+00        0.000000e+00    -0.000041  \n",
       "50%         1.160236e+06      2.945770e+05        0.000000e+00    -0.000033  \n",
       "75%         2.750847e+06      1.115366e+06        0.000000e+00    -0.000022  \n",
       "max         2.847263e+08      1.364484e+08        8.269669e+06     0.000001  "
      ]
     },
     "execution_count": 15,
     "metadata": {},
     "output_type": "execute_result"
    }
   ],
   "source": [
    "df.describe()"
   ]
  },
  {
   "cell_type": "markdown",
   "metadata": {},
   "source": [
    "Pour la majorité des bâtiments, la différence est marginale par rapport à la consommation totale (<0.1%). A noter que les valeurs obtenues après cacul sont sytématiquement plus faibles .\n",
    "\n",
    "Nous observons de plus, que pour au moins une des observations, la différence est significative, représentant plus de 30% de la consommation totale.  \n",
    "Vérifions s'il s'agit d'un cas isolé en affichant toutes les observations dont la différence représente plus de 1% de la consommation totale."
   ]
  },
  {
   "cell_type": "code",
   "execution_count": 16,
   "metadata": {
    "ExecuteTime": {
     "end_time": "2020-04-20T20:11:26.916762Z",
     "start_time": "2020-04-20T20:11:26.900778Z"
    }
   },
   "outputs": [
    {
     "name": "stdout",
     "output_type": "stream",
     "text": [
      "3\n"
     ]
    },
    {
     "data": {
      "text/html": [
       "<div>\n",
       "<style scoped>\n",
       "    .dataframe tbody tr th:only-of-type {\n",
       "        vertical-align: middle;\n",
       "    }\n",
       "\n",
       "    .dataframe tbody tr th {\n",
       "        vertical-align: top;\n",
       "    }\n",
       "\n",
       "    .dataframe thead th {\n",
       "        text-align: right;\n",
       "    }\n",
       "</style>\n",
       "<table border=\"1\" class=\"dataframe\">\n",
       "  <thead>\n",
       "    <tr style=\"text-align: right;\">\n",
       "      <th></th>\n",
       "      <th>SiteEnergyUse(kBtu)</th>\n",
       "      <th>SiteEnergyUseWN(kBtu)</th>\n",
       "      <th>SteamUse(kBtu)</th>\n",
       "      <th>Electricity(kBtu)</th>\n",
       "      <th>NaturalGas(kBtu)</th>\n",
       "      <th>OtherFuelUse(kBtu)</th>\n",
       "      <th>Other_calc</th>\n",
       "    </tr>\n",
       "  </thead>\n",
       "  <tbody>\n",
       "    <tr>\n",
       "      <th>564</th>\n",
       "      <td>5288304.0</td>\n",
       "      <td>5288304.0</td>\n",
       "      <td>0.0</td>\n",
       "      <td>5288523.0</td>\n",
       "      <td>618364.0</td>\n",
       "      <td>0.0</td>\n",
       "      <td>-0.116972</td>\n",
       "    </tr>\n",
       "    <tr>\n",
       "      <th>1201</th>\n",
       "      <td>1554939.0</td>\n",
       "      <td>2129737.0</td>\n",
       "      <td>0.0</td>\n",
       "      <td>1482658.0</td>\n",
       "      <td>560886.0</td>\n",
       "      <td>0.0</td>\n",
       "      <td>-0.314228</td>\n",
       "    </tr>\n",
       "    <tr>\n",
       "      <th>1308</th>\n",
       "      <td>4217108.0</td>\n",
       "      <td>4217108.0</td>\n",
       "      <td>0.0</td>\n",
       "      <td>4217284.0</td>\n",
       "      <td>1201563.0</td>\n",
       "      <td>0.0</td>\n",
       "      <td>-0.284968</td>\n",
       "    </tr>\n",
       "  </tbody>\n",
       "</table>\n",
       "</div>"
      ],
      "text/plain": [
       "      SiteEnergyUse(kBtu)  SiteEnergyUseWN(kBtu)  SteamUse(kBtu)  \\\n",
       "564             5288304.0              5288304.0             0.0   \n",
       "1201            1554939.0              2129737.0             0.0   \n",
       "1308            4217108.0              4217108.0             0.0   \n",
       "\n",
       "      Electricity(kBtu)  NaturalGas(kBtu)  OtherFuelUse(kBtu)  Other_calc  \n",
       "564           5288523.0          618364.0                 0.0   -0.116972  \n",
       "1201          1482658.0          560886.0                 0.0   -0.314228  \n",
       "1308          4217284.0         1201563.0                 0.0   -0.284968  "
      ]
     },
     "execution_count": 16,
     "metadata": {},
     "output_type": "execute_result"
    }
   ],
   "source": [
    "outliers = df[df['Other_calc'].abs()>0.001]\n",
    "print(outliers.shape[0])\n",
    "outliers"
   ]
  },
  {
   "cell_type": "markdown",
   "metadata": {},
   "source": [
    "Ces valeurs anomaliques sont seulement au nombre de trois. En y regardant de plus près, nous notons que pour deux d'entre elles la consommation en électricité seule est supérieure à la consommation totale, ce qui est impossible. Il s'agit probablement d'outliers, vérifions s'ils ont été étiquetés comme tels grâce à la variable *Outlier*."
   ]
  },
  {
   "cell_type": "code",
   "execution_count": 17,
   "metadata": {
    "ExecuteTime": {
     "end_time": "2020-04-20T20:11:26.929701Z",
     "start_time": "2020-04-20T20:11:26.917733Z"
    }
   },
   "outputs": [
    {
     "data": {
      "text/html": [
       "<div>\n",
       "<style scoped>\n",
       "    .dataframe tbody tr th:only-of-type {\n",
       "        vertical-align: middle;\n",
       "    }\n",
       "\n",
       "    .dataframe tbody tr th {\n",
       "        vertical-align: top;\n",
       "    }\n",
       "\n",
       "    .dataframe thead th {\n",
       "        text-align: right;\n",
       "    }\n",
       "</style>\n",
       "<table border=\"1\" class=\"dataframe\">\n",
       "  <thead>\n",
       "    <tr style=\"text-align: right;\">\n",
       "      <th></th>\n",
       "      <th>SiteEnergyUse(kBtu)</th>\n",
       "      <th>Electricity(kBtu)</th>\n",
       "      <th>Outlier</th>\n",
       "    </tr>\n",
       "  </thead>\n",
       "  <tbody>\n",
       "    <tr>\n",
       "      <th>564</th>\n",
       "      <td>5288304.0</td>\n",
       "      <td>5288523.0</td>\n",
       "      <td>NaN</td>\n",
       "    </tr>\n",
       "    <tr>\n",
       "      <th>1201</th>\n",
       "      <td>1554939.0</td>\n",
       "      <td>1482658.0</td>\n",
       "      <td>NaN</td>\n",
       "    </tr>\n",
       "    <tr>\n",
       "      <th>1308</th>\n",
       "      <td>4217108.0</td>\n",
       "      <td>4217284.0</td>\n",
       "      <td>NaN</td>\n",
       "    </tr>\n",
       "  </tbody>\n",
       "</table>\n",
       "</div>"
      ],
      "text/plain": [
       "      SiteEnergyUse(kBtu)  Electricity(kBtu) Outlier\n",
       "564             5288304.0          5288523.0     NaN\n",
       "1201            1554939.0          1482658.0     NaN\n",
       "1308            4217108.0          4217284.0     NaN"
      ]
     },
     "execution_count": 17,
     "metadata": {},
     "output_type": "execute_result"
    }
   ],
   "source": [
    "idx = outliers.index\n",
    "data_2015.loc[idx, ['SiteEnergyUse(kBtu)', 'Electricity(kBtu)', 'Outlier']]"
   ]
  },
  {
   "cell_type": "markdown",
   "metadata": {},
   "source": [
    "Ces observations n'ont pas été étiquetées comme outliers, mais elles le sont p"
   ]
  },
  {
   "cell_type": "code",
   "execution_count": 18,
   "metadata": {
    "ExecuteTime": {
     "end_time": "2020-04-20T20:11:26.944661Z",
     "start_time": "2020-04-20T20:11:26.930698Z"
    }
   },
   "outputs": [
    {
     "data": {
      "text/plain": [
       "count    3328.000000\n",
       "mean        3.412217\n",
       "std         0.004412\n",
       "min         3.411612\n",
       "25%         3.412139\n",
       "50%         3.412142\n",
       "75%         3.412143\n",
       "max         3.666667\n",
       "dtype: float64"
      ]
     },
     "execution_count": 18,
     "metadata": {},
     "output_type": "execute_result"
    }
   ],
   "source": [
    "test_elec = data_2015['Electricity(kBtu)'] / data_2015['Electricity(kWh)']\n",
    "test_elec.describe()"
   ]
  },
  {
   "cell_type": "code",
   "execution_count": 27,
   "metadata": {
    "ExecuteTime": {
     "end_time": "2020-04-21T07:33:41.176317Z",
     "start_time": "2020-04-21T07:33:41.166344Z"
    }
   },
   "outputs": [
    {
     "data": {
      "text/plain": [
       "count    2074.000000\n",
       "mean      100.027864\n",
       "std         0.838721\n",
       "min        91.250000\n",
       "25%        99.997525\n",
       "50%       100.000000\n",
       "75%       100.002271\n",
       "max       122.000000\n",
       "dtype: float64"
      ]
     },
     "execution_count": 27,
     "metadata": {},
     "output_type": "execute_result"
    }
   ],
   "source": [
    "test_gas = data_2015['NaturalGas(kBtu)'] / data_2015['NaturalGas(therms)']\n",
    "test_gas.describe()"
   ]
  },
  {
   "cell_type": "code",
   "execution_count": 28,
   "metadata": {
    "ExecuteTime": {
     "end_time": "2020-04-21T08:04:52.243341Z",
     "start_time": "2020-04-21T08:04:52.234400Z"
    }
   },
   "outputs": [
    {
     "data": {
      "text/plain": [
       "count    3328.000000\n",
       "mean       -0.021069\n",
       "std         0.249590\n",
       "min        -4.581702\n",
       "25%        -0.002220\n",
       "50%        -0.000047\n",
       "75%         0.001617\n",
       "max         2.295078\n",
       "dtype: float64"
      ]
     },
     "execution_count": 28,
     "metadata": {},
     "output_type": "execute_result"
    }
   ],
   "source": [
    "test_tot = data_2015['SiteEnergyUse(kBtu)'] - data_2015['SiteEUI(kBtu/sf)']*data_2015['PropertyGFABuilding(s)']\n",
    "test_tot = test_tot/data_2015['SiteEnergyUse(kBtu)']\n",
    "test_tot.describe()"
   ]
  },
  {
   "cell_type": "code",
   "execution_count": 29,
   "metadata": {
    "ExecuteTime": {
     "end_time": "2020-04-21T08:06:39.063362Z",
     "start_time": "2020-04-21T08:06:39.058376Z"
    }
   },
   "outputs": [
    {
     "data": {
      "text/plain": [
       "1429"
      ]
     },
     "execution_count": 29,
     "metadata": {},
     "output_type": "execute_result"
    }
   ],
   "source": [
    "test_tot[test_tot.abs()>0.01].size"
   ]
  },
  {
   "cell_type": "code",
   "execution_count": 23,
   "metadata": {
    "ExecuteTime": {
     "end_time": "2020-04-20T20:11:27.010516Z",
     "start_time": "2020-04-20T20:11:27.000512Z"
    }
   },
   "outputs": [
    {
     "data": {
      "text/plain": [
       "count    3328.000000\n",
       "mean       -0.000042\n",
       "std         0.000032\n",
       "min        -0.000343\n",
       "25%        -0.000062\n",
       "50%        -0.000034\n",
       "75%        -0.000017\n",
       "max         0.000027\n",
       "dtype: float64"
      ]
     },
     "execution_count": 23,
     "metadata": {},
     "output_type": "execute_result"
    }
   ],
   "source": [
    "test_gfa = data_2015['PropertyGFATotal'] - (data_2015['PropertyGFAParking']+data_2015['PropertyGFABuilding(s)'])\n",
    "test_gfa = test_tot/data_2015['PropertyGFATotal']\n",
    "test_gfa.describe()"
   ]
  },
  {
   "cell_type": "code",
   "execution_count": 24,
   "metadata": {
    "ExecuteTime": {
     "end_time": "2020-04-20T20:11:27.018480Z",
     "start_time": "2020-04-20T20:11:27.011481Z"
    }
   },
   "outputs": [
    {
     "data": {
      "text/plain": [
       "High Outlier    46\n",
       "Low Outlier     38\n",
       "Name: Outlier, dtype: int64"
      ]
     },
     "execution_count": 24,
     "metadata": {},
     "output_type": "execute_result"
    }
   ],
   "source": [
    "data_2015['Outlier'].value_counts()"
   ]
  },
  {
   "cell_type": "code",
   "execution_count": 25,
   "metadata": {
    "ExecuteTime": {
     "end_time": "2020-04-20T20:11:27.027440Z",
     "start_time": "2020-04-20T20:11:27.020460Z"
    }
   },
   "outputs": [
    {
     "data": {
      "text/plain": [
       "Index(['OSEBuildingID', 'DataYear', 'BuildingType', 'PrimaryPropertyType',\n",
       "       'PropertyName', 'TaxParcelIdentificationNumber', 'CouncilDistrictCode',\n",
       "       'Neighborhood', 'YearBuilt', 'NumberofBuildings', 'NumberofFloors',\n",
       "       'PropertyGFATotal', 'PropertyGFAParking', 'PropertyGFABuilding(s)',\n",
       "       'ListOfAllPropertyUseTypes', 'LargestPropertyUseType',\n",
       "       'LargestPropertyUseTypeGFA', 'SecondLargestPropertyUseType',\n",
       "       'SecondLargestPropertyUseTypeGFA', 'ThirdLargestPropertyUseType',\n",
       "       'ThirdLargestPropertyUseTypeGFA', 'YearsENERGYSTARCertified',\n",
       "       'ENERGYSTARScore', 'SiteEUI(kBtu/sf)', 'SiteEUIWN(kBtu/sf)',\n",
       "       'SourceEUI(kBtu/sf)', 'SourceEUIWN(kBtu/sf)', 'SiteEnergyUse(kBtu)',\n",
       "       'SiteEnergyUseWN(kBtu)', 'SteamUse(kBtu)', 'Electricity(kWh)',\n",
       "       'Electricity(kBtu)', 'NaturalGas(therms)', 'NaturalGas(kBtu)',\n",
       "       'OtherFuelUse(kBtu)', 'TotalGHGEmissions', 'GHGEmissionsIntensity',\n",
       "       'DefaultData', 'Comments', 'ComplianceStatus', 'Outlier',\n",
       "       '2010 Census Tracts',\n",
       "       'Seattle Police Department Micro Community Policing Plan Areas',\n",
       "       'City Council Districts', 'SPD Beats', 'Zip Codes', 'Latitude',\n",
       "       'Longitude', 'Address', 'City', 'State', 'ZipCode'],\n",
       "      dtype='object')"
      ]
     },
     "execution_count": 25,
     "metadata": {},
     "output_type": "execute_result"
    }
   ],
   "source": [
    "data_2015.columns"
   ]
  }
 ],
 "metadata": {
  "kernelspec": {
   "display_name": "Python 3",
   "language": "python",
   "name": "python3"
  },
  "language_info": {
   "codemirror_mode": {
    "name": "ipython",
    "version": 3
   },
   "file_extension": ".py",
   "mimetype": "text/x-python",
   "name": "python",
   "nbconvert_exporter": "python",
   "pygments_lexer": "ipython3",
   "version": "3.7.4"
  },
  "toc": {
   "base_numbering": 1,
   "nav_menu": {},
   "number_sections": true,
   "sideBar": true,
   "skip_h1_title": true,
   "title_cell": "Table of Contents",
   "title_sidebar": "Contents",
   "toc_cell": true,
   "toc_position": {},
   "toc_section_display": true,
   "toc_window_display": true
  }
 },
 "nbformat": 4,
 "nbformat_minor": 4
}
