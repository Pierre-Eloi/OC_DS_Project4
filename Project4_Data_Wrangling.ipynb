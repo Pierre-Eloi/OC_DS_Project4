{
 "cells": [
  {
   "cell_type": "markdown",
   "metadata": {},
   "source": [
    "# Projet 4 : Anticiper les besoins en consommation électrique de bâtiments\n",
    "*Pierre-Eloi Ragetly*\n",
    "\n",
    "Ce projet fait parti du parcours *DataScientist* d'OpenClassrooms.\n",
    "\n",
    "L'objectif principal est de trouver un modèle permettant de prédire **les émissions de CO2 et la consommation totale d’énergie de bâtiments non destinés à l'habitation.**\n",
    "\n",
    "Pour cela nous disposons des données de la ville de Seattle pour les années 2015 et 2016. Ces données sont à récupérer sur le site kaggle."
   ]
  },
  {
   "cell_type": "markdown",
   "metadata": {},
   "source": [
    "# Partie I : Data Wrangling\n",
    "\n",
    "Ce notebook a pour but de présenter les données et de décrire les opérations nécessaire au nettoyage afin d'obtenir un format adapté à l'analyse et la modélisation."
   ]
  },
  {
   "cell_type": "code",
   "execution_count": 1,
   "metadata": {
    "ExecuteTime": {
     "end_time": "2020-05-10T10:31:20.332747Z",
     "start_time": "2020-05-10T10:31:19.442277Z"
    }
   },
   "outputs": [],
   "source": [
    "# Import des librairies usuelles\n",
    "%matplotlib inline\n",
    "import matplotlib.pyplot as plt\n",
    "import numpy as np\n",
    "import scipy.stats as stats\n",
    "import pandas as pd\n",
    "import seaborn as sns"
   ]
  },
  {
   "cell_type": "code",
   "execution_count": 2,
   "metadata": {
    "ExecuteTime": {
     "end_time": "2020-05-10T10:31:20.339751Z",
     "start_time": "2020-05-10T10:31:20.333730Z"
    }
   },
   "outputs": [],
   "source": [
    "# Change some default parameters of matplotlib using seaborn\n",
    "plt.rcParams.update(plt.rcParamsDefault)\n",
    "plt.rcParams.update({'axes.titleweight': 'bold'})\n",
    "sns.set(style='ticks')\n",
    "current_palette = sns.color_palette('RdBu')\n",
    "sns.set_palette(current_palette)"
   ]
  },
  {
   "cell_type": "markdown",
   "metadata": {
    "toc": true
   },
   "source": [
    "<h1>Table of Contents<span class=\"tocSkip\"></span></h1>\n",
    "<div class=\"toc\"><ul class=\"toc-item\"><li><span><a href=\"#Récupération-des-données\" data-toc-modified-id=\"Récupération-des-données-1\"><span class=\"toc-item-num\">1&nbsp;&nbsp;</span>Récupération des données</a></span></li><li><span><a href=\"#Comparaison-des-deux-jeux-de-données\" data-toc-modified-id=\"Comparaison-des-deux-jeux-de-données-2\"><span class=\"toc-item-num\">2&nbsp;&nbsp;</span>Comparaison des deux jeux de données</a></span><ul class=\"toc-item\"><li><span><a href=\"#Variables-n'étant-pas-présentes-dans-l'un-des-jeux-de-données\" data-toc-modified-id=\"Variables-n'étant-pas-présentes-dans-l'un-des-jeux-de-données-2.1\"><span class=\"toc-item-num\">2.1&nbsp;&nbsp;</span>Variables n'étant pas présentes dans l'un des jeux de données</a></span></li><li><span><a href=\"#Traitement-de-la-variable-localisation\" data-toc-modified-id=\"Traitement-de-la-variable-localisation-2.2\"><span class=\"toc-item-num\">2.2&nbsp;&nbsp;</span>Traitement de la variable localisation</a></span></li><li><span><a href=\"#Renommer-les-variables-de-2015-comme-celles-de-2016\" data-toc-modified-id=\"Renommer-les-variables-de-2015-comme-celles-de-2016-2.3\"><span class=\"toc-item-num\">2.3&nbsp;&nbsp;</span>Renommer les variables de 2015 comme celles de 2016</a></span></li><li><span><a href=\"#Variables-non-présentes-dans-le-jeu-de-données-2016\" data-toc-modified-id=\"Variables-non-présentes-dans-le-jeu-de-données-2016-2.4\"><span class=\"toc-item-num\">2.4&nbsp;&nbsp;</span>Variables non présentes dans le jeu de données 2016</a></span></li><li><span><a href=\"#Ajout-des-variables-manquantes-pour-le-jeu-de-données-de-2016\" data-toc-modified-id=\"Ajout-des-variables-manquantes-pour-le-jeu-de-données-de-2016-2.5\"><span class=\"toc-item-num\">2.5&nbsp;&nbsp;</span>Ajout des variables manquantes pour le jeu de données de 2016</a></span></li><li><span><a href=\"#Traitement-de-la-variable-OtherFuelUse(kBtu)\" data-toc-modified-id=\"Traitement-de-la-variable-OtherFuelUse(kBtu)-2.6\"><span class=\"toc-item-num\">2.6&nbsp;&nbsp;</span>Traitement de la variable OtherFuelUse(kBtu)</a></span></li></ul></li><li><span><a href=\"#Sélection-des-observations\" data-toc-modified-id=\"Sélection-des-observations-3\"><span class=\"toc-item-num\">3&nbsp;&nbsp;</span>Sélection des observations</a></span><ul class=\"toc-item\"><li><span><a href=\"#Données-manquantes-des-variables-à-modéliser\" data-toc-modified-id=\"Données-manquantes-des-variables-à-modéliser-3.1\"><span class=\"toc-item-num\">3.1&nbsp;&nbsp;</span>Données manquantes des variables à modéliser</a></span></li><li><span><a href=\"#Vérifier-la-présence-de-doublons\" data-toc-modified-id=\"Vérifier-la-présence-de-doublons-3.2\"><span class=\"toc-item-num\">3.2&nbsp;&nbsp;</span>Vérifier la présence de doublons</a></span></li><li><span><a href=\"#Traiter-les-outliers\" data-toc-modified-id=\"Traiter-les-outliers-3.3\"><span class=\"toc-item-num\">3.3&nbsp;&nbsp;</span>Traiter les outliers</a></span></li><li><span><a href=\"#Écarter-les-bâtiments-destinés-à-l'habitation\" data-toc-modified-id=\"Écarter-les-bâtiments-destinés-à-l'habitation-3.4\"><span class=\"toc-item-num\">3.4&nbsp;&nbsp;</span>Écarter les bâtiments destinés à l'habitation</a></span></li></ul></li><li><span><a href=\"#Nettoyage-des-variables-liées-à-la-consommation\" data-toc-modified-id=\"Nettoyage-des-variables-liées-à-la-consommation-4\"><span class=\"toc-item-num\">4&nbsp;&nbsp;</span>Nettoyage des variables liées à la consommation</a></span><ul class=\"toc-item\"><li><span><a href=\"#Vérifier-que-les-consommations-sont-bien-positives\" data-toc-modified-id=\"Vérifier-que-les-consommations-sont-bien-positives-4.1\"><span class=\"toc-item-num\">4.1&nbsp;&nbsp;</span>Vérifier que les consommations sont bien positives</a></span></li><li><span><a href=\"#Vérifier-les-conversions\" data-toc-modified-id=\"Vérifier-les-conversions-4.2\"><span class=\"toc-item-num\">4.2&nbsp;&nbsp;</span>Vérifier les conversions</a></span></li></ul></li><li><span><a href=\"#Réalisation-d'un-pipeline\" data-toc-modified-id=\"Réalisation-d'un-pipeline-5\"><span class=\"toc-item-num\">5&nbsp;&nbsp;</span>Réalisation d'un pipeline</a></span></li></ul></div>"
   ]
  },
  {
   "cell_type": "markdown",
   "metadata": {},
   "source": [
    "## Récupération des données"
   ]
  },
  {
   "cell_type": "markdown",
   "metadata": {},
   "source": [
    "Nous commençons par télécharger les données du site *kaggle*. Ces données sont contenus dans 2 fichier csv :\n",
    "- 2015-building-energy-benchmarking\n",
    "- 2016-building-energy-benchmarking\n",
    "\n",
    "Notre but étant de prédire des données de consommation, avoir des données pour deux dates différentes est un gros plus. **Nous allons pouvoir utiliser les donnée de 2015 (l'année la plus ancienne) comme jeu d'entraînement et les données de 2016 (les plus récentes) comme jeu de test.** Les données étant déja contenues dans deux jeux de données distincts, nous n'aurons pas à séparer les données en deux (test et entraînement).\n",
    "\n",
    "Une fois téléchargées, nous pouvons les charger dans des DataFrame."
   ]
  },
  {
   "cell_type": "code",
   "execution_count": 3,
   "metadata": {
    "ExecuteTime": {
     "end_time": "2020-05-10T10:31:20.395582Z",
     "start_time": "2020-05-10T10:31:20.342724Z"
    }
   },
   "outputs": [
    {
     "name": "stdout",
     "output_type": "stream",
     "text": [
      "(3340, 47)\n"
     ]
    },
    {
     "data": {
      "text/html": [
       "<div>\n",
       "<style scoped>\n",
       "    .dataframe tbody tr th:only-of-type {\n",
       "        vertical-align: middle;\n",
       "    }\n",
       "\n",
       "    .dataframe tbody tr th {\n",
       "        vertical-align: top;\n",
       "    }\n",
       "\n",
       "    .dataframe thead th {\n",
       "        text-align: right;\n",
       "    }\n",
       "</style>\n",
       "<table border=\"1\" class=\"dataframe\">\n",
       "  <thead>\n",
       "    <tr style=\"text-align: right;\">\n",
       "      <th></th>\n",
       "      <th>OSEBuildingID</th>\n",
       "      <th>DataYear</th>\n",
       "      <th>BuildingType</th>\n",
       "      <th>PrimaryPropertyType</th>\n",
       "      <th>PropertyName</th>\n",
       "      <th>TaxParcelIdentificationNumber</th>\n",
       "      <th>Location</th>\n",
       "      <th>CouncilDistrictCode</th>\n",
       "      <th>Neighborhood</th>\n",
       "      <th>YearBuilt</th>\n",
       "      <th>...</th>\n",
       "      <th>GHGEmissionsIntensity(kgCO2e/ft2)</th>\n",
       "      <th>DefaultData</th>\n",
       "      <th>Comment</th>\n",
       "      <th>ComplianceStatus</th>\n",
       "      <th>Outlier</th>\n",
       "      <th>2010 Census Tracts</th>\n",
       "      <th>Seattle Police Department Micro Community Policing Plan Areas</th>\n",
       "      <th>City Council Districts</th>\n",
       "      <th>SPD Beats</th>\n",
       "      <th>Zip Codes</th>\n",
       "    </tr>\n",
       "  </thead>\n",
       "  <tbody>\n",
       "    <tr>\n",
       "      <th>0</th>\n",
       "      <td>1</td>\n",
       "      <td>2015</td>\n",
       "      <td>NonResidential</td>\n",
       "      <td>Hotel</td>\n",
       "      <td>MAYFLOWER PARK HOTEL</td>\n",
       "      <td>659000030</td>\n",
       "      <td>{'latitude': '47.61219025', 'longitude': '-122...</td>\n",
       "      <td>7</td>\n",
       "      <td>DOWNTOWN</td>\n",
       "      <td>1927</td>\n",
       "      <td>...</td>\n",
       "      <td>2.64</td>\n",
       "      <td>No</td>\n",
       "      <td>NaN</td>\n",
       "      <td>Compliant</td>\n",
       "      <td>NaN</td>\n",
       "      <td>NaN</td>\n",
       "      <td>14.0</td>\n",
       "      <td>NaN</td>\n",
       "      <td>31.0</td>\n",
       "      <td>18081</td>\n",
       "    </tr>\n",
       "    <tr>\n",
       "      <th>1</th>\n",
       "      <td>2</td>\n",
       "      <td>2015</td>\n",
       "      <td>NonResidential</td>\n",
       "      <td>Hotel</td>\n",
       "      <td>PARAMOUNT HOTEL</td>\n",
       "      <td>659000220</td>\n",
       "      <td>{'latitude': '47.61310583', 'longitude': '-122...</td>\n",
       "      <td>7</td>\n",
       "      <td>DOWNTOWN</td>\n",
       "      <td>1996</td>\n",
       "      <td>...</td>\n",
       "      <td>2.38</td>\n",
       "      <td>No</td>\n",
       "      <td>NaN</td>\n",
       "      <td>Compliant</td>\n",
       "      <td>NaN</td>\n",
       "      <td>NaN</td>\n",
       "      <td>14.0</td>\n",
       "      <td>NaN</td>\n",
       "      <td>31.0</td>\n",
       "      <td>18081</td>\n",
       "    </tr>\n",
       "    <tr>\n",
       "      <th>2</th>\n",
       "      <td>3</td>\n",
       "      <td>2015</td>\n",
       "      <td>NonResidential</td>\n",
       "      <td>Hotel</td>\n",
       "      <td>WESTIN HOTEL</td>\n",
       "      <td>659000475</td>\n",
       "      <td>{'latitude': '47.61334897', 'longitude': '-122...</td>\n",
       "      <td>7</td>\n",
       "      <td>DOWNTOWN</td>\n",
       "      <td>1969</td>\n",
       "      <td>...</td>\n",
       "      <td>1.92</td>\n",
       "      <td>Yes</td>\n",
       "      <td>NaN</td>\n",
       "      <td>Compliant</td>\n",
       "      <td>NaN</td>\n",
       "      <td>NaN</td>\n",
       "      <td>56.0</td>\n",
       "      <td>NaN</td>\n",
       "      <td>31.0</td>\n",
       "      <td>18081</td>\n",
       "    </tr>\n",
       "    <tr>\n",
       "      <th>3</th>\n",
       "      <td>5</td>\n",
       "      <td>2015</td>\n",
       "      <td>NonResidential</td>\n",
       "      <td>Hotel</td>\n",
       "      <td>HOTEL MAX</td>\n",
       "      <td>659000640</td>\n",
       "      <td>{'latitude': '47.61421585', 'longitude': '-122...</td>\n",
       "      <td>7</td>\n",
       "      <td>DOWNTOWN</td>\n",
       "      <td>1926</td>\n",
       "      <td>...</td>\n",
       "      <td>31.38</td>\n",
       "      <td>No</td>\n",
       "      <td>NaN</td>\n",
       "      <td>Compliant</td>\n",
       "      <td>High Outlier</td>\n",
       "      <td>NaN</td>\n",
       "      <td>56.0</td>\n",
       "      <td>NaN</td>\n",
       "      <td>31.0</td>\n",
       "      <td>18081</td>\n",
       "    </tr>\n",
       "    <tr>\n",
       "      <th>4</th>\n",
       "      <td>8</td>\n",
       "      <td>2015</td>\n",
       "      <td>NonResidential</td>\n",
       "      <td>Hotel</td>\n",
       "      <td>WARWICK SEATTLE HOTEL</td>\n",
       "      <td>659000970</td>\n",
       "      <td>{'latitude': '47.6137544', 'longitude': '-122....</td>\n",
       "      <td>7</td>\n",
       "      <td>DOWNTOWN</td>\n",
       "      <td>1980</td>\n",
       "      <td>...</td>\n",
       "      <td>4.02</td>\n",
       "      <td>No</td>\n",
       "      <td>NaN</td>\n",
       "      <td>Compliant</td>\n",
       "      <td>NaN</td>\n",
       "      <td>NaN</td>\n",
       "      <td>56.0</td>\n",
       "      <td>NaN</td>\n",
       "      <td>31.0</td>\n",
       "      <td>19576</td>\n",
       "    </tr>\n",
       "  </tbody>\n",
       "</table>\n",
       "<p>5 rows × 47 columns</p>\n",
       "</div>"
      ],
      "text/plain": [
       "   OSEBuildingID  DataYear    BuildingType PrimaryPropertyType  \\\n",
       "0              1      2015  NonResidential               Hotel   \n",
       "1              2      2015  NonResidential               Hotel   \n",
       "2              3      2015  NonResidential               Hotel   \n",
       "3              5      2015  NonResidential               Hotel   \n",
       "4              8      2015  NonResidential               Hotel   \n",
       "\n",
       "            PropertyName TaxParcelIdentificationNumber  \\\n",
       "0   MAYFLOWER PARK HOTEL                     659000030   \n",
       "1        PARAMOUNT HOTEL                     659000220   \n",
       "2           WESTIN HOTEL                     659000475   \n",
       "3              HOTEL MAX                     659000640   \n",
       "4  WARWICK SEATTLE HOTEL                     659000970   \n",
       "\n",
       "                                            Location  CouncilDistrictCode  \\\n",
       "0  {'latitude': '47.61219025', 'longitude': '-122...                    7   \n",
       "1  {'latitude': '47.61310583', 'longitude': '-122...                    7   \n",
       "2  {'latitude': '47.61334897', 'longitude': '-122...                    7   \n",
       "3  {'latitude': '47.61421585', 'longitude': '-122...                    7   \n",
       "4  {'latitude': '47.6137544', 'longitude': '-122....                    7   \n",
       "\n",
       "  Neighborhood  YearBuilt  ...  GHGEmissionsIntensity(kgCO2e/ft2)  \\\n",
       "0     DOWNTOWN       1927  ...                               2.64   \n",
       "1     DOWNTOWN       1996  ...                               2.38   \n",
       "2     DOWNTOWN       1969  ...                               1.92   \n",
       "3     DOWNTOWN       1926  ...                              31.38   \n",
       "4     DOWNTOWN       1980  ...                               4.02   \n",
       "\n",
       "   DefaultData  Comment  ComplianceStatus       Outlier 2010 Census Tracts  \\\n",
       "0           No      NaN         Compliant           NaN                NaN   \n",
       "1           No      NaN         Compliant           NaN                NaN   \n",
       "2          Yes      NaN         Compliant           NaN                NaN   \n",
       "3           No      NaN         Compliant  High Outlier                NaN   \n",
       "4           No      NaN         Compliant           NaN                NaN   \n",
       "\n",
       "  Seattle Police Department Micro Community Policing Plan Areas  \\\n",
       "0                                               14.0              \n",
       "1                                               14.0              \n",
       "2                                               56.0              \n",
       "3                                               56.0              \n",
       "4                                               56.0              \n",
       "\n",
       "   City Council Districts SPD Beats  Zip Codes  \n",
       "0                     NaN      31.0      18081  \n",
       "1                     NaN      31.0      18081  \n",
       "2                     NaN      31.0      18081  \n",
       "3                     NaN      31.0      18081  \n",
       "4                     NaN      31.0      19576  \n",
       "\n",
       "[5 rows x 47 columns]"
      ]
     },
     "execution_count": 3,
     "metadata": {},
     "output_type": "execute_result"
    }
   ],
   "source": [
    "raw_data_2015 = pd.read_csv('data/2015-building-energy-benchmarking.csv')\n",
    "print(raw_data_2015.shape)\n",
    "raw_data_2015.head()"
   ]
  },
  {
   "cell_type": "code",
   "execution_count": 4,
   "metadata": {
    "ExecuteTime": {
     "end_time": "2020-05-10T10:31:20.444430Z",
     "start_time": "2020-05-10T10:31:20.396564Z"
    }
   },
   "outputs": [
    {
     "name": "stdout",
     "output_type": "stream",
     "text": [
      "(3376, 46)\n"
     ]
    },
    {
     "data": {
      "text/html": [
       "<div>\n",
       "<style scoped>\n",
       "    .dataframe tbody tr th:only-of-type {\n",
       "        vertical-align: middle;\n",
       "    }\n",
       "\n",
       "    .dataframe tbody tr th {\n",
       "        vertical-align: top;\n",
       "    }\n",
       "\n",
       "    .dataframe thead th {\n",
       "        text-align: right;\n",
       "    }\n",
       "</style>\n",
       "<table border=\"1\" class=\"dataframe\">\n",
       "  <thead>\n",
       "    <tr style=\"text-align: right;\">\n",
       "      <th></th>\n",
       "      <th>OSEBuildingID</th>\n",
       "      <th>DataYear</th>\n",
       "      <th>BuildingType</th>\n",
       "      <th>PrimaryPropertyType</th>\n",
       "      <th>PropertyName</th>\n",
       "      <th>Address</th>\n",
       "      <th>City</th>\n",
       "      <th>State</th>\n",
       "      <th>ZipCode</th>\n",
       "      <th>TaxParcelIdentificationNumber</th>\n",
       "      <th>...</th>\n",
       "      <th>Electricity(kWh)</th>\n",
       "      <th>Electricity(kBtu)</th>\n",
       "      <th>NaturalGas(therms)</th>\n",
       "      <th>NaturalGas(kBtu)</th>\n",
       "      <th>DefaultData</th>\n",
       "      <th>Comments</th>\n",
       "      <th>ComplianceStatus</th>\n",
       "      <th>Outlier</th>\n",
       "      <th>TotalGHGEmissions</th>\n",
       "      <th>GHGEmissionsIntensity</th>\n",
       "    </tr>\n",
       "  </thead>\n",
       "  <tbody>\n",
       "    <tr>\n",
       "      <th>0</th>\n",
       "      <td>1</td>\n",
       "      <td>2016</td>\n",
       "      <td>NonResidential</td>\n",
       "      <td>Hotel</td>\n",
       "      <td>Mayflower park hotel</td>\n",
       "      <td>405 Olive way</td>\n",
       "      <td>Seattle</td>\n",
       "      <td>WA</td>\n",
       "      <td>98101.0</td>\n",
       "      <td>0659000030</td>\n",
       "      <td>...</td>\n",
       "      <td>1.156514e+06</td>\n",
       "      <td>3946027.0</td>\n",
       "      <td>12764.52930</td>\n",
       "      <td>1276453.0</td>\n",
       "      <td>False</td>\n",
       "      <td>NaN</td>\n",
       "      <td>Compliant</td>\n",
       "      <td>NaN</td>\n",
       "      <td>249.98</td>\n",
       "      <td>2.83</td>\n",
       "    </tr>\n",
       "    <tr>\n",
       "      <th>1</th>\n",
       "      <td>2</td>\n",
       "      <td>2016</td>\n",
       "      <td>NonResidential</td>\n",
       "      <td>Hotel</td>\n",
       "      <td>Paramount Hotel</td>\n",
       "      <td>724 Pine street</td>\n",
       "      <td>Seattle</td>\n",
       "      <td>WA</td>\n",
       "      <td>98101.0</td>\n",
       "      <td>0659000220</td>\n",
       "      <td>...</td>\n",
       "      <td>9.504252e+05</td>\n",
       "      <td>3242851.0</td>\n",
       "      <td>51450.81641</td>\n",
       "      <td>5145082.0</td>\n",
       "      <td>False</td>\n",
       "      <td>NaN</td>\n",
       "      <td>Compliant</td>\n",
       "      <td>NaN</td>\n",
       "      <td>295.86</td>\n",
       "      <td>2.86</td>\n",
       "    </tr>\n",
       "    <tr>\n",
       "      <th>2</th>\n",
       "      <td>3</td>\n",
       "      <td>2016</td>\n",
       "      <td>NonResidential</td>\n",
       "      <td>Hotel</td>\n",
       "      <td>5673-The Westin Seattle</td>\n",
       "      <td>1900 5th Avenue</td>\n",
       "      <td>Seattle</td>\n",
       "      <td>WA</td>\n",
       "      <td>98101.0</td>\n",
       "      <td>0659000475</td>\n",
       "      <td>...</td>\n",
       "      <td>1.451544e+07</td>\n",
       "      <td>49526664.0</td>\n",
       "      <td>14938.00000</td>\n",
       "      <td>1493800.0</td>\n",
       "      <td>False</td>\n",
       "      <td>NaN</td>\n",
       "      <td>Compliant</td>\n",
       "      <td>NaN</td>\n",
       "      <td>2089.28</td>\n",
       "      <td>2.19</td>\n",
       "    </tr>\n",
       "    <tr>\n",
       "      <th>3</th>\n",
       "      <td>5</td>\n",
       "      <td>2016</td>\n",
       "      <td>NonResidential</td>\n",
       "      <td>Hotel</td>\n",
       "      <td>HOTEL MAX</td>\n",
       "      <td>620 STEWART ST</td>\n",
       "      <td>Seattle</td>\n",
       "      <td>WA</td>\n",
       "      <td>98101.0</td>\n",
       "      <td>0659000640</td>\n",
       "      <td>...</td>\n",
       "      <td>8.115253e+05</td>\n",
       "      <td>2768924.0</td>\n",
       "      <td>18112.13086</td>\n",
       "      <td>1811213.0</td>\n",
       "      <td>False</td>\n",
       "      <td>NaN</td>\n",
       "      <td>Compliant</td>\n",
       "      <td>NaN</td>\n",
       "      <td>286.43</td>\n",
       "      <td>4.67</td>\n",
       "    </tr>\n",
       "    <tr>\n",
       "      <th>4</th>\n",
       "      <td>8</td>\n",
       "      <td>2016</td>\n",
       "      <td>NonResidential</td>\n",
       "      <td>Hotel</td>\n",
       "      <td>WARWICK SEATTLE HOTEL (ID8)</td>\n",
       "      <td>401 LENORA ST</td>\n",
       "      <td>Seattle</td>\n",
       "      <td>WA</td>\n",
       "      <td>98121.0</td>\n",
       "      <td>0659000970</td>\n",
       "      <td>...</td>\n",
       "      <td>1.573449e+06</td>\n",
       "      <td>5368607.0</td>\n",
       "      <td>88039.98438</td>\n",
       "      <td>8803998.0</td>\n",
       "      <td>False</td>\n",
       "      <td>NaN</td>\n",
       "      <td>Compliant</td>\n",
       "      <td>NaN</td>\n",
       "      <td>505.01</td>\n",
       "      <td>2.88</td>\n",
       "    </tr>\n",
       "  </tbody>\n",
       "</table>\n",
       "<p>5 rows × 46 columns</p>\n",
       "</div>"
      ],
      "text/plain": [
       "   OSEBuildingID  DataYear    BuildingType PrimaryPropertyType  \\\n",
       "0              1      2016  NonResidential               Hotel   \n",
       "1              2      2016  NonResidential               Hotel   \n",
       "2              3      2016  NonResidential               Hotel   \n",
       "3              5      2016  NonResidential               Hotel   \n",
       "4              8      2016  NonResidential               Hotel   \n",
       "\n",
       "                  PropertyName          Address     City State  ZipCode  \\\n",
       "0         Mayflower park hotel    405 Olive way  Seattle    WA  98101.0   \n",
       "1              Paramount Hotel  724 Pine street  Seattle    WA  98101.0   \n",
       "2      5673-The Westin Seattle  1900 5th Avenue  Seattle    WA  98101.0   \n",
       "3                    HOTEL MAX   620 STEWART ST  Seattle    WA  98101.0   \n",
       "4  WARWICK SEATTLE HOTEL (ID8)    401 LENORA ST  Seattle    WA  98121.0   \n",
       "\n",
       "  TaxParcelIdentificationNumber  ...  Electricity(kWh) Electricity(kBtu)  \\\n",
       "0                    0659000030  ...      1.156514e+06         3946027.0   \n",
       "1                    0659000220  ...      9.504252e+05         3242851.0   \n",
       "2                    0659000475  ...      1.451544e+07        49526664.0   \n",
       "3                    0659000640  ...      8.115253e+05         2768924.0   \n",
       "4                    0659000970  ...      1.573449e+06         5368607.0   \n",
       "\n",
       "   NaturalGas(therms)  NaturalGas(kBtu)  DefaultData  Comments  \\\n",
       "0         12764.52930         1276453.0        False       NaN   \n",
       "1         51450.81641         5145082.0        False       NaN   \n",
       "2         14938.00000         1493800.0        False       NaN   \n",
       "3         18112.13086         1811213.0        False       NaN   \n",
       "4         88039.98438         8803998.0        False       NaN   \n",
       "\n",
       "   ComplianceStatus  Outlier  TotalGHGEmissions  GHGEmissionsIntensity  \n",
       "0         Compliant      NaN             249.98                   2.83  \n",
       "1         Compliant      NaN             295.86                   2.86  \n",
       "2         Compliant      NaN            2089.28                   2.19  \n",
       "3         Compliant      NaN             286.43                   4.67  \n",
       "4         Compliant      NaN             505.01                   2.88  \n",
       "\n",
       "[5 rows x 46 columns]"
      ]
     },
     "execution_count": 4,
     "metadata": {},
     "output_type": "execute_result"
    }
   ],
   "source": [
    "raw_data_2016 = pd.read_csv('data/2016-building-energy-benchmarking.csv')\n",
    "print(raw_data_2016.shape)\n",
    "raw_data_2016.head()"
   ]
  },
  {
   "cell_type": "markdown",
   "metadata": {},
   "source": [
    "## Comparaison des deux jeux de données"
   ]
  },
  {
   "cell_type": "markdown",
   "metadata": {},
   "source": [
    "### Variables n'étant pas présentes dans l'un des jeux de données"
   ]
  },
  {
   "cell_type": "markdown",
   "metadata": {},
   "source": [
    "Les deux jeux de données possédent un nombre d'observations similaires, en revanche, nous notons qu'ils ne possédent pas le même nombre de variables. Or, il est indispensable que les deux possédent exactement les mêmes caractéristiques pour pouvoir entraîner (sur les données de 2015) et tester (sur les données de 2016) notre modèle.\n",
    "\n",
    "On va donc commencer par ne garder que les variables communes aux deux années."
   ]
  },
  {
   "cell_type": "code",
   "execution_count": 5,
   "metadata": {
    "ExecuteTime": {
     "end_time": "2020-05-10T10:31:20.451410Z",
     "start_time": "2020-05-10T10:31:20.446399Z"
    }
   },
   "outputs": [
    {
     "name": "stdout",
     "output_type": "stream",
     "text": [
      "37\n"
     ]
    }
   ],
   "source": [
    "features_2015 = raw_data_2015.columns.tolist()\n",
    "features_2016 = raw_data_2016.columns.tolist()\n",
    "features = [c for c in features_2016 if c in features_2015]\n",
    "print(len(features))"
   ]
  },
  {
   "cell_type": "markdown",
   "metadata": {},
   "source": [
    "Dix-neuf variables ne sont pas présentes dans l'un des deux jeux de données, cela représente plus de 30% de nos variables, c'est loin d'être négligeable. Avant de les écarter, regardons les en détail pour voir si elles ne contiennent pas d'éléments clés."
   ]
  },
  {
   "cell_type": "code",
   "execution_count": 6,
   "metadata": {
    "ExecuteTime": {
     "end_time": "2020-05-10T10:31:20.458377Z",
     "start_time": "2020-05-10T10:31:20.453393Z"
    }
   },
   "outputs": [
    {
     "name": "stdout",
     "output_type": "stream",
     "text": [
      "19\n",
      "['Location', 'OtherFuelUse(kBtu)', 'GHGEmissions(MetricTonsCO2e)', 'GHGEmissionsIntensity(kgCO2e/ft2)', 'Comment', '2010 Census Tracts', 'Seattle Police Department Micro Community Policing Plan Areas', 'City Council Districts', 'SPD Beats', 'Zip Codes', 'Address', 'City', 'State', 'ZipCode', 'Latitude', 'Longitude', 'Comments', 'TotalGHGEmissions', 'GHGEmissionsIntensity']\n"
     ]
    }
   ],
   "source": [
    "feat_to_del = [c for c in features_2015 if c not in features] + [c for c in features_2016 if c not in features]\n",
    "print(len(feat_to_del))\n",
    "print(feat_to_del)"
   ]
  },
  {
   "cell_type": "markdown",
   "metadata": {},
   "source": [
    "Nous remarquons que certaines variables semblent très proches :\n",
    "- Location & Latitude/Longitude\n",
    "- GHGEmissions(MetricTonsCO2e) & TotalGHGEmissions\n",
    "- GHGEmissionsIntensity(kgCO2e/ft2) & GHGEmissionsIntensity\n",
    "- Zip Codes & ZipCode\n",
    "- Comment & Comments\n",
    "\n",
    "Commençons par vérifier si ces variables ne seraient pas les mêmes, mais avec des noms différents."
   ]
  },
  {
   "cell_type": "code",
   "execution_count": 7,
   "metadata": {
    "ExecuteTime": {
     "end_time": "2020-05-10T10:31:20.483330Z",
     "start_time": "2020-05-10T10:31:20.460360Z"
    }
   },
   "outputs": [
    {
     "data": {
      "text/html": [
       "<div>\n",
       "<style scoped>\n",
       "    .dataframe tbody tr th:only-of-type {\n",
       "        vertical-align: middle;\n",
       "    }\n",
       "\n",
       "    .dataframe tbody tr th {\n",
       "        vertical-align: top;\n",
       "    }\n",
       "\n",
       "    .dataframe thead th {\n",
       "        text-align: right;\n",
       "    }\n",
       "</style>\n",
       "<table border=\"1\" class=\"dataframe\">\n",
       "  <thead>\n",
       "    <tr style=\"text-align: right;\">\n",
       "      <th></th>\n",
       "      <th>OSEBuildingID</th>\n",
       "      <th>Location</th>\n",
       "      <th>GHGEmissions(MetricTonsCO2e)</th>\n",
       "      <th>GHGEmissionsIntensity(kgCO2e/ft2)</th>\n",
       "      <th>Comment</th>\n",
       "      <th>Zip Codes</th>\n",
       "      <th>ZipCode</th>\n",
       "      <th>Latitude</th>\n",
       "      <th>Longitude</th>\n",
       "      <th>Comments</th>\n",
       "      <th>TotalGHGEmissions</th>\n",
       "      <th>GHGEmissionsIntensity</th>\n",
       "    </tr>\n",
       "  </thead>\n",
       "  <tbody>\n",
       "    <tr>\n",
       "      <th>0</th>\n",
       "      <td>1</td>\n",
       "      <td>{'latitude': '47.61219025', 'longitude': '-122...</td>\n",
       "      <td>249.43</td>\n",
       "      <td>2.64</td>\n",
       "      <td>NaN</td>\n",
       "      <td>18081</td>\n",
       "      <td>98101.0</td>\n",
       "      <td>47.61220</td>\n",
       "      <td>-122.33799</td>\n",
       "      <td>NaN</td>\n",
       "      <td>249.98</td>\n",
       "      <td>2.83</td>\n",
       "    </tr>\n",
       "    <tr>\n",
       "      <th>1</th>\n",
       "      <td>2</td>\n",
       "      <td>{'latitude': '47.61310583', 'longitude': '-122...</td>\n",
       "      <td>263.51</td>\n",
       "      <td>2.38</td>\n",
       "      <td>NaN</td>\n",
       "      <td>18081</td>\n",
       "      <td>98101.0</td>\n",
       "      <td>47.61317</td>\n",
       "      <td>-122.33393</td>\n",
       "      <td>NaN</td>\n",
       "      <td>295.86</td>\n",
       "      <td>2.86</td>\n",
       "    </tr>\n",
       "    <tr>\n",
       "      <th>2</th>\n",
       "      <td>3</td>\n",
       "      <td>{'latitude': '47.61334897', 'longitude': '-122...</td>\n",
       "      <td>2061.48</td>\n",
       "      <td>1.92</td>\n",
       "      <td>NaN</td>\n",
       "      <td>18081</td>\n",
       "      <td>98101.0</td>\n",
       "      <td>47.61393</td>\n",
       "      <td>-122.33810</td>\n",
       "      <td>NaN</td>\n",
       "      <td>2089.28</td>\n",
       "      <td>2.19</td>\n",
       "    </tr>\n",
       "    <tr>\n",
       "      <th>3</th>\n",
       "      <td>5</td>\n",
       "      <td>{'latitude': '47.61421585', 'longitude': '-122...</td>\n",
       "      <td>1936.34</td>\n",
       "      <td>31.38</td>\n",
       "      <td>NaN</td>\n",
       "      <td>18081</td>\n",
       "      <td>98101.0</td>\n",
       "      <td>47.61412</td>\n",
       "      <td>-122.33664</td>\n",
       "      <td>NaN</td>\n",
       "      <td>286.43</td>\n",
       "      <td>4.67</td>\n",
       "    </tr>\n",
       "    <tr>\n",
       "      <th>4</th>\n",
       "      <td>8</td>\n",
       "      <td>{'latitude': '47.6137544', 'longitude': '-122....</td>\n",
       "      <td>507.70</td>\n",
       "      <td>4.02</td>\n",
       "      <td>NaN</td>\n",
       "      <td>19576</td>\n",
       "      <td>98121.0</td>\n",
       "      <td>47.61375</td>\n",
       "      <td>-122.34047</td>\n",
       "      <td>NaN</td>\n",
       "      <td>505.01</td>\n",
       "      <td>2.88</td>\n",
       "    </tr>\n",
       "  </tbody>\n",
       "</table>\n",
       "</div>"
      ],
      "text/plain": [
       "   OSEBuildingID                                           Location  \\\n",
       "0              1  {'latitude': '47.61219025', 'longitude': '-122...   \n",
       "1              2  {'latitude': '47.61310583', 'longitude': '-122...   \n",
       "2              3  {'latitude': '47.61334897', 'longitude': '-122...   \n",
       "3              5  {'latitude': '47.61421585', 'longitude': '-122...   \n",
       "4              8  {'latitude': '47.6137544', 'longitude': '-122....   \n",
       "\n",
       "   GHGEmissions(MetricTonsCO2e)  GHGEmissionsIntensity(kgCO2e/ft2) Comment  \\\n",
       "0                        249.43                               2.64     NaN   \n",
       "1                        263.51                               2.38     NaN   \n",
       "2                       2061.48                               1.92     NaN   \n",
       "3                       1936.34                              31.38     NaN   \n",
       "4                        507.70                               4.02     NaN   \n",
       "\n",
       "   Zip Codes  ZipCode  Latitude  Longitude  Comments  TotalGHGEmissions  \\\n",
       "0      18081  98101.0  47.61220 -122.33799       NaN             249.98   \n",
       "1      18081  98101.0  47.61317 -122.33393       NaN             295.86   \n",
       "2      18081  98101.0  47.61393 -122.33810       NaN            2089.28   \n",
       "3      18081  98101.0  47.61412 -122.33664       NaN             286.43   \n",
       "4      19576  98121.0  47.61375 -122.34047       NaN             505.01   \n",
       "\n",
       "   GHGEmissionsIntensity  \n",
       "0                   2.83  \n",
       "1                   2.86  \n",
       "2                   2.19  \n",
       "3                   4.67  \n",
       "4                   2.88  "
      ]
     },
     "execution_count": 7,
     "metadata": {},
     "output_type": "execute_result"
    }
   ],
   "source": [
    "feat_to_check = ['Location', 'Latitude', 'Longitude',\n",
    "                 'GHGEmissions(MetricTonsCO2e)', 'TotalGHGEmissions',\n",
    "                 'GHGEmissionsIntensity(kgCO2e/ft2)', 'GHGEmissionsIntensity',\n",
    "                 'Zip Codes', 'ZipCode',\n",
    "                 'Comment', 'Comments']\n",
    "key = 'OSEBuildingID'\n",
    "feat_to_check += [key]\n",
    "\n",
    "# keep only the features to be checked for each dataset\n",
    "df_2015 = raw_data_2015.loc[:, raw_data_2015.columns.isin(feat_to_check)]\n",
    "df_2016 = raw_data_2016.loc[:, raw_data_2016.columns.isin(feat_to_check)]\n",
    "\n",
    "# use the feature 'OSEBuildingID' to merge datasets\n",
    "df = pd.merge(df_2015, df_2016, on=key)\n",
    "df.head()"
   ]
  },
  {
   "cell_type": "markdown",
   "metadata": {},
   "source": [
    "En dehors des variables ZipCodes et ZipCode, il s'agit bien des mêmes variables. En fait la variable **Localisation** de 2015 contient toutes les variables suivantes :\n",
    "- Latitude\n",
    "- Longitude\n",
    "- Adress\n",
    "- City\n",
    "- State\n",
    "- ZipCode\n",
    "\n",
    "Extrayons toutes ces variables de **Localisation**."
   ]
  },
  {
   "cell_type": "markdown",
   "metadata": {},
   "source": [
    "### Traitement de la variable localisation"
   ]
  },
  {
   "cell_type": "markdown",
   "metadata": {},
   "source": [
    "Comme nous avons vu précédemment, plusieurs variables de 2016 sont réunis dans la variable *Localisation* sous forme de dictionnaire. Nous allons recréer ces variables en les extrayant de *Localisation*."
   ]
  },
  {
   "cell_type": "code",
   "execution_count": 8,
   "metadata": {
    "ExecuteTime": {
     "end_time": "2020-05-10T10:31:21.491289Z",
     "start_time": "2020-05-10T10:31:20.485332Z"
    }
   },
   "outputs": [],
   "source": [
    "import ast\n",
    "\n",
    "data_2015 = pd.concat([raw_data_2015.drop('Location', axis=1), # Delete 'Location' column\n",
    "                       raw_data_2015['Location'].apply(ast.literal_eval) # Convert string into dictionary\n",
    "                                                .apply(pd.Series)], # Split the dictionary into columns\n",
    "                      axis=1)"
   ]
  },
  {
   "cell_type": "markdown",
   "metadata": {},
   "source": [
    "Il reste encore à séparer les données de human_address en plusieurs colonnes."
   ]
  },
  {
   "cell_type": "code",
   "execution_count": 9,
   "metadata": {
    "ExecuteTime": {
     "end_time": "2020-05-10T10:31:22.486927Z",
     "start_time": "2020-05-10T10:31:21.492273Z"
    }
   },
   "outputs": [],
   "source": [
    "data_2015 = pd.concat([data_2015.drop('human_address', axis=1), # Delete 'human_address' column\n",
    "                       data_2015['human_address'].apply(ast.literal_eval) # Convert string into dictionary\n",
    "                                                 .apply(pd.Series)], # Split the dictionary into columns\n",
    "                      axis=1)"
   ]
  },
  {
   "cell_type": "markdown",
   "metadata": {},
   "source": [
    "### Renommer les variables de 2015 comme celles de 2016"
   ]
  },
  {
   "cell_type": "code",
   "execution_count": 10,
   "metadata": {
    "ExecuteTime": {
     "end_time": "2020-05-10T10:31:22.497341Z",
     "start_time": "2020-05-10T10:31:22.487919Z"
    }
   },
   "outputs": [],
   "source": [
    "data_2015.rename(columns={'GHGEmissions(MetricTonsCO2e)': 'TotalGHGEmissions',\n",
    "                  'GHGEmissionsIntensity(kgCO2e/ft2)': 'GHGEmissionsIntensity',\n",
    "                  'Comment': 'Comments',\n",
    "                  'latitude': 'Latitude',\n",
    "                  'longitude': 'Longitude',\n",
    "                  'address': 'Address',\n",
    "                  'city': 'City',\n",
    "                  'state': 'State',\n",
    "                  'zip': 'ZipCode'},\n",
    "                 inplace=True)"
   ]
  },
  {
   "cell_type": "markdown",
   "metadata": {},
   "source": [
    "Il ne reste plus qu'à vérifier que toutes les variables de 2016 sont bien présentes dans le jeu de données de 2015."
   ]
  },
  {
   "cell_type": "code",
   "execution_count": 11,
   "metadata": {
    "ExecuteTime": {
     "end_time": "2020-05-10T10:31:22.504320Z",
     "start_time": "2020-05-10T10:31:22.498311Z"
    }
   },
   "outputs": [
    {
     "name": "stdout",
     "output_type": "stream",
     "text": [
      "46\n"
     ]
    }
   ],
   "source": [
    "features_2015 = data_2015.columns.tolist()\n",
    "features_2016 = raw_data_2016.columns.tolist()\n",
    "features = [c for c in features_2016 if c in features_2015]\n",
    "print(len(features))"
   ]
  },
  {
   "cell_type": "markdown",
   "metadata": {},
   "source": [
    "C'est bon, toutes les variables de 2016 sont bien présentes dans le jeu de données de 2015. Il nous reste maintenant à traiter les variables de 2015 non présentes dans le jeu de données de 2016."
   ]
  },
  {
   "cell_type": "markdown",
   "metadata": {},
   "source": [
    "### Variables non présentes dans le jeu de données 2016"
   ]
  },
  {
   "cell_type": "code",
   "execution_count": 12,
   "metadata": {
    "ExecuteTime": {
     "end_time": "2020-05-10T10:31:22.511302Z",
     "start_time": "2020-05-10T10:31:22.506289Z"
    }
   },
   "outputs": [
    {
     "name": "stdout",
     "output_type": "stream",
     "text": [
      "['OtherFuelUse(kBtu)', '2010 Census Tracts', 'Seattle Police Department Micro Community Policing Plan Areas', 'City Council Districts', 'SPD Beats', 'Zip Codes']\n"
     ]
    }
   ],
   "source": [
    "features = [c for c in features_2015 if c not in features_2016]\n",
    "print(features)"
   ]
  },
  {
   "cell_type": "markdown",
   "metadata": {},
   "source": [
    "Voici la liste des variables manquantes :\n",
    "\n",
    "- OtherFuelUse(kBtu)\n",
    "- 2010 Census Tracts\n",
    "- Seattle Police Department Micro Community Policing Plan Areas\n",
    "- City Council Districts\n",
    "- SPD Beats (ils s'agit de zone de délimitation, elles sont au nombre de cinq à Seattle)\n",
    "- Zip Codes\n",
    "\n",
    "Les cinq dernières ne devraient pas changer d'une année à l'autre, et peuvent donc être intégrée au jeu de données de 2016 en reprenant les même valeurs que celles de 2015.\n",
    "\n",
    "En revanche, ce n'est pas le cas pour **OtherFuelUse(kBtu)**. Il faudra vérifier si on ne peut pas l'obtenir via d'autres variables. Si ce n'est pas le cas, alors il faudra voir si ses valeurs sont négligeables par rapport aux autres sources de consommation."
   ]
  },
  {
   "cell_type": "markdown",
   "metadata": {},
   "source": [
    "### Ajout des variables manquantes pour le jeu de données de 2016"
   ]
  },
  {
   "cell_type": "code",
   "execution_count": 13,
   "metadata": {
    "ExecuteTime": {
     "end_time": "2020-05-10T10:31:22.563181Z",
     "start_time": "2020-05-10T10:31:22.512273Z"
    }
   },
   "outputs": [],
   "source": [
    "feat_to_add =['OSEBuildingID', '2010 Census Tracts',\n",
    "              'Seattle Police Department Micro Community Policing Plan Areas',\n",
    "              'City Council Districts',\n",
    "              'SPD Beats',\n",
    "              'Zip Codes']\n",
    "\n",
    "data_2016 = pd.merge(raw_data_2016, data_2015[feat_to_add], how='left', on='OSEBuildingID')"
   ]
  },
  {
   "cell_type": "markdown",
   "metadata": {},
   "source": [
    "### Traitement de la variable OtherFuelUse(kBtu)"
   ]
  },
  {
   "cell_type": "markdown",
   "metadata": {},
   "source": [
    "Nous allons commencer par regarder s'il est possible de calculer cette variable à partir de la consommation totale et des autres sources d'énergie.\n",
    "\n",
    "Puis nous diviserons la différence entre le calcul et la variable *OtherFuelUse(kBtu)* par la consommation totale *SiteEnergyUse(kBtu)*. Cela permettra de vérifier si la différence est négligeable et donc de valider le calcul."
   ]
  },
  {
   "cell_type": "code",
   "execution_count": 14,
   "metadata": {
    "ExecuteTime": {
     "end_time": "2020-05-10T10:31:22.575105Z",
     "start_time": "2020-05-10T10:31:22.564134Z"
    }
   },
   "outputs": [],
   "source": [
    "df = data_2015[['SiteEnergyUse(kBtu)', 'SiteEnergyUseWN(kBtu)',\n",
    "                'SteamUse(kBtu)', 'Electricity(kBtu)', 'NaturalGas(kBtu)', 'OtherFuelUse(kBtu)']].copy()\n",
    "\n",
    "df['Other_calc'] = df.iloc[:, 0] - df.iloc[:, 2:].sum(axis=1)\n",
    "df['Other_calc'] = df['Other_calc'] / df.iloc[:, 0]"
   ]
  },
  {
   "cell_type": "code",
   "execution_count": 15,
   "metadata": {
    "ExecuteTime": {
     "end_time": "2020-05-10T10:31:22.608507Z",
     "start_time": "2020-05-10T10:31:22.576102Z"
    }
   },
   "outputs": [
    {
     "data": {
      "text/html": [
       "<div>\n",
       "<style scoped>\n",
       "    .dataframe tbody tr th:only-of-type {\n",
       "        vertical-align: middle;\n",
       "    }\n",
       "\n",
       "    .dataframe tbody tr th {\n",
       "        vertical-align: top;\n",
       "    }\n",
       "\n",
       "    .dataframe thead th {\n",
       "        text-align: right;\n",
       "    }\n",
       "</style>\n",
       "<table border=\"1\" class=\"dataframe\">\n",
       "  <thead>\n",
       "    <tr style=\"text-align: right;\">\n",
       "      <th></th>\n",
       "      <th>SiteEnergyUse(kBtu)</th>\n",
       "      <th>SiteEnergyUseWN(kBtu)</th>\n",
       "      <th>SteamUse(kBtu)</th>\n",
       "      <th>Electricity(kBtu)</th>\n",
       "      <th>NaturalGas(kBtu)</th>\n",
       "      <th>OtherFuelUse(kBtu)</th>\n",
       "      <th>Other_calc</th>\n",
       "    </tr>\n",
       "  </thead>\n",
       "  <tbody>\n",
       "    <tr>\n",
       "      <th>count</th>\n",
       "      <td>3.330000e+03</td>\n",
       "      <td>3.330000e+03</td>\n",
       "      <td>3.330000e+03</td>\n",
       "      <td>3.330000e+03</td>\n",
       "      <td>3.330000e+03</td>\n",
       "      <td>3.330000e+03</td>\n",
       "      <td>3328.000000</td>\n",
       "    </tr>\n",
       "    <tr>\n",
       "      <th>mean</th>\n",
       "      <td>4.983106e+06</td>\n",
       "      <td>5.203055e+06</td>\n",
       "      <td>2.502851e+05</td>\n",
       "      <td>3.473209e+06</td>\n",
       "      <td>1.253304e+06</td>\n",
       "      <td>7.142301e+03</td>\n",
       "      <td>-0.000246</td>\n",
       "    </tr>\n",
       "    <tr>\n",
       "      <th>std</th>\n",
       "      <td>1.375330e+07</td>\n",
       "      <td>1.400757e+07</td>\n",
       "      <td>3.481900e+06</td>\n",
       "      <td>9.519639e+06</td>\n",
       "      <td>4.415142e+06</td>\n",
       "      <td>1.962790e+05</td>\n",
       "      <td>0.007625</td>\n",
       "    </tr>\n",
       "    <tr>\n",
       "      <th>min</th>\n",
       "      <td>0.000000e+00</td>\n",
       "      <td>0.000000e+00</td>\n",
       "      <td>0.000000e+00</td>\n",
       "      <td>0.000000e+00</td>\n",
       "      <td>0.000000e+00</td>\n",
       "      <td>0.000000e+00</td>\n",
       "      <td>-0.314228</td>\n",
       "    </tr>\n",
       "    <tr>\n",
       "      <th>25%</th>\n",
       "      <td>9.139300e+05</td>\n",
       "      <td>9.883248e+05</td>\n",
       "      <td>0.000000e+00</td>\n",
       "      <td>6.363322e+05</td>\n",
       "      <td>0.000000e+00</td>\n",
       "      <td>0.000000e+00</td>\n",
       "      <td>-0.000041</td>\n",
       "    </tr>\n",
       "    <tr>\n",
       "      <th>50%</th>\n",
       "      <td>1.776219e+06</td>\n",
       "      <td>1.953996e+06</td>\n",
       "      <td>0.000000e+00</td>\n",
       "      <td>1.160236e+06</td>\n",
       "      <td>2.945770e+05</td>\n",
       "      <td>0.000000e+00</td>\n",
       "      <td>-0.000033</td>\n",
       "    </tr>\n",
       "    <tr>\n",
       "      <th>75%</th>\n",
       "      <td>4.044277e+06</td>\n",
       "      <td>4.368462e+06</td>\n",
       "      <td>0.000000e+00</td>\n",
       "      <td>2.750847e+06</td>\n",
       "      <td>1.115366e+06</td>\n",
       "      <td>0.000000e+00</td>\n",
       "      <td>-0.000022</td>\n",
       "    </tr>\n",
       "    <tr>\n",
       "      <th>max</th>\n",
       "      <td>2.958126e+08</td>\n",
       "      <td>2.977410e+08</td>\n",
       "      <td>1.278697e+08</td>\n",
       "      <td>2.847263e+08</td>\n",
       "      <td>1.364484e+08</td>\n",
       "      <td>8.269669e+06</td>\n",
       "      <td>0.000001</td>\n",
       "    </tr>\n",
       "  </tbody>\n",
       "</table>\n",
       "</div>"
      ],
      "text/plain": [
       "       SiteEnergyUse(kBtu)  SiteEnergyUseWN(kBtu)  SteamUse(kBtu)  \\\n",
       "count         3.330000e+03           3.330000e+03    3.330000e+03   \n",
       "mean          4.983106e+06           5.203055e+06    2.502851e+05   \n",
       "std           1.375330e+07           1.400757e+07    3.481900e+06   \n",
       "min           0.000000e+00           0.000000e+00    0.000000e+00   \n",
       "25%           9.139300e+05           9.883248e+05    0.000000e+00   \n",
       "50%           1.776219e+06           1.953996e+06    0.000000e+00   \n",
       "75%           4.044277e+06           4.368462e+06    0.000000e+00   \n",
       "max           2.958126e+08           2.977410e+08    1.278697e+08   \n",
       "\n",
       "       Electricity(kBtu)  NaturalGas(kBtu)  OtherFuelUse(kBtu)   Other_calc  \n",
       "count       3.330000e+03      3.330000e+03        3.330000e+03  3328.000000  \n",
       "mean        3.473209e+06      1.253304e+06        7.142301e+03    -0.000246  \n",
       "std         9.519639e+06      4.415142e+06        1.962790e+05     0.007625  \n",
       "min         0.000000e+00      0.000000e+00        0.000000e+00    -0.314228  \n",
       "25%         6.363322e+05      0.000000e+00        0.000000e+00    -0.000041  \n",
       "50%         1.160236e+06      2.945770e+05        0.000000e+00    -0.000033  \n",
       "75%         2.750847e+06      1.115366e+06        0.000000e+00    -0.000022  \n",
       "max         2.847263e+08      1.364484e+08        8.269669e+06     0.000001  "
      ]
     },
     "execution_count": 15,
     "metadata": {},
     "output_type": "execute_result"
    }
   ],
   "source": [
    "df.describe()"
   ]
  },
  {
   "cell_type": "markdown",
   "metadata": {},
   "source": [
    "Pour la majorité des bâtiments, la différence est marginale par rapport à la consommation totale (<0.1%). A noter que les valeurs obtenues après cacul sont sytématiquement plus faibles .\n",
    "\n",
    "Nous observons de plus, que pour au moins une des observations, la différence est significative, représentant plus de 30% de la consommation totale.  \n",
    "Vérifions s'il s'agit d'un cas isolé en affichant toutes les observations dont la différence représente plus de 1% de la consommation totale."
   ]
  },
  {
   "cell_type": "code",
   "execution_count": 16,
   "metadata": {
    "ExecuteTime": {
     "end_time": "2020-05-10T10:31:22.621449Z",
     "start_time": "2020-05-10T10:31:22.609508Z"
    }
   },
   "outputs": [
    {
     "name": "stdout",
     "output_type": "stream",
     "text": [
      "3\n"
     ]
    },
    {
     "data": {
      "text/html": [
       "<div>\n",
       "<style scoped>\n",
       "    .dataframe tbody tr th:only-of-type {\n",
       "        vertical-align: middle;\n",
       "    }\n",
       "\n",
       "    .dataframe tbody tr th {\n",
       "        vertical-align: top;\n",
       "    }\n",
       "\n",
       "    .dataframe thead th {\n",
       "        text-align: right;\n",
       "    }\n",
       "</style>\n",
       "<table border=\"1\" class=\"dataframe\">\n",
       "  <thead>\n",
       "    <tr style=\"text-align: right;\">\n",
       "      <th></th>\n",
       "      <th>SiteEnergyUse(kBtu)</th>\n",
       "      <th>SiteEnergyUseWN(kBtu)</th>\n",
       "      <th>SteamUse(kBtu)</th>\n",
       "      <th>Electricity(kBtu)</th>\n",
       "      <th>NaturalGas(kBtu)</th>\n",
       "      <th>OtherFuelUse(kBtu)</th>\n",
       "      <th>Other_calc</th>\n",
       "    </tr>\n",
       "  </thead>\n",
       "  <tbody>\n",
       "    <tr>\n",
       "      <th>564</th>\n",
       "      <td>5288304.0</td>\n",
       "      <td>5288304.0</td>\n",
       "      <td>0.0</td>\n",
       "      <td>5288523.0</td>\n",
       "      <td>618364.0</td>\n",
       "      <td>0.0</td>\n",
       "      <td>-0.116972</td>\n",
       "    </tr>\n",
       "    <tr>\n",
       "      <th>1201</th>\n",
       "      <td>1554939.0</td>\n",
       "      <td>2129737.0</td>\n",
       "      <td>0.0</td>\n",
       "      <td>1482658.0</td>\n",
       "      <td>560886.0</td>\n",
       "      <td>0.0</td>\n",
       "      <td>-0.314228</td>\n",
       "    </tr>\n",
       "    <tr>\n",
       "      <th>1308</th>\n",
       "      <td>4217108.0</td>\n",
       "      <td>4217108.0</td>\n",
       "      <td>0.0</td>\n",
       "      <td>4217284.0</td>\n",
       "      <td>1201563.0</td>\n",
       "      <td>0.0</td>\n",
       "      <td>-0.284968</td>\n",
       "    </tr>\n",
       "  </tbody>\n",
       "</table>\n",
       "</div>"
      ],
      "text/plain": [
       "      SiteEnergyUse(kBtu)  SiteEnergyUseWN(kBtu)  SteamUse(kBtu)  \\\n",
       "564             5288304.0              5288304.0             0.0   \n",
       "1201            1554939.0              2129737.0             0.0   \n",
       "1308            4217108.0              4217108.0             0.0   \n",
       "\n",
       "      Electricity(kBtu)  NaturalGas(kBtu)  OtherFuelUse(kBtu)  Other_calc  \n",
       "564           5288523.0          618364.0                 0.0   -0.116972  \n",
       "1201          1482658.0          560886.0                 0.0   -0.314228  \n",
       "1308          4217284.0         1201563.0                 0.0   -0.284968  "
      ]
     },
     "execution_count": 16,
     "metadata": {},
     "output_type": "execute_result"
    }
   ],
   "source": [
    "outliers = df[df['Other_calc'].abs()>0.001]\n",
    "print(outliers.shape[0])\n",
    "outliers"
   ]
  },
  {
   "cell_type": "markdown",
   "metadata": {},
   "source": [
    "Ces valeurs anomaliques sont seulement au nombre de trois. En y regardant de plus près, nous notons que pour deux d'entre elles la consommation en électricité seule est supérieure à la consommation totale, ce qui est impossible. Il s'agit probablement d'outliers, vérifions s'ils ont été étiquetés comme tels grâce à la variable *Outlier*."
   ]
  },
  {
   "cell_type": "code",
   "execution_count": 17,
   "metadata": {
    "ExecuteTime": {
     "end_time": "2020-05-10T10:31:22.631438Z",
     "start_time": "2020-05-10T10:31:22.622446Z"
    }
   },
   "outputs": [
    {
     "data": {
      "text/html": [
       "<div>\n",
       "<style scoped>\n",
       "    .dataframe tbody tr th:only-of-type {\n",
       "        vertical-align: middle;\n",
       "    }\n",
       "\n",
       "    .dataframe tbody tr th {\n",
       "        vertical-align: top;\n",
       "    }\n",
       "\n",
       "    .dataframe thead th {\n",
       "        text-align: right;\n",
       "    }\n",
       "</style>\n",
       "<table border=\"1\" class=\"dataframe\">\n",
       "  <thead>\n",
       "    <tr style=\"text-align: right;\">\n",
       "      <th></th>\n",
       "      <th>SiteEnergyUse(kBtu)</th>\n",
       "      <th>Electricity(kBtu)</th>\n",
       "      <th>Outlier</th>\n",
       "    </tr>\n",
       "  </thead>\n",
       "  <tbody>\n",
       "    <tr>\n",
       "      <th>564</th>\n",
       "      <td>5288304.0</td>\n",
       "      <td>5288523.0</td>\n",
       "      <td>NaN</td>\n",
       "    </tr>\n",
       "    <tr>\n",
       "      <th>1201</th>\n",
       "      <td>1554939.0</td>\n",
       "      <td>1482658.0</td>\n",
       "      <td>NaN</td>\n",
       "    </tr>\n",
       "    <tr>\n",
       "      <th>1308</th>\n",
       "      <td>4217108.0</td>\n",
       "      <td>4217284.0</td>\n",
       "      <td>NaN</td>\n",
       "    </tr>\n",
       "  </tbody>\n",
       "</table>\n",
       "</div>"
      ],
      "text/plain": [
       "      SiteEnergyUse(kBtu)  Electricity(kBtu) Outlier\n",
       "564             5288304.0          5288523.0     NaN\n",
       "1201            1554939.0          1482658.0     NaN\n",
       "1308            4217108.0          4217284.0     NaN"
      ]
     },
     "execution_count": 17,
     "metadata": {},
     "output_type": "execute_result"
    }
   ],
   "source": [
    "idx = outliers.index\n",
    "data_2015.loc[idx, ['SiteEnergyUse(kBtu)', 'Electricity(kBtu)', 'Outlier']]"
   ]
  },
  {
   "cell_type": "markdown",
   "metadata": {},
   "source": [
    "Ces observations n'ont pas été étiquetées comme outliers, mais elles le sont néanmoins. Il y a nécessairement une erreur lors du repport de la consommation. Cette dernière étant une des valeurs cibles que l'on cherche à modéliser, il est préférable d'écarter ces *outliers*."
   ]
  },
  {
   "cell_type": "code",
   "execution_count": 18,
   "metadata": {
    "ExecuteTime": {
     "end_time": "2020-05-10T10:31:22.640399Z",
     "start_time": "2020-05-10T10:31:22.633417Z"
    }
   },
   "outputs": [],
   "source": [
    "data_2015.drop(index=idx, inplace=True)"
   ]
  },
  {
   "cell_type": "markdown",
   "metadata": {},
   "source": [
    "Même sans ces outliers, nous avons pour la majorité des bâtiments une consommation totale différente de la somme des consommations, ce qui pourrait être problématique. Nous verrons comment contourner ce problème dans un autre notebook destiné à l'ingénierie de variables."
   ]
  },
  {
   "cell_type": "markdown",
   "metadata": {},
   "source": [
    "## Sélection des observations"
   ]
  },
  {
   "cell_type": "markdown",
   "metadata": {
    "heading_collapsed": true
   },
   "source": [
    "### Données manquantes des variables à modéliser"
   ]
  },
  {
   "cell_type": "markdown",
   "metadata": {
    "hidden": true
   },
   "source": [
    "Bien que nous traiterons plus en détail le traitement des données manquantes lors de l'ingénierie des variables, il est important de traiter tout de suite le cas des attributs cibles que sont :\n",
    "- TotalGHGEmissions --> émissions de CO2\n",
    "- SiteEnergyUse(kBtu) --> consommation totale d'énergie\n",
    "\n",
    "Ces attributs étant les variables que nous cherchons à modéliser, nous ne pouvons pas nous permettre de les imputer. Nous n'avons pas d'autre choix que de retirer les bâtiments non renseignés de l'analyse."
   ]
  },
  {
   "cell_type": "code",
   "execution_count": 19,
   "metadata": {
    "ExecuteTime": {
     "end_time": "2020-05-10T10:31:22.653395Z",
     "start_time": "2020-05-10T10:31:22.642410Z"
    },
    "hidden": true
   },
   "outputs": [
    {
     "name": "stdout",
     "output_type": "stream",
     "text": [
      "10 bâtiments vont être écartés.\n"
     ]
    }
   ],
   "source": [
    "idx_to_keep = data_2015[['TotalGHGEmissions', 'SiteEnergyUse(kBtu)']].dropna().index\n",
    "print(\"{} bâtiments vont être écartés.\".format(data_2015.shape[0]-idx_to_keep.size))\n",
    "data_2015 = data_2015.loc[idx_to_keep]"
   ]
  },
  {
   "cell_type": "markdown",
   "metadata": {
    "heading_collapsed": true
   },
   "source": [
    "### Vérifier la présence de doublons"
   ]
  },
  {
   "cell_type": "markdown",
   "metadata": {
    "hidden": true
   },
   "source": [
    "Pour vérifier la présence de doublons, nous utiliserons la variable *OSEBuildingID*. Au vu de son nom, il s'agit certainement d'une clé primaire permettant d'identifier chaque bâtiment de manière unique, donc particulièrement adaptée pour la recherche de doublons.\n",
    "\n",
    "Nous devons au préalable vérifier que toutes les données sont bien renseignées."
   ]
  },
  {
   "cell_type": "code",
   "execution_count": 20,
   "metadata": {
    "ExecuteTime": {
     "end_time": "2020-05-10T10:31:22.666361Z",
     "start_time": "2020-05-10T10:31:22.654378Z"
    },
    "hidden": true
   },
   "outputs": [
    {
     "name": "stdout",
     "output_type": "stream",
     "text": [
      "Il y a 0 données manquantes pour les données de 2015\n",
      "Il y a 0 données manquantes pour les données de 2016\n"
     ]
    }
   ],
   "source": [
    "na_15 = data_2015[data_2015['OSEBuildingID'].isna()].size\n",
    "na_16 = data_2016[data_2016['OSEBuildingID'].isna()].size\n",
    "print(\"Il y a {} données manquantes pour les données de 2015\".format(na_15))\n",
    "print(\"Il y a {} données manquantes pour les données de 2016\".format(na_16))\n"
   ]
  },
  {
   "cell_type": "markdown",
   "metadata": {
    "hidden": true
   },
   "source": [
    "C'est bien le cas, nous pouvons donc utiliser cette variable comme identifiant pour vérifier la présence de doublons"
   ]
  },
  {
   "cell_type": "code",
   "execution_count": 21,
   "metadata": {
    "ExecuteTime": {
     "end_time": "2020-05-10T10:31:22.672345Z",
     "start_time": "2020-05-10T10:31:22.667360Z"
    },
    "hidden": true
   },
   "outputs": [
    {
     "name": "stdout",
     "output_type": "stream",
     "text": [
      "Il y a 0 doublons pour les données de 2015\n"
     ]
    }
   ],
   "source": [
    "n_dup_15 = data_2015.shape[0] - data_2015['OSEBuildingID'].unique().size\n",
    "print(\"Il y a {} doublons pour les données de 2015\".format(n_dup_15))"
   ]
  },
  {
   "cell_type": "markdown",
   "metadata": {
    "hidden": true
   },
   "source": [
    "Il n'y a pas de doublons pour les deux jeux de données, nous utiliserons la variable *OSEBuildingID* comme index."
   ]
  },
  {
   "cell_type": "code",
   "execution_count": 22,
   "metadata": {
    "ExecuteTime": {
     "end_time": "2020-05-10T10:31:22.678325Z",
     "start_time": "2020-05-10T10:31:22.674331Z"
    },
    "hidden": true
   },
   "outputs": [],
   "source": [
    "data_2015.set_index('OSEBuildingID', inplace=True)"
   ]
  },
  {
   "cell_type": "markdown",
   "metadata": {
    "heading_collapsed": true
   },
   "source": [
    "### Traiter les outliers"
   ]
  },
  {
   "cell_type": "markdown",
   "metadata": {
    "hidden": true
   },
   "source": [
    "Nous avons vu précédement qu'une variable *Outlier* permettait de renseigner si des observations étaient des outliers ou non. Vérifions si beaucoup d'outliers ont été identifiés."
   ]
  },
  {
   "cell_type": "code",
   "execution_count": 23,
   "metadata": {
    "ExecuteTime": {
     "end_time": "2020-05-10T10:31:22.688270Z",
     "start_time": "2020-05-10T10:31:22.681315Z"
    },
    "hidden": true
   },
   "outputs": [
    {
     "data": {
      "text/plain": [
       "High Outlier    46\n",
       "Low Outlier     36\n",
       "Name: Outlier, dtype: int64"
      ]
     },
     "execution_count": 23,
     "metadata": {},
     "output_type": "execute_result"
    }
   ],
   "source": [
    "data_2015['Outlier'].value_counts()"
   ]
  },
  {
   "cell_type": "markdown",
   "metadata": {
    "hidden": true
   },
   "source": [
    "Au vu du faible nombre d'outliers identifiés, il est préférable de les écarter."
   ]
  },
  {
   "cell_type": "code",
   "execution_count": 24,
   "metadata": {
    "ExecuteTime": {
     "end_time": "2020-05-10T10:31:22.698268Z",
     "start_time": "2020-05-10T10:31:22.689294Z"
    },
    "hidden": true
   },
   "outputs": [
    {
     "name": "stdout",
     "output_type": "stream",
     "text": [
      "82 bâtiments vont être écartés.\n"
     ]
    }
   ],
   "source": [
    "idx = data_2015[data_2015['Outlier'].notna()].index\n",
    "print(\"{} bâtiments vont être écartés.\".format(idx.size))\n",
    "data_2015.drop(index=idx, inplace=True)"
   ]
  },
  {
   "cell_type": "markdown",
   "metadata": {
    "heading_collapsed": true
   },
   "source": [
    "### Écarter les bâtiments destinés à l'habitation"
   ]
  },
  {
   "cell_type": "markdown",
   "metadata": {
    "hidden": true
   },
   "source": [
    "Vu qu'on s'intéresse uniquement aux bâtiments **non destinés à l'habitation**. Il va donc falloir écarter tous les bâtiments de type habitation, ou dont l'utilisation principale est l'habitation. Nous avons plusieurs variables qui nous informe sur le type de bâtiment, les plus prometteuses semblent être :\n",
    "- BuildingType\n",
    "- PrimaryPropertyType\n",
    "\n",
    "Regardons les un peu plus en détail en commençant par *BuildingType*."
   ]
  },
  {
   "cell_type": "code",
   "execution_count": 25,
   "metadata": {
    "ExecuteTime": {
     "end_time": "2020-05-10T10:31:22.706235Z",
     "start_time": "2020-05-10T10:31:22.699265Z"
    },
    "hidden": true
   },
   "outputs": [
    {
     "data": {
      "text/plain": [
       "NonResidential          1429\n",
       "Multifamily LR (1-4)     993\n",
       "Multifamily MR (5-9)     537\n",
       "Multifamily HR (10+)     104\n",
       "SPS-District K-12         93\n",
       "Nonresidential COS        68\n",
       "Campus                    21\n",
       "Name: BuildingType, dtype: int64"
      ]
     },
     "execution_count": 25,
     "metadata": {},
     "output_type": "execute_result"
    }
   ],
   "source": [
    "data_2015['BuildingType'].value_counts()"
   ]
  },
  {
   "cell_type": "markdown",
   "metadata": {
    "hidden": true
   },
   "source": [
    "Les bâtiments résidentiels semblent être définis sous le nom de **Multifamily**, les deux lettres qui suivent (LR, MR, HR) donnent la taille de la résidence. Ne voulant pas écarter trop vite ces bâtiments nous allons vérifier s'ils sont bien destinés à l'habitation, pour cela nous utiliserons l'autre variable *PrimaryPropertyType*."
   ]
  },
  {
   "cell_type": "code",
   "execution_count": 26,
   "metadata": {
    "ExecuteTime": {
     "end_time": "2020-05-10T10:31:22.717204Z",
     "start_time": "2020-05-10T10:31:22.709227Z"
    },
    "hidden": true
   },
   "outputs": [
    {
     "data": {
      "text/plain": [
       "Low-Rise Multifamily           962\n",
       "Mid-Rise Multifamily           522\n",
       "Small- and Mid-Sized Office    283\n",
       "Other                          258\n",
       "Non-Refrigerated Warehouse     187\n",
       "Large Office                   160\n",
       "K-12 School                    130\n",
       "Mixed Use Property             125\n",
       "High-Rise Multifamily          100\n",
       "Retail Store                    96\n",
       "Worship Facility                72\n",
       "Hotel                           71\n",
       "Distribution Center\\n           51\n",
       "Medical Office                  43\n",
       "Senior Care Community           43\n",
       "Supermarket/Grocery Store       36\n",
       "Self-Storage Facility\\n         27\n",
       "College/University              22\n",
       "Residence Hall/Dormitory        15\n",
       "Refrigerated Warehouse          13\n",
       "Restaurant\\n                    10\n",
       "Hospital                        10\n",
       "SPS-District K-12                4\n",
       "Distribution Center              2\n",
       "Restaurant                       1\n",
       "Laboratory                       1\n",
       "Self-Storage Facility            1\n",
       "Name: PrimaryPropertyType, dtype: int64"
      ]
     },
     "execution_count": 26,
     "metadata": {},
     "output_type": "execute_result"
    }
   ],
   "source": [
    "data_2015['PrimaryPropertyType'].value_counts()"
   ]
  },
  {
   "cell_type": "markdown",
   "metadata": {
    "hidden": true
   },
   "source": [
    "Nous retrouvons nos *Multifamily*, mais nous constatons que bien plus de type de bâtiments sont présents. De plus, le nombre de bâtiments définis par la catégorie Multifamily semble être plus faible."
   ]
  },
  {
   "cell_type": "code",
   "execution_count": 27,
   "metadata": {
    "ExecuteTime": {
     "end_time": "2020-05-10T10:31:22.726170Z",
     "start_time": "2020-05-10T10:31:22.720187Z"
    },
    "hidden": true
   },
   "outputs": [
    {
     "name": "stdout",
     "output_type": "stream",
     "text": [
      "1634 observations sont considérées comme des habitations par BuildingType\n",
      "1584 observations sont considérées comme des habitations par PrimaryPropertyType\n"
     ]
    }
   ],
   "source": [
    "n_bt = 993 + 537 + 104\n",
    "n_ppt = 962 + 522 + 100\n",
    "print(\"{} observations sont considérées comme des habitations par BuildingType\".format(n_bt))\n",
    "print(\"{} observations sont considérées comme des habitations par PrimaryPropertyType\".format(n_ppt))"
   ]
  },
  {
   "cell_type": "markdown",
   "metadata": {
    "hidden": true
   },
   "source": [
    "Notre doute est confirmé, il y a moins de bâtiments définis comme résidentiels par la variable *PrimaryPropertyType* que par *BuildingType*.  \n",
    "Essayons de comprendre pourquoi.  \n",
    "Pour cela, nous filtrerons les données pour ne garder que les bâtiments associés à des petites résidences par *BuildingType*, et nous regarderons quelles sont les valeurs prises par *PrimaryPropertyType*."
   ]
  },
  {
   "cell_type": "code",
   "execution_count": 28,
   "metadata": {
    "ExecuteTime": {
     "end_time": "2020-05-10T10:31:22.737166Z",
     "start_time": "2020-05-10T10:31:22.727192Z"
    },
    "hidden": true
   },
   "outputs": [
    {
     "data": {
      "text/plain": [
       "Low-Rise Multifamily           960\n",
       "Senior Care Community           15\n",
       "Mixed Use Property              12\n",
       "Other                            4\n",
       "Small- and Mid-Sized Office      1\n",
       "College/University               1\n",
       "Name: PrimaryPropertyType, dtype: int64"
      ]
     },
     "execution_count": 28,
     "metadata": {},
     "output_type": "execute_result"
    }
   ],
   "source": [
    "data_2015[data_2015['BuildingType']=='Multifamily LR (1-4)']['PrimaryPropertyType'].value_counts()"
   ]
  },
  {
   "cell_type": "markdown",
   "metadata": {
    "ExecuteTime": {
     "end_time": "2020-05-02T10:25:15.751345Z",
     "start_time": "2020-05-02T10:25:15.745333Z"
    },
    "hidden": true
   },
   "source": [
    "Nous constatons que la variable *BuildingType* n'est pas assez précise, pour certains bâtiments elle les définit comme étant des résidences bien que leur utilisation principale ne soit pas liée à l'habitation.\n",
    "\n",
    "**Pour filtrer nos données nous utiliserons donc la variable *PrimaryPropertyType*.**"
   ]
  },
  {
   "cell_type": "code",
   "execution_count": 29,
   "metadata": {
    "ExecuteTime": {
     "end_time": "2020-05-10T10:31:22.748136Z",
     "start_time": "2020-05-10T10:31:22.738161Z"
    },
    "hidden": true
   },
   "outputs": [],
   "source": [
    "list_housing = ['Low-Rise Multifamily', 'Mid-Rise Multifamily', 'High-Rise Multifamily']\n",
    "idx_to_del = data_2015[data_2015['PrimaryPropertyType'].isin(list_housing)].index\n",
    "data_2015.drop(index=idx_to_del, inplace=True)"
   ]
  },
  {
   "cell_type": "markdown",
   "metadata": {},
   "source": [
    "## Nettoyage des variables liées à la consommation"
   ]
  },
  {
   "cell_type": "markdown",
   "metadata": {},
   "source": [
    "### Vérifier que les consommations sont bien positives"
   ]
  },
  {
   "cell_type": "code",
   "execution_count": 30,
   "metadata": {
    "ExecuteTime": {
     "end_time": "2020-05-10T10:31:22.781047Z",
     "start_time": "2020-05-10T10:31:22.749159Z"
    }
   },
   "outputs": [
    {
     "data": {
      "text/html": [
       "<div>\n",
       "<style scoped>\n",
       "    .dataframe tbody tr th:only-of-type {\n",
       "        vertical-align: middle;\n",
       "    }\n",
       "\n",
       "    .dataframe tbody tr th {\n",
       "        vertical-align: top;\n",
       "    }\n",
       "\n",
       "    .dataframe thead th {\n",
       "        text-align: right;\n",
       "    }\n",
       "</style>\n",
       "<table border=\"1\" class=\"dataframe\">\n",
       "  <thead>\n",
       "    <tr style=\"text-align: right;\">\n",
       "      <th></th>\n",
       "      <th>SiteEnergyUse(kBtu)</th>\n",
       "      <th>SiteEnergyUseWN(kBtu)</th>\n",
       "      <th>SteamUse(kBtu)</th>\n",
       "      <th>Electricity(kWh)</th>\n",
       "      <th>Electricity(kBtu)</th>\n",
       "      <th>NaturalGas(therms)</th>\n",
       "      <th>NaturalGas(kBtu)</th>\n",
       "      <th>OtherFuelUse(kBtu)</th>\n",
       "    </tr>\n",
       "  </thead>\n",
       "  <tbody>\n",
       "    <tr>\n",
       "      <th>count</th>\n",
       "      <td>1.661000e+03</td>\n",
       "      <td>1.661000e+03</td>\n",
       "      <td>1.661000e+03</td>\n",
       "      <td>1.661000e+03</td>\n",
       "      <td>1.661000e+03</td>\n",
       "      <td>1.661000e+03</td>\n",
       "      <td>1.661000e+03</td>\n",
       "      <td>1.661000e+03</td>\n",
       "    </tr>\n",
       "    <tr>\n",
       "      <th>mean</th>\n",
       "      <td>7.581087e+06</td>\n",
       "      <td>7.807376e+06</td>\n",
       "      <td>4.579823e+05</td>\n",
       "      <td>1.558216e+06</td>\n",
       "      <td>5.316854e+06</td>\n",
       "      <td>1.792341e+04</td>\n",
       "      <td>1.792341e+06</td>\n",
       "      <td>1.412561e+04</td>\n",
       "    </tr>\n",
       "    <tr>\n",
       "      <th>std</th>\n",
       "      <td>1.876139e+07</td>\n",
       "      <td>1.908709e+07</td>\n",
       "      <td>4.862279e+06</td>\n",
       "      <td>3.804145e+06</td>\n",
       "      <td>1.298028e+07</td>\n",
       "      <td>6.027597e+04</td>\n",
       "      <td>6.027598e+06</td>\n",
       "      <td>2.777247e+05</td>\n",
       "    </tr>\n",
       "    <tr>\n",
       "      <th>min</th>\n",
       "      <td>0.000000e+00</td>\n",
       "      <td>0.000000e+00</td>\n",
       "      <td>0.000000e+00</td>\n",
       "      <td>0.000000e+00</td>\n",
       "      <td>0.000000e+00</td>\n",
       "      <td>0.000000e+00</td>\n",
       "      <td>0.000000e+00</td>\n",
       "      <td>0.000000e+00</td>\n",
       "    </tr>\n",
       "    <tr>\n",
       "      <th>25%</th>\n",
       "      <td>1.231546e+06</td>\n",
       "      <td>1.380637e+06</td>\n",
       "      <td>0.000000e+00</td>\n",
       "      <td>2.179750e+05</td>\n",
       "      <td>7.437620e+05</td>\n",
       "      <td>0.000000e+00</td>\n",
       "      <td>0.000000e+00</td>\n",
       "      <td>0.000000e+00</td>\n",
       "    </tr>\n",
       "    <tr>\n",
       "      <th>50%</th>\n",
       "      <td>2.483320e+06</td>\n",
       "      <td>2.701447e+06</td>\n",
       "      <td>0.000000e+00</td>\n",
       "      <td>4.822180e+05</td>\n",
       "      <td>1.645395e+06</td>\n",
       "      <td>4.872000e+03</td>\n",
       "      <td>4.871670e+05</td>\n",
       "      <td>0.000000e+00</td>\n",
       "    </tr>\n",
       "    <tr>\n",
       "      <th>75%</th>\n",
       "      <td>6.781960e+06</td>\n",
       "      <td>7.070884e+06</td>\n",
       "      <td>0.000000e+00</td>\n",
       "      <td>1.392465e+06</td>\n",
       "      <td>4.751288e+06</td>\n",
       "      <td>1.466900e+04</td>\n",
       "      <td>1.466861e+06</td>\n",
       "      <td>0.000000e+00</td>\n",
       "    </tr>\n",
       "    <tr>\n",
       "      <th>max</th>\n",
       "      <td>2.958126e+08</td>\n",
       "      <td>2.977410e+08</td>\n",
       "      <td>1.278697e+08</td>\n",
       "      <td>8.344505e+07</td>\n",
       "      <td>2.847263e+08</td>\n",
       "      <td>1.364484e+06</td>\n",
       "      <td>1.364484e+08</td>\n",
       "      <td>8.269669e+06</td>\n",
       "    </tr>\n",
       "  </tbody>\n",
       "</table>\n",
       "</div>"
      ],
      "text/plain": [
       "       SiteEnergyUse(kBtu)  SiteEnergyUseWN(kBtu)  SteamUse(kBtu)  \\\n",
       "count         1.661000e+03           1.661000e+03    1.661000e+03   \n",
       "mean          7.581087e+06           7.807376e+06    4.579823e+05   \n",
       "std           1.876139e+07           1.908709e+07    4.862279e+06   \n",
       "min           0.000000e+00           0.000000e+00    0.000000e+00   \n",
       "25%           1.231546e+06           1.380637e+06    0.000000e+00   \n",
       "50%           2.483320e+06           2.701447e+06    0.000000e+00   \n",
       "75%           6.781960e+06           7.070884e+06    0.000000e+00   \n",
       "max           2.958126e+08           2.977410e+08    1.278697e+08   \n",
       "\n",
       "       Electricity(kWh)  Electricity(kBtu)  NaturalGas(therms)  \\\n",
       "count      1.661000e+03       1.661000e+03        1.661000e+03   \n",
       "mean       1.558216e+06       5.316854e+06        1.792341e+04   \n",
       "std        3.804145e+06       1.298028e+07        6.027597e+04   \n",
       "min        0.000000e+00       0.000000e+00        0.000000e+00   \n",
       "25%        2.179750e+05       7.437620e+05        0.000000e+00   \n",
       "50%        4.822180e+05       1.645395e+06        4.872000e+03   \n",
       "75%        1.392465e+06       4.751288e+06        1.466900e+04   \n",
       "max        8.344505e+07       2.847263e+08        1.364484e+06   \n",
       "\n",
       "       NaturalGas(kBtu)  OtherFuelUse(kBtu)  \n",
       "count      1.661000e+03        1.661000e+03  \n",
       "mean       1.792341e+06        1.412561e+04  \n",
       "std        6.027598e+06        2.777247e+05  \n",
       "min        0.000000e+00        0.000000e+00  \n",
       "25%        0.000000e+00        0.000000e+00  \n",
       "50%        4.871670e+05        0.000000e+00  \n",
       "75%        1.466861e+06        0.000000e+00  \n",
       "max        1.364484e+08        8.269669e+06  "
      ]
     },
     "execution_count": 30,
     "metadata": {},
     "output_type": "execute_result"
    }
   ],
   "source": [
    "col_conso = ['SiteEnergyUse(kBtu)',\n",
    "             'SiteEnergyUseWN(kBtu)',\n",
    "             'SteamUse(kBtu)', 'Electricity(kWh)',\n",
    "             'Electricity(kBtu)',\n",
    "             'NaturalGas(therms)',\n",
    "             'NaturalGas(kBtu)',\n",
    "             'OtherFuelUse(kBtu)']\n",
    "data_2015[col_conso].describe()"
   ]
  },
  {
   "cell_type": "markdown",
   "metadata": {},
   "source": [
    "Les valeurs sont bien positives ou nulles"
   ]
  },
  {
   "cell_type": "markdown",
   "metadata": {},
   "source": [
    "### Vérifier les conversions"
   ]
  },
  {
   "cell_type": "markdown",
   "metadata": {},
   "source": [
    "En parcourant les variables de consommation disponibles, nous notons que certaines variables donnent la même information mais avec des unités différentes :\n",
    "- Electricity(kBtu) et Electricity(kWh)\n",
    "- 'NaturalGas(kBtu)' et 'NaturalGas(therms)'\n",
    "\n",
    "L'unité usuelle pour *l'éléctricité* est le *kiloWatt heure (kWh)*. La consommation énergétique totale étant exprimée en *kBtu*, la consommation électrique mesurée en kWh a certainement été convertie en kBtu pour pouvoir la comparer à la consommation totale.\n",
    "Si la conversion a bien été effectuée, le ratio consommation électrique en kWh sur consommation électrique en kBtu, devrait être le même pour toute les observations, ie. *3.41214*."
   ]
  },
  {
   "cell_type": "code",
   "execution_count": 31,
   "metadata": {
    "ExecuteTime": {
     "end_time": "2020-05-10T10:31:22.790022Z",
     "start_time": "2020-05-10T10:31:22.782043Z"
    }
   },
   "outputs": [
    {
     "data": {
      "text/plain": [
       "count    1659.000000\n",
       "mean        3.412294\n",
       "std         0.006249\n",
       "min         3.411803\n",
       "25%         3.412140\n",
       "50%         3.412142\n",
       "75%         3.412142\n",
       "max         3.666667\n",
       "dtype: float64"
      ]
     },
     "execution_count": 31,
     "metadata": {},
     "output_type": "execute_result"
    }
   ],
   "source": [
    "test_elec = data_2015['Electricity(kBtu)'] / data_2015['Electricity(kWh)']\n",
    "test_elec.describe()"
   ]
  },
  {
   "cell_type": "markdown",
   "metadata": {},
   "source": [
    "Si pour la majorité le résultat obtenu est très proche de la valeur exacte, il n'est pas le même pour toutes les obervations. Cela rajoute inutilement du bruit aux données et pourrait abaisser les performances du modèle, il est donc préférable de corriger cette variable."
   ]
  },
  {
   "cell_type": "code",
   "execution_count": 32,
   "metadata": {
    "ExecuteTime": {
     "end_time": "2020-05-10T10:31:22.822952Z",
     "start_time": "2020-05-10T10:31:22.791010Z"
    }
   },
   "outputs": [],
   "source": [
    "data_2015['Electricity(kBtu)_corr'] = data_2015['Electricity(kWh)'] * 3.41214"
   ]
  },
  {
   "cell_type": "markdown",
   "metadata": {},
   "source": [
    "Regardons maintenant le *gaz naturel*.\n",
    "\n",
    "Aux Etats-Unis, la quantité de gaz naturel consommé est exprimé en *therms* sur les factures. Là encore, cette valeur a été convertie en KBtu pour pouvoir la comparer à la consommation énergétique totale. Ici, la conversion est très simple vu qu'il suffit de multiplier par *100* pour passer des *therms* aux *kBtu*.\n",
    "Verifions si la conversion a bien été effectuée."
   ]
  },
  {
   "cell_type": "code",
   "execution_count": 33,
   "metadata": {
    "ExecuteTime": {
     "end_time": "2020-05-10T10:31:22.832897Z",
     "start_time": "2020-05-10T10:31:22.823938Z"
    }
   },
   "outputs": [
    {
     "data": {
      "text/plain": [
       "count    1193.000000\n",
       "mean      100.004955\n",
       "std         0.525650\n",
       "min        91.250000\n",
       "25%        99.998065\n",
       "50%       100.000000\n",
       "75%       100.002025\n",
       "max       111.000000\n",
       "dtype: float64"
      ]
     },
     "execution_count": 33,
     "metadata": {},
     "output_type": "execute_result"
    }
   ],
   "source": [
    "test_gas = data_2015['NaturalGas(kBtu)'] / data_2015['NaturalGas(therms)']\n",
    "test_gas.describe()"
   ]
  },
  {
   "cell_type": "markdown",
   "metadata": {},
   "source": [
    "Nous observons comme pour l'électricité que la conversion n'a pas été bien effectuée pour toutes les données, là encore il faut corriger les donnée en utilisant le bon taux de conversion."
   ]
  },
  {
   "cell_type": "code",
   "execution_count": 34,
   "metadata": {
    "ExecuteTime": {
     "end_time": "2020-05-10T10:31:22.838872Z",
     "start_time": "2020-05-10T10:31:22.833881Z"
    }
   },
   "outputs": [],
   "source": [
    "data_2015['NaturalGas(kBtu)_corr'] = data_2015['NaturalGas(therms)'] * 100"
   ]
  },
  {
   "cell_type": "markdown",
   "metadata": {},
   "source": [
    "Il est en général préférable d'éviter d'avoir des variables redondantes, au risque sinon de voir des variables sur-représentés lors de la modélisation. Nous garderons que les consommations exprimées en kBtu (la version corrigée pour l'électricité et le gaz naturel)"
   ]
  },
  {
   "cell_type": "code",
   "execution_count": 35,
   "metadata": {
    "ExecuteTime": {
     "end_time": "2020-05-10T10:31:22.850867Z",
     "start_time": "2020-05-10T10:31:22.840894Z"
    }
   },
   "outputs": [],
   "source": [
    "col_to_del = ['Electricity(kBtu)', 'Electricity(kWh)', 'NaturalGas(kBtu)', 'NaturalGas(therms)']\n",
    "data_2015.drop(columns=col_to_del, inplace=True)"
   ]
  },
  {
   "cell_type": "markdown",
   "metadata": {},
   "source": [
    "## Réalisation d'un pipeline"
   ]
  },
  {
   "cell_type": "markdown",
   "metadata": {},
   "source": [
    "Nous commencerons par réaliser un pipeline qui permettra de s'assurer que le jeu de données de 2015 possède exactement les mêmes variables que celui de 2016."
   ]
  },
  {
   "cell_type": "code",
   "execution_count": 36,
   "metadata": {
    "ExecuteTime": {
     "end_time": "2020-05-10T10:31:24.866341Z",
     "start_time": "2020-05-10T10:31:22.851861Z"
    }
   },
   "outputs": [
    {
     "data": {
      "text/html": [
       "<div>\n",
       "<style scoped>\n",
       "    .dataframe tbody tr th:only-of-type {\n",
       "        vertical-align: middle;\n",
       "    }\n",
       "\n",
       "    .dataframe tbody tr th {\n",
       "        vertical-align: top;\n",
       "    }\n",
       "\n",
       "    .dataframe thead th {\n",
       "        text-align: right;\n",
       "    }\n",
       "</style>\n",
       "<table border=\"1\" class=\"dataframe\">\n",
       "  <thead>\n",
       "    <tr style=\"text-align: right;\">\n",
       "      <th></th>\n",
       "      <th>OSEBuildingID</th>\n",
       "      <th>DataYear</th>\n",
       "      <th>BuildingType</th>\n",
       "      <th>PrimaryPropertyType</th>\n",
       "      <th>PropertyName</th>\n",
       "      <th>TaxParcelIdentificationNumber</th>\n",
       "      <th>CouncilDistrictCode</th>\n",
       "      <th>Neighborhood</th>\n",
       "      <th>YearBuilt</th>\n",
       "      <th>NumberofBuildings</th>\n",
       "      <th>...</th>\n",
       "      <th>DefaultData</th>\n",
       "      <th>Comments</th>\n",
       "      <th>ComplianceStatus</th>\n",
       "      <th>Outlier</th>\n",
       "      <th>Latitude</th>\n",
       "      <th>Longitude</th>\n",
       "      <th>Address</th>\n",
       "      <th>City</th>\n",
       "      <th>State</th>\n",
       "      <th>ZipCode</th>\n",
       "    </tr>\n",
       "  </thead>\n",
       "  <tbody>\n",
       "    <tr>\n",
       "      <th>0</th>\n",
       "      <td>1</td>\n",
       "      <td>2015</td>\n",
       "      <td>NonResidential</td>\n",
       "      <td>Hotel</td>\n",
       "      <td>MAYFLOWER PARK HOTEL</td>\n",
       "      <td>659000030</td>\n",
       "      <td>7</td>\n",
       "      <td>DOWNTOWN</td>\n",
       "      <td>1927</td>\n",
       "      <td>1</td>\n",
       "      <td>...</td>\n",
       "      <td>No</td>\n",
       "      <td>NaN</td>\n",
       "      <td>Compliant</td>\n",
       "      <td>NaN</td>\n",
       "      <td>47.61219025</td>\n",
       "      <td>-122.33799744</td>\n",
       "      <td>405 OLIVE WAY</td>\n",
       "      <td>SEATTLE</td>\n",
       "      <td>WA</td>\n",
       "      <td>98101</td>\n",
       "    </tr>\n",
       "    <tr>\n",
       "      <th>1</th>\n",
       "      <td>2</td>\n",
       "      <td>2015</td>\n",
       "      <td>NonResidential</td>\n",
       "      <td>Hotel</td>\n",
       "      <td>PARAMOUNT HOTEL</td>\n",
       "      <td>659000220</td>\n",
       "      <td>7</td>\n",
       "      <td>DOWNTOWN</td>\n",
       "      <td>1996</td>\n",
       "      <td>1</td>\n",
       "      <td>...</td>\n",
       "      <td>No</td>\n",
       "      <td>NaN</td>\n",
       "      <td>Compliant</td>\n",
       "      <td>NaN</td>\n",
       "      <td>47.61310583</td>\n",
       "      <td>-122.33335756</td>\n",
       "      <td>724 PINE ST</td>\n",
       "      <td>SEATTLE</td>\n",
       "      <td>WA</td>\n",
       "      <td>98101</td>\n",
       "    </tr>\n",
       "    <tr>\n",
       "      <th>2</th>\n",
       "      <td>3</td>\n",
       "      <td>2015</td>\n",
       "      <td>NonResidential</td>\n",
       "      <td>Hotel</td>\n",
       "      <td>WESTIN HOTEL</td>\n",
       "      <td>659000475</td>\n",
       "      <td>7</td>\n",
       "      <td>DOWNTOWN</td>\n",
       "      <td>1969</td>\n",
       "      <td>1</td>\n",
       "      <td>...</td>\n",
       "      <td>Yes</td>\n",
       "      <td>NaN</td>\n",
       "      <td>Compliant</td>\n",
       "      <td>NaN</td>\n",
       "      <td>47.61334897</td>\n",
       "      <td>-122.33769944</td>\n",
       "      <td>1900 5TH AVE</td>\n",
       "      <td>SEATTLE</td>\n",
       "      <td>WA</td>\n",
       "      <td>98101</td>\n",
       "    </tr>\n",
       "    <tr>\n",
       "      <th>3</th>\n",
       "      <td>5</td>\n",
       "      <td>2015</td>\n",
       "      <td>NonResidential</td>\n",
       "      <td>Hotel</td>\n",
       "      <td>HOTEL MAX</td>\n",
       "      <td>659000640</td>\n",
       "      <td>7</td>\n",
       "      <td>DOWNTOWN</td>\n",
       "      <td>1926</td>\n",
       "      <td>1</td>\n",
       "      <td>...</td>\n",
       "      <td>No</td>\n",
       "      <td>NaN</td>\n",
       "      <td>Compliant</td>\n",
       "      <td>High Outlier</td>\n",
       "      <td>47.61421585</td>\n",
       "      <td>-122.33660889</td>\n",
       "      <td>620 STEWART ST</td>\n",
       "      <td>SEATTLE</td>\n",
       "      <td>WA</td>\n",
       "      <td>98101</td>\n",
       "    </tr>\n",
       "    <tr>\n",
       "      <th>4</th>\n",
       "      <td>8</td>\n",
       "      <td>2015</td>\n",
       "      <td>NonResidential</td>\n",
       "      <td>Hotel</td>\n",
       "      <td>WARWICK SEATTLE HOTEL</td>\n",
       "      <td>659000970</td>\n",
       "      <td>7</td>\n",
       "      <td>DOWNTOWN</td>\n",
       "      <td>1980</td>\n",
       "      <td>1</td>\n",
       "      <td>...</td>\n",
       "      <td>No</td>\n",
       "      <td>NaN</td>\n",
       "      <td>Compliant</td>\n",
       "      <td>NaN</td>\n",
       "      <td>47.6137544</td>\n",
       "      <td>-122.3409238</td>\n",
       "      <td>401 LENORA ST</td>\n",
       "      <td>SEATTLE</td>\n",
       "      <td>WA</td>\n",
       "      <td>98121</td>\n",
       "    </tr>\n",
       "  </tbody>\n",
       "</table>\n",
       "<p>5 rows × 46 columns</p>\n",
       "</div>"
      ],
      "text/plain": [
       "   OSEBuildingID  DataYear    BuildingType PrimaryPropertyType  \\\n",
       "0              1      2015  NonResidential               Hotel   \n",
       "1              2      2015  NonResidential               Hotel   \n",
       "2              3      2015  NonResidential               Hotel   \n",
       "3              5      2015  NonResidential               Hotel   \n",
       "4              8      2015  NonResidential               Hotel   \n",
       "\n",
       "            PropertyName TaxParcelIdentificationNumber  CouncilDistrictCode  \\\n",
       "0   MAYFLOWER PARK HOTEL                     659000030                    7   \n",
       "1        PARAMOUNT HOTEL                     659000220                    7   \n",
       "2           WESTIN HOTEL                     659000475                    7   \n",
       "3              HOTEL MAX                     659000640                    7   \n",
       "4  WARWICK SEATTLE HOTEL                     659000970                    7   \n",
       "\n",
       "  Neighborhood  YearBuilt  NumberofBuildings  ...  DefaultData  Comments  \\\n",
       "0     DOWNTOWN       1927                  1  ...           No       NaN   \n",
       "1     DOWNTOWN       1996                  1  ...           No       NaN   \n",
       "2     DOWNTOWN       1969                  1  ...          Yes       NaN   \n",
       "3     DOWNTOWN       1926                  1  ...           No       NaN   \n",
       "4     DOWNTOWN       1980                  1  ...           No       NaN   \n",
       "\n",
       "   ComplianceStatus       Outlier     Latitude      Longitude         Address  \\\n",
       "0         Compliant           NaN  47.61219025  -122.33799744   405 OLIVE WAY   \n",
       "1         Compliant           NaN  47.61310583  -122.33335756     724 PINE ST   \n",
       "2         Compliant           NaN  47.61334897  -122.33769944    1900 5TH AVE   \n",
       "3         Compliant  High Outlier  47.61421585  -122.33660889  620 STEWART ST   \n",
       "4         Compliant           NaN   47.6137544   -122.3409238   401 LENORA ST   \n",
       "\n",
       "      City  State ZipCode  \n",
       "0  SEATTLE     WA   98101  \n",
       "1  SEATTLE     WA   98101  \n",
       "2  SEATTLE     WA   98101  \n",
       "3  SEATTLE     WA   98101  \n",
       "4  SEATTLE     WA   98121  \n",
       "\n",
       "[5 rows x 46 columns]"
      ]
     },
     "execution_count": 36,
     "metadata": {},
     "output_type": "execute_result"
    }
   ],
   "source": [
    "from functions.cleaning import pipe_2015\n",
    "\n",
    "data_2015 = pipe_2015(raw_data_2015, raw_data_2016)\n",
    "data_2015.head()"
   ]
  },
  {
   "cell_type": "markdown",
   "metadata": {},
   "source": [
    "Nous construirons un deuxième pipeline qui permettra de réaliser toutes les modifications citées dans les parties précédentes sur les deux jeux données, celui de 2015 et celui de 2016."
   ]
  },
  {
   "cell_type": "code",
   "execution_count": 37,
   "metadata": {
    "ExecuteTime": {
     "end_time": "2020-05-10T10:31:24.989044Z",
     "start_time": "2020-05-10T10:31:24.867373Z"
    }
   },
   "outputs": [
    {
     "name": "stdout",
     "output_type": "stream",
     "text": [
      "2015 dataset:\n",
      "10 buildings will be discarded due to missing data for target features.\n",
      "There are 0 duplicates\n",
      "82 buildings will be discarded since considered as outliers.\n",
      "1584 buildings dedicated mainly to housing will be discarded\n",
      "410 buildings will be discarded due to anomalous consumptions\n",
      "2016 dataset:\n",
      "9 buildings will be discarded due to missing data for target features.\n",
      "There are 0 duplicates\n",
      "32 buildings will be discarded since considered as outliers.\n",
      "1633 buildings dedicated mainly to housing will be discarded\n",
      "419 buildings will be discarded due to anomalous consumptions\n"
     ]
    }
   ],
   "source": [
    "from functions.cleaning import pipe_cleaning\n",
    "\n",
    "# Clean original datasets\n",
    "print (\"2015 dataset:\")\n",
    "data_2015 = pipe_cleaning(data_2015)\n",
    "print (\"2016 dataset:\")\n",
    "data_2016 = pipe_cleaning(data_2016)\n",
    "# export in csv format the cleaned datasets\n",
    "data_2015.to_csv(\"data/data_2015.csv\")\n",
    "data_2016.to_csv(\"data/data_2016.csv\")"
   ]
  }
 ],
 "metadata": {
  "kernelspec": {
   "display_name": "Python 3",
   "language": "python",
   "name": "python3"
  },
  "language_info": {
   "codemirror_mode": {
    "name": "ipython",
    "version": 3
   },
   "file_extension": ".py",
   "mimetype": "text/x-python",
   "name": "python",
   "nbconvert_exporter": "python",
   "pygments_lexer": "ipython3",
   "version": "3.7.4"
  },
  "toc": {
   "base_numbering": 1,
   "nav_menu": {},
   "number_sections": true,
   "sideBar": true,
   "skip_h1_title": true,
   "title_cell": "Table of Contents",
   "title_sidebar": "Contents",
   "toc_cell": true,
   "toc_position": {
    "height": "calc(100% - 180px)",
    "left": "10px",
    "top": "150px",
    "width": "384px"
   },
   "toc_section_display": true,
   "toc_window_display": true
  }
 },
 "nbformat": 4,
 "nbformat_minor": 4
}
