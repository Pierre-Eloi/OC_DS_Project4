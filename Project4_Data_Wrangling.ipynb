{
 "cells": [
  {
   "cell_type": "markdown",
   "metadata": {},
   "source": [
    "# Projet 4 : Anticiper les besoins en consommation électrique de bâtiments\n",
    "*Pierre-Eloi Ragetly*\n",
    "\n",
    "Ce projet fait parti du parcours *DataScientist* d'OpenClassrooms.\n",
    "\n",
    "L'objectif principal est de trouver un modèle permettant de prédire **les émissions de CO2 et la consommation totale d’énergie de bâtiments non destinés à l'habitation.**\n",
    "\n",
    "Pour cela nous disposons des données de la ville de Seattle pour les années 2015 et 2016. Ces données sont à récupérer sur le site kaggle."
   ]
  },
  {
   "cell_type": "markdown",
   "metadata": {},
   "source": [
    "# Partie I : Data Wrangling\n",
    "\n",
    "Ce notebook a pour but de présenter les données et de décrire les opérations nécessaire au nettoyage afin d'obtenir un format adapté à l'analyse et la modélisation."
   ]
  },
  {
   "cell_type": "code",
   "execution_count": 43,
   "metadata": {
    "ExecuteTime": {
     "end_time": "2020-04-27T15:55:51.803549Z",
     "start_time": "2020-04-27T15:55:51.795584Z"
    }
   },
   "outputs": [],
   "source": [
    "# Import des librairies usuelles\n",
    "%matplotlib inline\n",
    "import matplotlib.pyplot as plt\n",
    "import numpy as np\n",
    "import scipy.stats as stats\n",
    "import pandas as pd\n",
    "import seaborn as sns"
   ]
  },
  {
   "cell_type": "code",
   "execution_count": 44,
   "metadata": {
    "ExecuteTime": {
     "end_time": "2020-04-27T15:55:51.823495Z",
     "start_time": "2020-04-27T15:55:51.806104Z"
    }
   },
   "outputs": [],
   "source": [
    "# Change some default parameters of matplotlib using seaborn\n",
    "plt.rcParams.update(plt.rcParamsDefault)\n",
    "plt.rcParams.update({'axes.titleweight': 'bold'})\n",
    "sns.set(style='ticks')\n",
    "current_palette = sns.color_palette('RdBu')\n",
    "sns.set_palette(current_palette)"
   ]
  },
  {
   "cell_type": "markdown",
   "metadata": {
    "toc": true
   },
   "source": [
    "<h1>Table of Contents<span class=\"tocSkip\"></span></h1>\n",
    "<div class=\"toc\"><ul class=\"toc-item\"><li><span><a href=\"#Récupération-des-données\" data-toc-modified-id=\"Récupération-des-données-1\"><span class=\"toc-item-num\">1&nbsp;&nbsp;</span>Récupération des données</a></span></li><li><span><a href=\"#Comparaison-des-deux-jeux-de-données\" data-toc-modified-id=\"Comparaison-des-deux-jeux-de-données-2\"><span class=\"toc-item-num\">2&nbsp;&nbsp;</span>Comparaison des deux jeux de données</a></span><ul class=\"toc-item\"><li><span><a href=\"#Variables-n'étant-pas-présentes-dans-l'un-des-jeux-de-données\" data-toc-modified-id=\"Variables-n'étant-pas-présentes-dans-l'un-des-jeux-de-données-2.1\"><span class=\"toc-item-num\">2.1&nbsp;&nbsp;</span>Variables n'étant pas présentes dans l'un des jeux de données</a></span></li><li><span><a href=\"#Traitement-de-la-variable-localisation\" data-toc-modified-id=\"Traitement-de-la-variable-localisation-2.2\"><span class=\"toc-item-num\">2.2&nbsp;&nbsp;</span>Traitement de la variable localisation</a></span></li><li><span><a href=\"#Renommer-les-variables-de-2015-comme-celles-de-2016\" data-toc-modified-id=\"Renommer-les-variables-de-2015-comme-celles-de-2016-2.3\"><span class=\"toc-item-num\">2.3&nbsp;&nbsp;</span>Renommer les variables de 2015 comme celles de 2016</a></span></li><li><span><a href=\"#Variables-non-présentes-dans-le-jeu-de-données-2016\" data-toc-modified-id=\"Variables-non-présentes-dans-le-jeu-de-données-2016-2.4\"><span class=\"toc-item-num\">2.4&nbsp;&nbsp;</span>Variables non présentes dans le jeu de données 2016</a></span></li><li><span><a href=\"#Ajout-des-variables-manquantes-pour-le-jeu-de-données-de-2016\" data-toc-modified-id=\"Ajout-des-variables-manquantes-pour-le-jeu-de-données-de-2016-2.5\"><span class=\"toc-item-num\">2.5&nbsp;&nbsp;</span>Ajout des variables manquantes pour le jeu de données de 2016</a></span></li><li><span><a href=\"#Traitement-de-la-variable-OtherFuelUse(kBtu)\" data-toc-modified-id=\"Traitement-de-la-variable-OtherFuelUse(kBtu)-2.6\"><span class=\"toc-item-num\">2.6&nbsp;&nbsp;</span>Traitement de la variable OtherFuelUse(kBtu)</a></span></li></ul></li><li><span><a href=\"#Sélection-des-observations\" data-toc-modified-id=\"Sélection-des-observations-3\"><span class=\"toc-item-num\">3&nbsp;&nbsp;</span>Sélection des observations</a></span><ul class=\"toc-item\"><li><span><a href=\"#Vérifier-la-présence-de-doublons\" data-toc-modified-id=\"Vérifier-la-présence-de-doublons-3.1\"><span class=\"toc-item-num\">3.1&nbsp;&nbsp;</span>Vérifier la présence de doublons</a></span></li><li><span><a href=\"#Traiter-les-outliers\" data-toc-modified-id=\"Traiter-les-outliers-3.2\"><span class=\"toc-item-num\">3.2&nbsp;&nbsp;</span>Traiter les outliers</a></span></li><li><span><a href=\"#Écarter-les-bâtiments-destinés-à-l'habitation\" data-toc-modified-id=\"Écarter-les-bâtiments-destinés-à-l'habitation-3.3\"><span class=\"toc-item-num\">3.3&nbsp;&nbsp;</span>Écarter les bâtiments destinés à l'habitation</a></span></li></ul></li><li><span><a href=\"#Nettoyage-des-variables-liés-à-la-consommation\" data-toc-modified-id=\"Nettoyage-des-variables-liés-à-la-consommation-4\"><span class=\"toc-item-num\">4&nbsp;&nbsp;</span>Nettoyage des variables liés à la consommation</a></span><ul class=\"toc-item\"><li><span><a href=\"#Vérifier-que-les-consommations-sont-bien-positives\" data-toc-modified-id=\"Vérifier-que-les-consommations-sont-bien-positives-4.1\"><span class=\"toc-item-num\">4.1&nbsp;&nbsp;</span>Vérifier que les consommations sont bien positives</a></span></li><li><span><a href=\"#Vérifier-les-conversions\" data-toc-modified-id=\"Vérifier-les-conversions-4.2\"><span class=\"toc-item-num\">4.2&nbsp;&nbsp;</span>Vérifier les conversions</a></span></li><li><span><a href=\"#Vérification-des-totaux\" data-toc-modified-id=\"Vérification-des-totaux-4.3\"><span class=\"toc-item-num\">4.3&nbsp;&nbsp;</span>Vérification des totaux</a></span></li></ul></li><li><span><a href=\"#Nettoyage-des-variables-liées-au-Gross-Floor-Area-(GFA)\" data-toc-modified-id=\"Nettoyage-des-variables-liées-au-Gross-Floor-Area-(GFA)-5\"><span class=\"toc-item-num\">5&nbsp;&nbsp;</span>Nettoyage des variables liées au Gross Floor Area (GFA)</a></span></li></ul></div>"
   ]
  },
  {
   "cell_type": "markdown",
   "metadata": {
    "heading_collapsed": true
   },
   "source": [
    "## Récupération des données"
   ]
  },
  {
   "cell_type": "markdown",
   "metadata": {
    "hidden": true
   },
   "source": [
    "Nous commençons par télécharger les données du site *kaggle*. Ces données sont contenus dans 2 fichier csv :\n",
    "- 2015-building-energy-benchmarking\n",
    "- 2016-building-energy-benchmarking\n",
    "\n",
    "Notre but étant de prédire des données de consommation, avoir des données pour deux dates différentes est un gros plus. **Nous allons pouvoir utiliser les donnée de 2015 (l'année la plus ancienne) comme jeu d'entraînement et les données de 2016 (les plus récentes) comme jeu de test.** Les données étant déja contenues dans deux jeux de données distincts, nous n'aurons pas à séparer les données en deux (test et entraînement).\n",
    "\n",
    "Une fois téléchargées, nous pouvons les charger dans des DataFrame."
   ]
  },
  {
   "cell_type": "code",
   "execution_count": 45,
   "metadata": {
    "ExecuteTime": {
     "end_time": "2020-04-27T15:55:51.904153Z",
     "start_time": "2020-04-27T15:55:51.825487Z"
    },
    "hidden": true
   },
   "outputs": [
    {
     "name": "stdout",
     "output_type": "stream",
     "text": [
      "(3340, 47)\n"
     ]
    },
    {
     "data": {
      "text/html": [
       "<div>\n",
       "<style scoped>\n",
       "    .dataframe tbody tr th:only-of-type {\n",
       "        vertical-align: middle;\n",
       "    }\n",
       "\n",
       "    .dataframe tbody tr th {\n",
       "        vertical-align: top;\n",
       "    }\n",
       "\n",
       "    .dataframe thead th {\n",
       "        text-align: right;\n",
       "    }\n",
       "</style>\n",
       "<table border=\"1\" class=\"dataframe\">\n",
       "  <thead>\n",
       "    <tr style=\"text-align: right;\">\n",
       "      <th></th>\n",
       "      <th>OSEBuildingID</th>\n",
       "      <th>DataYear</th>\n",
       "      <th>BuildingType</th>\n",
       "      <th>PrimaryPropertyType</th>\n",
       "      <th>PropertyName</th>\n",
       "      <th>TaxParcelIdentificationNumber</th>\n",
       "      <th>Location</th>\n",
       "      <th>CouncilDistrictCode</th>\n",
       "      <th>Neighborhood</th>\n",
       "      <th>YearBuilt</th>\n",
       "      <th>...</th>\n",
       "      <th>GHGEmissionsIntensity(kgCO2e/ft2)</th>\n",
       "      <th>DefaultData</th>\n",
       "      <th>Comment</th>\n",
       "      <th>ComplianceStatus</th>\n",
       "      <th>Outlier</th>\n",
       "      <th>2010 Census Tracts</th>\n",
       "      <th>Seattle Police Department Micro Community Policing Plan Areas</th>\n",
       "      <th>City Council Districts</th>\n",
       "      <th>SPD Beats</th>\n",
       "      <th>Zip Codes</th>\n",
       "    </tr>\n",
       "  </thead>\n",
       "  <tbody>\n",
       "    <tr>\n",
       "      <th>0</th>\n",
       "      <td>1</td>\n",
       "      <td>2015</td>\n",
       "      <td>NonResidential</td>\n",
       "      <td>Hotel</td>\n",
       "      <td>MAYFLOWER PARK HOTEL</td>\n",
       "      <td>659000030</td>\n",
       "      <td>{'latitude': '47.61219025', 'longitude': '-122...</td>\n",
       "      <td>7</td>\n",
       "      <td>DOWNTOWN</td>\n",
       "      <td>1927</td>\n",
       "      <td>...</td>\n",
       "      <td>2.64</td>\n",
       "      <td>No</td>\n",
       "      <td>NaN</td>\n",
       "      <td>Compliant</td>\n",
       "      <td>NaN</td>\n",
       "      <td>NaN</td>\n",
       "      <td>14.0</td>\n",
       "      <td>NaN</td>\n",
       "      <td>31.0</td>\n",
       "      <td>18081</td>\n",
       "    </tr>\n",
       "    <tr>\n",
       "      <th>1</th>\n",
       "      <td>2</td>\n",
       "      <td>2015</td>\n",
       "      <td>NonResidential</td>\n",
       "      <td>Hotel</td>\n",
       "      <td>PARAMOUNT HOTEL</td>\n",
       "      <td>659000220</td>\n",
       "      <td>{'latitude': '47.61310583', 'longitude': '-122...</td>\n",
       "      <td>7</td>\n",
       "      <td>DOWNTOWN</td>\n",
       "      <td>1996</td>\n",
       "      <td>...</td>\n",
       "      <td>2.38</td>\n",
       "      <td>No</td>\n",
       "      <td>NaN</td>\n",
       "      <td>Compliant</td>\n",
       "      <td>NaN</td>\n",
       "      <td>NaN</td>\n",
       "      <td>14.0</td>\n",
       "      <td>NaN</td>\n",
       "      <td>31.0</td>\n",
       "      <td>18081</td>\n",
       "    </tr>\n",
       "    <tr>\n",
       "      <th>2</th>\n",
       "      <td>3</td>\n",
       "      <td>2015</td>\n",
       "      <td>NonResidential</td>\n",
       "      <td>Hotel</td>\n",
       "      <td>WESTIN HOTEL</td>\n",
       "      <td>659000475</td>\n",
       "      <td>{'latitude': '47.61334897', 'longitude': '-122...</td>\n",
       "      <td>7</td>\n",
       "      <td>DOWNTOWN</td>\n",
       "      <td>1969</td>\n",
       "      <td>...</td>\n",
       "      <td>1.92</td>\n",
       "      <td>Yes</td>\n",
       "      <td>NaN</td>\n",
       "      <td>Compliant</td>\n",
       "      <td>NaN</td>\n",
       "      <td>NaN</td>\n",
       "      <td>56.0</td>\n",
       "      <td>NaN</td>\n",
       "      <td>31.0</td>\n",
       "      <td>18081</td>\n",
       "    </tr>\n",
       "    <tr>\n",
       "      <th>3</th>\n",
       "      <td>5</td>\n",
       "      <td>2015</td>\n",
       "      <td>NonResidential</td>\n",
       "      <td>Hotel</td>\n",
       "      <td>HOTEL MAX</td>\n",
       "      <td>659000640</td>\n",
       "      <td>{'latitude': '47.61421585', 'longitude': '-122...</td>\n",
       "      <td>7</td>\n",
       "      <td>DOWNTOWN</td>\n",
       "      <td>1926</td>\n",
       "      <td>...</td>\n",
       "      <td>31.38</td>\n",
       "      <td>No</td>\n",
       "      <td>NaN</td>\n",
       "      <td>Compliant</td>\n",
       "      <td>High Outlier</td>\n",
       "      <td>NaN</td>\n",
       "      <td>56.0</td>\n",
       "      <td>NaN</td>\n",
       "      <td>31.0</td>\n",
       "      <td>18081</td>\n",
       "    </tr>\n",
       "    <tr>\n",
       "      <th>4</th>\n",
       "      <td>8</td>\n",
       "      <td>2015</td>\n",
       "      <td>NonResidential</td>\n",
       "      <td>Hotel</td>\n",
       "      <td>WARWICK SEATTLE HOTEL</td>\n",
       "      <td>659000970</td>\n",
       "      <td>{'latitude': '47.6137544', 'longitude': '-122....</td>\n",
       "      <td>7</td>\n",
       "      <td>DOWNTOWN</td>\n",
       "      <td>1980</td>\n",
       "      <td>...</td>\n",
       "      <td>4.02</td>\n",
       "      <td>No</td>\n",
       "      <td>NaN</td>\n",
       "      <td>Compliant</td>\n",
       "      <td>NaN</td>\n",
       "      <td>NaN</td>\n",
       "      <td>56.0</td>\n",
       "      <td>NaN</td>\n",
       "      <td>31.0</td>\n",
       "      <td>19576</td>\n",
       "    </tr>\n",
       "  </tbody>\n",
       "</table>\n",
       "<p>5 rows × 47 columns</p>\n",
       "</div>"
      ],
      "text/plain": [
       "   OSEBuildingID  DataYear    BuildingType PrimaryPropertyType  \\\n",
       "0              1      2015  NonResidential               Hotel   \n",
       "1              2      2015  NonResidential               Hotel   \n",
       "2              3      2015  NonResidential               Hotel   \n",
       "3              5      2015  NonResidential               Hotel   \n",
       "4              8      2015  NonResidential               Hotel   \n",
       "\n",
       "            PropertyName TaxParcelIdentificationNumber  \\\n",
       "0   MAYFLOWER PARK HOTEL                     659000030   \n",
       "1        PARAMOUNT HOTEL                     659000220   \n",
       "2           WESTIN HOTEL                     659000475   \n",
       "3              HOTEL MAX                     659000640   \n",
       "4  WARWICK SEATTLE HOTEL                     659000970   \n",
       "\n",
       "                                            Location  CouncilDistrictCode  \\\n",
       "0  {'latitude': '47.61219025', 'longitude': '-122...                    7   \n",
       "1  {'latitude': '47.61310583', 'longitude': '-122...                    7   \n",
       "2  {'latitude': '47.61334897', 'longitude': '-122...                    7   \n",
       "3  {'latitude': '47.61421585', 'longitude': '-122...                    7   \n",
       "4  {'latitude': '47.6137544', 'longitude': '-122....                    7   \n",
       "\n",
       "  Neighborhood  YearBuilt  ...  GHGEmissionsIntensity(kgCO2e/ft2)  \\\n",
       "0     DOWNTOWN       1927  ...                               2.64   \n",
       "1     DOWNTOWN       1996  ...                               2.38   \n",
       "2     DOWNTOWN       1969  ...                               1.92   \n",
       "3     DOWNTOWN       1926  ...                              31.38   \n",
       "4     DOWNTOWN       1980  ...                               4.02   \n",
       "\n",
       "   DefaultData  Comment  ComplianceStatus       Outlier 2010 Census Tracts  \\\n",
       "0           No      NaN         Compliant           NaN                NaN   \n",
       "1           No      NaN         Compliant           NaN                NaN   \n",
       "2          Yes      NaN         Compliant           NaN                NaN   \n",
       "3           No      NaN         Compliant  High Outlier                NaN   \n",
       "4           No      NaN         Compliant           NaN                NaN   \n",
       "\n",
       "  Seattle Police Department Micro Community Policing Plan Areas  \\\n",
       "0                                               14.0              \n",
       "1                                               14.0              \n",
       "2                                               56.0              \n",
       "3                                               56.0              \n",
       "4                                               56.0              \n",
       "\n",
       "   City Council Districts SPD Beats  Zip Codes  \n",
       "0                     NaN      31.0      18081  \n",
       "1                     NaN      31.0      18081  \n",
       "2                     NaN      31.0      18081  \n",
       "3                     NaN      31.0      18081  \n",
       "4                     NaN      31.0      19576  \n",
       "\n",
       "[5 rows x 47 columns]"
      ]
     },
     "execution_count": 45,
     "metadata": {},
     "output_type": "execute_result"
    }
   ],
   "source": [
    "raw_data_2015 = pd.read_csv('data/2015-building-energy-benchmarking.csv')\n",
    "print(raw_data_2015.shape)\n",
    "raw_data_2015.head()"
   ]
  },
  {
   "cell_type": "code",
   "execution_count": 46,
   "metadata": {
    "ExecuteTime": {
     "end_time": "2020-04-27T15:55:51.967883Z",
     "start_time": "2020-04-27T15:55:51.906144Z"
    },
    "hidden": true
   },
   "outputs": [
    {
     "name": "stdout",
     "output_type": "stream",
     "text": [
      "(3376, 46)\n"
     ]
    },
    {
     "data": {
      "text/html": [
       "<div>\n",
       "<style scoped>\n",
       "    .dataframe tbody tr th:only-of-type {\n",
       "        vertical-align: middle;\n",
       "    }\n",
       "\n",
       "    .dataframe tbody tr th {\n",
       "        vertical-align: top;\n",
       "    }\n",
       "\n",
       "    .dataframe thead th {\n",
       "        text-align: right;\n",
       "    }\n",
       "</style>\n",
       "<table border=\"1\" class=\"dataframe\">\n",
       "  <thead>\n",
       "    <tr style=\"text-align: right;\">\n",
       "      <th></th>\n",
       "      <th>OSEBuildingID</th>\n",
       "      <th>DataYear</th>\n",
       "      <th>BuildingType</th>\n",
       "      <th>PrimaryPropertyType</th>\n",
       "      <th>PropertyName</th>\n",
       "      <th>Address</th>\n",
       "      <th>City</th>\n",
       "      <th>State</th>\n",
       "      <th>ZipCode</th>\n",
       "      <th>TaxParcelIdentificationNumber</th>\n",
       "      <th>...</th>\n",
       "      <th>Electricity(kWh)</th>\n",
       "      <th>Electricity(kBtu)</th>\n",
       "      <th>NaturalGas(therms)</th>\n",
       "      <th>NaturalGas(kBtu)</th>\n",
       "      <th>DefaultData</th>\n",
       "      <th>Comments</th>\n",
       "      <th>ComplianceStatus</th>\n",
       "      <th>Outlier</th>\n",
       "      <th>TotalGHGEmissions</th>\n",
       "      <th>GHGEmissionsIntensity</th>\n",
       "    </tr>\n",
       "  </thead>\n",
       "  <tbody>\n",
       "    <tr>\n",
       "      <th>0</th>\n",
       "      <td>1</td>\n",
       "      <td>2016</td>\n",
       "      <td>NonResidential</td>\n",
       "      <td>Hotel</td>\n",
       "      <td>Mayflower park hotel</td>\n",
       "      <td>405 Olive way</td>\n",
       "      <td>Seattle</td>\n",
       "      <td>WA</td>\n",
       "      <td>98101.0</td>\n",
       "      <td>0659000030</td>\n",
       "      <td>...</td>\n",
       "      <td>1.156514e+06</td>\n",
       "      <td>3946027.0</td>\n",
       "      <td>12764.52930</td>\n",
       "      <td>1276453.0</td>\n",
       "      <td>False</td>\n",
       "      <td>NaN</td>\n",
       "      <td>Compliant</td>\n",
       "      <td>NaN</td>\n",
       "      <td>249.98</td>\n",
       "      <td>2.83</td>\n",
       "    </tr>\n",
       "    <tr>\n",
       "      <th>1</th>\n",
       "      <td>2</td>\n",
       "      <td>2016</td>\n",
       "      <td>NonResidential</td>\n",
       "      <td>Hotel</td>\n",
       "      <td>Paramount Hotel</td>\n",
       "      <td>724 Pine street</td>\n",
       "      <td>Seattle</td>\n",
       "      <td>WA</td>\n",
       "      <td>98101.0</td>\n",
       "      <td>0659000220</td>\n",
       "      <td>...</td>\n",
       "      <td>9.504252e+05</td>\n",
       "      <td>3242851.0</td>\n",
       "      <td>51450.81641</td>\n",
       "      <td>5145082.0</td>\n",
       "      <td>False</td>\n",
       "      <td>NaN</td>\n",
       "      <td>Compliant</td>\n",
       "      <td>NaN</td>\n",
       "      <td>295.86</td>\n",
       "      <td>2.86</td>\n",
       "    </tr>\n",
       "    <tr>\n",
       "      <th>2</th>\n",
       "      <td>3</td>\n",
       "      <td>2016</td>\n",
       "      <td>NonResidential</td>\n",
       "      <td>Hotel</td>\n",
       "      <td>5673-The Westin Seattle</td>\n",
       "      <td>1900 5th Avenue</td>\n",
       "      <td>Seattle</td>\n",
       "      <td>WA</td>\n",
       "      <td>98101.0</td>\n",
       "      <td>0659000475</td>\n",
       "      <td>...</td>\n",
       "      <td>1.451544e+07</td>\n",
       "      <td>49526664.0</td>\n",
       "      <td>14938.00000</td>\n",
       "      <td>1493800.0</td>\n",
       "      <td>False</td>\n",
       "      <td>NaN</td>\n",
       "      <td>Compliant</td>\n",
       "      <td>NaN</td>\n",
       "      <td>2089.28</td>\n",
       "      <td>2.19</td>\n",
       "    </tr>\n",
       "    <tr>\n",
       "      <th>3</th>\n",
       "      <td>5</td>\n",
       "      <td>2016</td>\n",
       "      <td>NonResidential</td>\n",
       "      <td>Hotel</td>\n",
       "      <td>HOTEL MAX</td>\n",
       "      <td>620 STEWART ST</td>\n",
       "      <td>Seattle</td>\n",
       "      <td>WA</td>\n",
       "      <td>98101.0</td>\n",
       "      <td>0659000640</td>\n",
       "      <td>...</td>\n",
       "      <td>8.115253e+05</td>\n",
       "      <td>2768924.0</td>\n",
       "      <td>18112.13086</td>\n",
       "      <td>1811213.0</td>\n",
       "      <td>False</td>\n",
       "      <td>NaN</td>\n",
       "      <td>Compliant</td>\n",
       "      <td>NaN</td>\n",
       "      <td>286.43</td>\n",
       "      <td>4.67</td>\n",
       "    </tr>\n",
       "    <tr>\n",
       "      <th>4</th>\n",
       "      <td>8</td>\n",
       "      <td>2016</td>\n",
       "      <td>NonResidential</td>\n",
       "      <td>Hotel</td>\n",
       "      <td>WARWICK SEATTLE HOTEL (ID8)</td>\n",
       "      <td>401 LENORA ST</td>\n",
       "      <td>Seattle</td>\n",
       "      <td>WA</td>\n",
       "      <td>98121.0</td>\n",
       "      <td>0659000970</td>\n",
       "      <td>...</td>\n",
       "      <td>1.573449e+06</td>\n",
       "      <td>5368607.0</td>\n",
       "      <td>88039.98438</td>\n",
       "      <td>8803998.0</td>\n",
       "      <td>False</td>\n",
       "      <td>NaN</td>\n",
       "      <td>Compliant</td>\n",
       "      <td>NaN</td>\n",
       "      <td>505.01</td>\n",
       "      <td>2.88</td>\n",
       "    </tr>\n",
       "  </tbody>\n",
       "</table>\n",
       "<p>5 rows × 46 columns</p>\n",
       "</div>"
      ],
      "text/plain": [
       "   OSEBuildingID  DataYear    BuildingType PrimaryPropertyType  \\\n",
       "0              1      2016  NonResidential               Hotel   \n",
       "1              2      2016  NonResidential               Hotel   \n",
       "2              3      2016  NonResidential               Hotel   \n",
       "3              5      2016  NonResidential               Hotel   \n",
       "4              8      2016  NonResidential               Hotel   \n",
       "\n",
       "                  PropertyName          Address     City State  ZipCode  \\\n",
       "0         Mayflower park hotel    405 Olive way  Seattle    WA  98101.0   \n",
       "1              Paramount Hotel  724 Pine street  Seattle    WA  98101.0   \n",
       "2      5673-The Westin Seattle  1900 5th Avenue  Seattle    WA  98101.0   \n",
       "3                    HOTEL MAX   620 STEWART ST  Seattle    WA  98101.0   \n",
       "4  WARWICK SEATTLE HOTEL (ID8)    401 LENORA ST  Seattle    WA  98121.0   \n",
       "\n",
       "  TaxParcelIdentificationNumber  ...  Electricity(kWh) Electricity(kBtu)  \\\n",
       "0                    0659000030  ...      1.156514e+06         3946027.0   \n",
       "1                    0659000220  ...      9.504252e+05         3242851.0   \n",
       "2                    0659000475  ...      1.451544e+07        49526664.0   \n",
       "3                    0659000640  ...      8.115253e+05         2768924.0   \n",
       "4                    0659000970  ...      1.573449e+06         5368607.0   \n",
       "\n",
       "   NaturalGas(therms)  NaturalGas(kBtu)  DefaultData  Comments  \\\n",
       "0         12764.52930         1276453.0        False       NaN   \n",
       "1         51450.81641         5145082.0        False       NaN   \n",
       "2         14938.00000         1493800.0        False       NaN   \n",
       "3         18112.13086         1811213.0        False       NaN   \n",
       "4         88039.98438         8803998.0        False       NaN   \n",
       "\n",
       "   ComplianceStatus  Outlier  TotalGHGEmissions  GHGEmissionsIntensity  \n",
       "0         Compliant      NaN             249.98                   2.83  \n",
       "1         Compliant      NaN             295.86                   2.86  \n",
       "2         Compliant      NaN            2089.28                   2.19  \n",
       "3         Compliant      NaN             286.43                   4.67  \n",
       "4         Compliant      NaN             505.01                   2.88  \n",
       "\n",
       "[5 rows x 46 columns]"
      ]
     },
     "execution_count": 46,
     "metadata": {},
     "output_type": "execute_result"
    }
   ],
   "source": [
    "raw_data_2016 = pd.read_csv('data/2016-building-energy-benchmarking.csv')\n",
    "print(raw_data_2016.shape)\n",
    "raw_data_2016.head()"
   ]
  },
  {
   "cell_type": "markdown",
   "metadata": {
    "heading_collapsed": true
   },
   "source": [
    "## Comparaison des deux jeux de données"
   ]
  },
  {
   "cell_type": "markdown",
   "metadata": {
    "hidden": true
   },
   "source": [
    "### Variables n'étant pas présentes dans l'un des jeux de données"
   ]
  },
  {
   "cell_type": "markdown",
   "metadata": {
    "hidden": true
   },
   "source": [
    "Les deux jeux de données possédent un nombre d'observations similaires, en revanche, nous notons qu'ils ne possédent pas le même nombre de variables. Or, il est indispensable que les deux possédent exactement les mêmes caractéristiques pour pouvoir entraîner (sur les données de 2015) et tester (sur les données de 2016) notre modèle.\n",
    "\n",
    "On va donc commencer par ne garder que les variables communes aux deux années."
   ]
  },
  {
   "cell_type": "code",
   "execution_count": 47,
   "metadata": {
    "ExecuteTime": {
     "end_time": "2020-04-27T15:55:51.982819Z",
     "start_time": "2020-04-27T15:55:51.971866Z"
    },
    "hidden": true
   },
   "outputs": [
    {
     "name": "stdout",
     "output_type": "stream",
     "text": [
      "37\n"
     ]
    }
   ],
   "source": [
    "features_2015 = raw_data_2015.columns.tolist()\n",
    "features_2016 = raw_data_2016.columns.tolist()\n",
    "features = [c for c in features_2016 if c in features_2015]\n",
    "print(len(features))"
   ]
  },
  {
   "cell_type": "markdown",
   "metadata": {
    "hidden": true
   },
   "source": [
    "Dix-neuf variables ne sont pas présentes dans l'un des deux jeux de données, cela représente plus de 30% de nos variables, c'est loin d'être négligeable. Avant de les écarter, regardons les en détail pour voir si elles ne contiennent pas d'éléments clés."
   ]
  },
  {
   "cell_type": "code",
   "execution_count": 48,
   "metadata": {
    "ExecuteTime": {
     "end_time": "2020-04-27T15:55:52.000743Z",
     "start_time": "2020-04-27T15:55:51.989791Z"
    },
    "hidden": true
   },
   "outputs": [
    {
     "name": "stdout",
     "output_type": "stream",
     "text": [
      "19\n",
      "['Location', 'OtherFuelUse(kBtu)', 'GHGEmissions(MetricTonsCO2e)', 'GHGEmissionsIntensity(kgCO2e/ft2)', 'Comment', '2010 Census Tracts', 'Seattle Police Department Micro Community Policing Plan Areas', 'City Council Districts', 'SPD Beats', 'Zip Codes', 'Address', 'City', 'State', 'ZipCode', 'Latitude', 'Longitude', 'Comments', 'TotalGHGEmissions', 'GHGEmissionsIntensity']\n"
     ]
    }
   ],
   "source": [
    "feat_to_del = [c for c in features_2015 if c not in features] + [c for c in features_2016 if c not in features]\n",
    "print(len(feat_to_del))\n",
    "print(feat_to_del)"
   ]
  },
  {
   "cell_type": "markdown",
   "metadata": {
    "hidden": true
   },
   "source": [
    "Nous remarquons que certaines variables semblent très proches :\n",
    "- Location & Latitude/Longitude\n",
    "- GHGEmissions(MetricTonsCO2e) & TotalGHGEmissions\n",
    "- GHGEmissionsIntensity(kgCO2e/ft2) & GHGEmissionsIntensity\n",
    "- Zip Codes & ZipCode\n",
    "- Comment & Comments\n",
    "\n",
    "Commençons par vérifier si ces variables ne seraient pas les mêmes, mais avec des noms différents."
   ]
  },
  {
   "cell_type": "code",
   "execution_count": 49,
   "metadata": {
    "ExecuteTime": {
     "end_time": "2020-04-27T15:55:52.055511Z",
     "start_time": "2020-04-27T15:55:52.005723Z"
    },
    "hidden": true
   },
   "outputs": [
    {
     "data": {
      "text/html": [
       "<div>\n",
       "<style scoped>\n",
       "    .dataframe tbody tr th:only-of-type {\n",
       "        vertical-align: middle;\n",
       "    }\n",
       "\n",
       "    .dataframe tbody tr th {\n",
       "        vertical-align: top;\n",
       "    }\n",
       "\n",
       "    .dataframe thead th {\n",
       "        text-align: right;\n",
       "    }\n",
       "</style>\n",
       "<table border=\"1\" class=\"dataframe\">\n",
       "  <thead>\n",
       "    <tr style=\"text-align: right;\">\n",
       "      <th></th>\n",
       "      <th>OSEBuildingID</th>\n",
       "      <th>Location</th>\n",
       "      <th>GHGEmissions(MetricTonsCO2e)</th>\n",
       "      <th>GHGEmissionsIntensity(kgCO2e/ft2)</th>\n",
       "      <th>Comment</th>\n",
       "      <th>Zip Codes</th>\n",
       "      <th>ZipCode</th>\n",
       "      <th>Latitude</th>\n",
       "      <th>Longitude</th>\n",
       "      <th>Comments</th>\n",
       "      <th>TotalGHGEmissions</th>\n",
       "      <th>GHGEmissionsIntensity</th>\n",
       "    </tr>\n",
       "  </thead>\n",
       "  <tbody>\n",
       "    <tr>\n",
       "      <th>0</th>\n",
       "      <td>1</td>\n",
       "      <td>{'latitude': '47.61219025', 'longitude': '-122...</td>\n",
       "      <td>249.43</td>\n",
       "      <td>2.64</td>\n",
       "      <td>NaN</td>\n",
       "      <td>18081</td>\n",
       "      <td>98101.0</td>\n",
       "      <td>47.61220</td>\n",
       "      <td>-122.33799</td>\n",
       "      <td>NaN</td>\n",
       "      <td>249.98</td>\n",
       "      <td>2.83</td>\n",
       "    </tr>\n",
       "    <tr>\n",
       "      <th>1</th>\n",
       "      <td>2</td>\n",
       "      <td>{'latitude': '47.61310583', 'longitude': '-122...</td>\n",
       "      <td>263.51</td>\n",
       "      <td>2.38</td>\n",
       "      <td>NaN</td>\n",
       "      <td>18081</td>\n",
       "      <td>98101.0</td>\n",
       "      <td>47.61317</td>\n",
       "      <td>-122.33393</td>\n",
       "      <td>NaN</td>\n",
       "      <td>295.86</td>\n",
       "      <td>2.86</td>\n",
       "    </tr>\n",
       "    <tr>\n",
       "      <th>2</th>\n",
       "      <td>3</td>\n",
       "      <td>{'latitude': '47.61334897', 'longitude': '-122...</td>\n",
       "      <td>2061.48</td>\n",
       "      <td>1.92</td>\n",
       "      <td>NaN</td>\n",
       "      <td>18081</td>\n",
       "      <td>98101.0</td>\n",
       "      <td>47.61393</td>\n",
       "      <td>-122.33810</td>\n",
       "      <td>NaN</td>\n",
       "      <td>2089.28</td>\n",
       "      <td>2.19</td>\n",
       "    </tr>\n",
       "    <tr>\n",
       "      <th>3</th>\n",
       "      <td>5</td>\n",
       "      <td>{'latitude': '47.61421585', 'longitude': '-122...</td>\n",
       "      <td>1936.34</td>\n",
       "      <td>31.38</td>\n",
       "      <td>NaN</td>\n",
       "      <td>18081</td>\n",
       "      <td>98101.0</td>\n",
       "      <td>47.61412</td>\n",
       "      <td>-122.33664</td>\n",
       "      <td>NaN</td>\n",
       "      <td>286.43</td>\n",
       "      <td>4.67</td>\n",
       "    </tr>\n",
       "    <tr>\n",
       "      <th>4</th>\n",
       "      <td>8</td>\n",
       "      <td>{'latitude': '47.6137544', 'longitude': '-122....</td>\n",
       "      <td>507.70</td>\n",
       "      <td>4.02</td>\n",
       "      <td>NaN</td>\n",
       "      <td>19576</td>\n",
       "      <td>98121.0</td>\n",
       "      <td>47.61375</td>\n",
       "      <td>-122.34047</td>\n",
       "      <td>NaN</td>\n",
       "      <td>505.01</td>\n",
       "      <td>2.88</td>\n",
       "    </tr>\n",
       "  </tbody>\n",
       "</table>\n",
       "</div>"
      ],
      "text/plain": [
       "   OSEBuildingID                                           Location  \\\n",
       "0              1  {'latitude': '47.61219025', 'longitude': '-122...   \n",
       "1              2  {'latitude': '47.61310583', 'longitude': '-122...   \n",
       "2              3  {'latitude': '47.61334897', 'longitude': '-122...   \n",
       "3              5  {'latitude': '47.61421585', 'longitude': '-122...   \n",
       "4              8  {'latitude': '47.6137544', 'longitude': '-122....   \n",
       "\n",
       "   GHGEmissions(MetricTonsCO2e)  GHGEmissionsIntensity(kgCO2e/ft2) Comment  \\\n",
       "0                        249.43                               2.64     NaN   \n",
       "1                        263.51                               2.38     NaN   \n",
       "2                       2061.48                               1.92     NaN   \n",
       "3                       1936.34                              31.38     NaN   \n",
       "4                        507.70                               4.02     NaN   \n",
       "\n",
       "   Zip Codes  ZipCode  Latitude  Longitude  Comments  TotalGHGEmissions  \\\n",
       "0      18081  98101.0  47.61220 -122.33799       NaN             249.98   \n",
       "1      18081  98101.0  47.61317 -122.33393       NaN             295.86   \n",
       "2      18081  98101.0  47.61393 -122.33810       NaN            2089.28   \n",
       "3      18081  98101.0  47.61412 -122.33664       NaN             286.43   \n",
       "4      19576  98121.0  47.61375 -122.34047       NaN             505.01   \n",
       "\n",
       "   GHGEmissionsIntensity  \n",
       "0                   2.83  \n",
       "1                   2.86  \n",
       "2                   2.19  \n",
       "3                   4.67  \n",
       "4                   2.88  "
      ]
     },
     "execution_count": 49,
     "metadata": {},
     "output_type": "execute_result"
    }
   ],
   "source": [
    "feat_to_check = ['Location', 'Latitude', 'Longitude',\n",
    "                 'GHGEmissions(MetricTonsCO2e)', 'TotalGHGEmissions',\n",
    "                 'GHGEmissionsIntensity(kgCO2e/ft2)', 'GHGEmissionsIntensity',\n",
    "                 'Zip Codes', 'ZipCode',\n",
    "                 'Comment', 'Comments']\n",
    "key = 'OSEBuildingID'\n",
    "feat_to_check += [key]\n",
    "\n",
    "# keep only the features to be checked for each dataset\n",
    "df_2015 = raw_data_2015.loc[:, raw_data_2015.columns.isin(feat_to_check)]\n",
    "df_2016 = raw_data_2016.loc[:, raw_data_2016.columns.isin(feat_to_check)]\n",
    "\n",
    "# use the feature 'OSEBuildingID' to merge datasets\n",
    "df = pd.merge(df_2015, df_2016, on=key)\n",
    "df.head()"
   ]
  },
  {
   "cell_type": "markdown",
   "metadata": {
    "hidden": true
   },
   "source": [
    "En dehors des variables ZipCodes et ZipCode, il s'agit bien des mêmes variables. En fait la variable **Localisation** de 2015 contient toutes les variables suivantes :\n",
    "- Latitude\n",
    "- Longitude\n",
    "- Adress\n",
    "- City\n",
    "- State\n",
    "- ZipCode\n",
    "\n",
    "Extrayons toutes ces variables de **Localisation**."
   ]
  },
  {
   "cell_type": "markdown",
   "metadata": {
    "hidden": true
   },
   "source": [
    "### Traitement de la variable localisation"
   ]
  },
  {
   "cell_type": "markdown",
   "metadata": {
    "hidden": true
   },
   "source": [
    "Comme nous avons précédemment, plusieurs variables de 2016 sont réunis dans la variable *Localisation* sous forme de dictionnaire. Nous allons recréer ces variables en les extrayant de *Localisation*."
   ]
  },
  {
   "cell_type": "code",
   "execution_count": 50,
   "metadata": {
    "ExecuteTime": {
     "end_time": "2020-04-27T15:55:53.333628Z",
     "start_time": "2020-04-27T15:55:52.056507Z"
    },
    "hidden": true
   },
   "outputs": [],
   "source": [
    "import ast\n",
    "\n",
    "data_2015 = pd.concat([raw_data_2015.drop('Location', axis=1), # Delete 'Location' column\n",
    "                       raw_data_2015['Location'].apply(ast.literal_eval) # Convert string into dictionary\n",
    "                                                .apply(pd.Series)], # Split the dictionary into columns\n",
    "                      axis=1)"
   ]
  },
  {
   "cell_type": "markdown",
   "metadata": {
    "hidden": true
   },
   "source": [
    "Il reste encore à séparer les données de human_address en plusieurs colonnes."
   ]
  },
  {
   "cell_type": "code",
   "execution_count": 51,
   "metadata": {
    "ExecuteTime": {
     "end_time": "2020-04-27T15:55:54.593745Z",
     "start_time": "2020-04-27T15:55:53.338606Z"
    },
    "hidden": true
   },
   "outputs": [],
   "source": [
    "data_2015 = pd.concat([data_2015.drop('human_address', axis=1), # Delete 'human_address' column\n",
    "                       data_2015['human_address'].apply(ast.literal_eval) # Convert string into dictionary\n",
    "                                                 .apply(pd.Series)], # Split the dictionary into columns\n",
    "                      axis=1)"
   ]
  },
  {
   "cell_type": "markdown",
   "metadata": {
    "hidden": true
   },
   "source": [
    "### Renommer les variables de 2015 comme celles de 2016"
   ]
  },
  {
   "cell_type": "code",
   "execution_count": 52,
   "metadata": {
    "ExecuteTime": {
     "end_time": "2020-04-27T15:55:54.616105Z",
     "start_time": "2020-04-27T15:55:54.595738Z"
    },
    "hidden": true
   },
   "outputs": [],
   "source": [
    "data_2015.rename(columns={'GHGEmissions(MetricTonsCO2e)': 'TotalGHGEmissions',\n",
    "                  'GHGEmissionsIntensity(kgCO2e/ft2)': 'GHGEmissionsIntensity',\n",
    "                  'Comment': 'Comments',\n",
    "                  'latitude': 'Latitude',\n",
    "                  'longitude': 'Longitude',\n",
    "                  'address': 'Address',\n",
    "                  'city': 'City',\n",
    "                  'state': 'State',\n",
    "                  'zip': 'ZipCode'},\n",
    "                 inplace=True)"
   ]
  },
  {
   "cell_type": "markdown",
   "metadata": {
    "hidden": true
   },
   "source": [
    "Il ne reste plus qu'à vérifier que toutes les variables de 2016 sont bien présentes dans le jeu de données de 2015."
   ]
  },
  {
   "cell_type": "code",
   "execution_count": 53,
   "metadata": {
    "ExecuteTime": {
     "end_time": "2020-04-27T15:55:54.632037Z",
     "start_time": "2020-04-27T15:55:54.621084Z"
    },
    "hidden": true
   },
   "outputs": [
    {
     "name": "stdout",
     "output_type": "stream",
     "text": [
      "46\n"
     ]
    }
   ],
   "source": [
    "features_2015 = data_2015.columns.tolist()\n",
    "features_2016 = raw_data_2016.columns.tolist()\n",
    "features = [c for c in features_2016 if c in features_2015]\n",
    "print(len(features))"
   ]
  },
  {
   "cell_type": "markdown",
   "metadata": {
    "hidden": true
   },
   "source": [
    "C'est bon, toutes les variables de 2016 sont bien présentes dans le jeu de données de 2015. Il nous reste maintenant à traiter les variables de 2015 non présentes dans le jeu de données de 2016."
   ]
  },
  {
   "cell_type": "markdown",
   "metadata": {
    "hidden": true
   },
   "source": [
    "### Variables non présentes dans le jeu de données 2016"
   ]
  },
  {
   "cell_type": "code",
   "execution_count": 54,
   "metadata": {
    "ExecuteTime": {
     "end_time": "2020-04-27T15:55:54.642991Z",
     "start_time": "2020-04-27T15:55:54.635024Z"
    },
    "hidden": true
   },
   "outputs": [
    {
     "name": "stdout",
     "output_type": "stream",
     "text": [
      "['OtherFuelUse(kBtu)', '2010 Census Tracts', 'Seattle Police Department Micro Community Policing Plan Areas', 'City Council Districts', 'SPD Beats', 'Zip Codes']\n"
     ]
    }
   ],
   "source": [
    "features = [c for c in features_2015 if c not in features_2016]\n",
    "print(features)"
   ]
  },
  {
   "cell_type": "markdown",
   "metadata": {
    "hidden": true
   },
   "source": [
    "Voici la liste des variables manquantes :\n",
    "\n",
    "Ayant accès à la localisation il est peu pertinent de les garder. C'est d'ailleurs le cas pour toutes les variables ci dessous :\n",
    "- OtherFuelUse(kBtu)\n",
    "- 2010 Census Tracts\n",
    "- Seattle Police Department Micro Community Policing Plan Areas\n",
    "- City Council Districts\n",
    "- SPD Beats (ils s'agit de zone de délimitation, elles sont au nombre de cinq à Seattle)\n",
    "- Zip Codes\n",
    "\n",
    "Les cinq dernières ne devraient pas changer d'une année à l'autre, et peuvent donc être intégrée au jeu de données de 2016 en reprenant les même valeurs que celles de 2015.\n",
    "\n",
    "En revanche, ce n'est pas le cas pour **OtherFuelUse(kBtu)**. Il faudra vérifier si on ne peut pas l'obtenir via d'autres variables. Si ce n'est pas le cas, alors il faudra voir si ses valeurs sont négligeables par rapport aux autres sources de consommation."
   ]
  },
  {
   "cell_type": "markdown",
   "metadata": {
    "hidden": true
   },
   "source": [
    "### Ajout des variables manquantes pour le jeu de données de 2016"
   ]
  },
  {
   "cell_type": "code",
   "execution_count": 55,
   "metadata": {
    "ExecuteTime": {
     "end_time": "2020-04-27T15:55:54.671870Z",
     "start_time": "2020-04-27T15:55:54.645978Z"
    },
    "hidden": true
   },
   "outputs": [],
   "source": [
    "feat_to_add =['OSEBuildingID', '2010 Census Tracts',\n",
    "              'Seattle Police Department Micro Community Policing Plan Areas',\n",
    "              'City Council Districts',\n",
    "              'SPD Beats',\n",
    "              'Zip Codes']\n",
    "\n",
    "data_2016 = pd.merge(raw_data_2016, data_2015[feat_to_add], how='left', on='OSEBuildingID')"
   ]
  },
  {
   "cell_type": "markdown",
   "metadata": {
    "hidden": true
   },
   "source": [
    "### Traitement de la variable OtherFuelUse(kBtu)"
   ]
  },
  {
   "cell_type": "markdown",
   "metadata": {
    "hidden": true
   },
   "source": [
    "Nous allons commencer par regarder s'il est possible de calculer cette variable à partir de la consommation totale et des autres sources d'énergie.\n",
    "\n",
    "Puis nous diviserons la différence entre le calcul et la variable *OtherFuelUse(kBtu)* par la consommation totale *SiteEnergyUse(kBtu)*. Cela permettra de vérifier si la différence est négligeable et donc de valider le calcul."
   ]
  },
  {
   "cell_type": "code",
   "execution_count": 56,
   "metadata": {
    "ExecuteTime": {
     "end_time": "2020-04-27T15:55:54.684811Z",
     "start_time": "2020-04-27T15:55:54.674853Z"
    },
    "hidden": true
   },
   "outputs": [],
   "source": [
    "df = data_2015[['SiteEnergyUse(kBtu)', 'SiteEnergyUseWN(kBtu)',\n",
    "                'SteamUse(kBtu)', 'Electricity(kBtu)', 'NaturalGas(kBtu)', 'OtherFuelUse(kBtu)']].copy()\n",
    "\n",
    "df['Other_calc'] = df.iloc[:, 0] - df.iloc[:, 2:].sum(axis=1)\n",
    "df['Other_calc'] = df['Other_calc'] / df.iloc[:, 0]"
   ]
  },
  {
   "cell_type": "code",
   "execution_count": 57,
   "metadata": {
    "ExecuteTime": {
     "end_time": "2020-04-27T15:55:54.723647Z",
     "start_time": "2020-04-27T15:55:54.686802Z"
    },
    "hidden": true
   },
   "outputs": [
    {
     "data": {
      "text/html": [
       "<div>\n",
       "<style scoped>\n",
       "    .dataframe tbody tr th:only-of-type {\n",
       "        vertical-align: middle;\n",
       "    }\n",
       "\n",
       "    .dataframe tbody tr th {\n",
       "        vertical-align: top;\n",
       "    }\n",
       "\n",
       "    .dataframe thead th {\n",
       "        text-align: right;\n",
       "    }\n",
       "</style>\n",
       "<table border=\"1\" class=\"dataframe\">\n",
       "  <thead>\n",
       "    <tr style=\"text-align: right;\">\n",
       "      <th></th>\n",
       "      <th>SiteEnergyUse(kBtu)</th>\n",
       "      <th>SiteEnergyUseWN(kBtu)</th>\n",
       "      <th>SteamUse(kBtu)</th>\n",
       "      <th>Electricity(kBtu)</th>\n",
       "      <th>NaturalGas(kBtu)</th>\n",
       "      <th>OtherFuelUse(kBtu)</th>\n",
       "      <th>Other_calc</th>\n",
       "    </tr>\n",
       "  </thead>\n",
       "  <tbody>\n",
       "    <tr>\n",
       "      <th>count</th>\n",
       "      <td>3.330000e+03</td>\n",
       "      <td>3.330000e+03</td>\n",
       "      <td>3.330000e+03</td>\n",
       "      <td>3.330000e+03</td>\n",
       "      <td>3.330000e+03</td>\n",
       "      <td>3.330000e+03</td>\n",
       "      <td>3328.000000</td>\n",
       "    </tr>\n",
       "    <tr>\n",
       "      <th>mean</th>\n",
       "      <td>4.983106e+06</td>\n",
       "      <td>5.203055e+06</td>\n",
       "      <td>2.502851e+05</td>\n",
       "      <td>3.473209e+06</td>\n",
       "      <td>1.253304e+06</td>\n",
       "      <td>7.142301e+03</td>\n",
       "      <td>-0.000246</td>\n",
       "    </tr>\n",
       "    <tr>\n",
       "      <th>std</th>\n",
       "      <td>1.375330e+07</td>\n",
       "      <td>1.400757e+07</td>\n",
       "      <td>3.481900e+06</td>\n",
       "      <td>9.519639e+06</td>\n",
       "      <td>4.415142e+06</td>\n",
       "      <td>1.962790e+05</td>\n",
       "      <td>0.007625</td>\n",
       "    </tr>\n",
       "    <tr>\n",
       "      <th>min</th>\n",
       "      <td>0.000000e+00</td>\n",
       "      <td>0.000000e+00</td>\n",
       "      <td>0.000000e+00</td>\n",
       "      <td>0.000000e+00</td>\n",
       "      <td>0.000000e+00</td>\n",
       "      <td>0.000000e+00</td>\n",
       "      <td>-0.314228</td>\n",
       "    </tr>\n",
       "    <tr>\n",
       "      <th>25%</th>\n",
       "      <td>9.139300e+05</td>\n",
       "      <td>9.883248e+05</td>\n",
       "      <td>0.000000e+00</td>\n",
       "      <td>6.363322e+05</td>\n",
       "      <td>0.000000e+00</td>\n",
       "      <td>0.000000e+00</td>\n",
       "      <td>-0.000041</td>\n",
       "    </tr>\n",
       "    <tr>\n",
       "      <th>50%</th>\n",
       "      <td>1.776219e+06</td>\n",
       "      <td>1.953996e+06</td>\n",
       "      <td>0.000000e+00</td>\n",
       "      <td>1.160236e+06</td>\n",
       "      <td>2.945770e+05</td>\n",
       "      <td>0.000000e+00</td>\n",
       "      <td>-0.000033</td>\n",
       "    </tr>\n",
       "    <tr>\n",
       "      <th>75%</th>\n",
       "      <td>4.044277e+06</td>\n",
       "      <td>4.368462e+06</td>\n",
       "      <td>0.000000e+00</td>\n",
       "      <td>2.750847e+06</td>\n",
       "      <td>1.115366e+06</td>\n",
       "      <td>0.000000e+00</td>\n",
       "      <td>-0.000022</td>\n",
       "    </tr>\n",
       "    <tr>\n",
       "      <th>max</th>\n",
       "      <td>2.958126e+08</td>\n",
       "      <td>2.977410e+08</td>\n",
       "      <td>1.278697e+08</td>\n",
       "      <td>2.847263e+08</td>\n",
       "      <td>1.364484e+08</td>\n",
       "      <td>8.269669e+06</td>\n",
       "      <td>0.000001</td>\n",
       "    </tr>\n",
       "  </tbody>\n",
       "</table>\n",
       "</div>"
      ],
      "text/plain": [
       "       SiteEnergyUse(kBtu)  SiteEnergyUseWN(kBtu)  SteamUse(kBtu)  \\\n",
       "count         3.330000e+03           3.330000e+03    3.330000e+03   \n",
       "mean          4.983106e+06           5.203055e+06    2.502851e+05   \n",
       "std           1.375330e+07           1.400757e+07    3.481900e+06   \n",
       "min           0.000000e+00           0.000000e+00    0.000000e+00   \n",
       "25%           9.139300e+05           9.883248e+05    0.000000e+00   \n",
       "50%           1.776219e+06           1.953996e+06    0.000000e+00   \n",
       "75%           4.044277e+06           4.368462e+06    0.000000e+00   \n",
       "max           2.958126e+08           2.977410e+08    1.278697e+08   \n",
       "\n",
       "       Electricity(kBtu)  NaturalGas(kBtu)  OtherFuelUse(kBtu)   Other_calc  \n",
       "count       3.330000e+03      3.330000e+03        3.330000e+03  3328.000000  \n",
       "mean        3.473209e+06      1.253304e+06        7.142301e+03    -0.000246  \n",
       "std         9.519639e+06      4.415142e+06        1.962790e+05     0.007625  \n",
       "min         0.000000e+00      0.000000e+00        0.000000e+00    -0.314228  \n",
       "25%         6.363322e+05      0.000000e+00        0.000000e+00    -0.000041  \n",
       "50%         1.160236e+06      2.945770e+05        0.000000e+00    -0.000033  \n",
       "75%         2.750847e+06      1.115366e+06        0.000000e+00    -0.000022  \n",
       "max         2.847263e+08      1.364484e+08        8.269669e+06     0.000001  "
      ]
     },
     "execution_count": 57,
     "metadata": {},
     "output_type": "execute_result"
    }
   ],
   "source": [
    "df.describe()"
   ]
  },
  {
   "cell_type": "markdown",
   "metadata": {
    "hidden": true
   },
   "source": [
    "Pour la majorité des bâtiments, la différence est marginale par rapport à la consommation totale (<0.1%). A noter que les valeurs obtenues après cacul sont sytématiquement plus faibles .\n",
    "\n",
    "Nous observons de plus, que pour au moins une des observations, la différence est significative, représentant plus de 30% de la consommation totale.  \n",
    "Vérifions s'il s'agit d'un cas isolé en affichant toutes les observations dont la différence représente plus de 1% de la consommation totale."
   ]
  },
  {
   "cell_type": "code",
   "execution_count": 58,
   "metadata": {
    "ExecuteTime": {
     "end_time": "2020-04-27T15:55:54.741571Z",
     "start_time": "2020-04-27T15:55:54.725638Z"
    },
    "hidden": true
   },
   "outputs": [
    {
     "name": "stdout",
     "output_type": "stream",
     "text": [
      "3\n"
     ]
    },
    {
     "data": {
      "text/html": [
       "<div>\n",
       "<style scoped>\n",
       "    .dataframe tbody tr th:only-of-type {\n",
       "        vertical-align: middle;\n",
       "    }\n",
       "\n",
       "    .dataframe tbody tr th {\n",
       "        vertical-align: top;\n",
       "    }\n",
       "\n",
       "    .dataframe thead th {\n",
       "        text-align: right;\n",
       "    }\n",
       "</style>\n",
       "<table border=\"1\" class=\"dataframe\">\n",
       "  <thead>\n",
       "    <tr style=\"text-align: right;\">\n",
       "      <th></th>\n",
       "      <th>SiteEnergyUse(kBtu)</th>\n",
       "      <th>SiteEnergyUseWN(kBtu)</th>\n",
       "      <th>SteamUse(kBtu)</th>\n",
       "      <th>Electricity(kBtu)</th>\n",
       "      <th>NaturalGas(kBtu)</th>\n",
       "      <th>OtherFuelUse(kBtu)</th>\n",
       "      <th>Other_calc</th>\n",
       "    </tr>\n",
       "  </thead>\n",
       "  <tbody>\n",
       "    <tr>\n",
       "      <th>564</th>\n",
       "      <td>5288304.0</td>\n",
       "      <td>5288304.0</td>\n",
       "      <td>0.0</td>\n",
       "      <td>5288523.0</td>\n",
       "      <td>618364.0</td>\n",
       "      <td>0.0</td>\n",
       "      <td>-0.116972</td>\n",
       "    </tr>\n",
       "    <tr>\n",
       "      <th>1201</th>\n",
       "      <td>1554939.0</td>\n",
       "      <td>2129737.0</td>\n",
       "      <td>0.0</td>\n",
       "      <td>1482658.0</td>\n",
       "      <td>560886.0</td>\n",
       "      <td>0.0</td>\n",
       "      <td>-0.314228</td>\n",
       "    </tr>\n",
       "    <tr>\n",
       "      <th>1308</th>\n",
       "      <td>4217108.0</td>\n",
       "      <td>4217108.0</td>\n",
       "      <td>0.0</td>\n",
       "      <td>4217284.0</td>\n",
       "      <td>1201563.0</td>\n",
       "      <td>0.0</td>\n",
       "      <td>-0.284968</td>\n",
       "    </tr>\n",
       "  </tbody>\n",
       "</table>\n",
       "</div>"
      ],
      "text/plain": [
       "      SiteEnergyUse(kBtu)  SiteEnergyUseWN(kBtu)  SteamUse(kBtu)  \\\n",
       "564             5288304.0              5288304.0             0.0   \n",
       "1201            1554939.0              2129737.0             0.0   \n",
       "1308            4217108.0              4217108.0             0.0   \n",
       "\n",
       "      Electricity(kBtu)  NaturalGas(kBtu)  OtherFuelUse(kBtu)  Other_calc  \n",
       "564           5288523.0          618364.0                 0.0   -0.116972  \n",
       "1201          1482658.0          560886.0                 0.0   -0.314228  \n",
       "1308          4217284.0         1201563.0                 0.0   -0.284968  "
      ]
     },
     "execution_count": 58,
     "metadata": {},
     "output_type": "execute_result"
    }
   ],
   "source": [
    "outliers = df[df['Other_calc'].abs()>0.001]\n",
    "print(outliers.shape[0])\n",
    "outliers"
   ]
  },
  {
   "cell_type": "markdown",
   "metadata": {
    "hidden": true
   },
   "source": [
    "Ces valeurs anomaliques sont seulement au nombre de trois. En y regardant de plus près, nous notons que pour deux d'entre elles la consommation en électricité seule est supérieure à la consommation totale, ce qui est impossible. Il s'agit probablement d'outliers, vérifions s'ils ont été étiquetés comme tels grâce à la variable *Outlier*."
   ]
  },
  {
   "cell_type": "code",
   "execution_count": 59,
   "metadata": {
    "ExecuteTime": {
     "end_time": "2020-04-27T15:55:54.756507Z",
     "start_time": "2020-04-27T15:55:54.743562Z"
    },
    "hidden": true
   },
   "outputs": [
    {
     "data": {
      "text/html": [
       "<div>\n",
       "<style scoped>\n",
       "    .dataframe tbody tr th:only-of-type {\n",
       "        vertical-align: middle;\n",
       "    }\n",
       "\n",
       "    .dataframe tbody tr th {\n",
       "        vertical-align: top;\n",
       "    }\n",
       "\n",
       "    .dataframe thead th {\n",
       "        text-align: right;\n",
       "    }\n",
       "</style>\n",
       "<table border=\"1\" class=\"dataframe\">\n",
       "  <thead>\n",
       "    <tr style=\"text-align: right;\">\n",
       "      <th></th>\n",
       "      <th>SiteEnergyUse(kBtu)</th>\n",
       "      <th>Electricity(kBtu)</th>\n",
       "      <th>Outlier</th>\n",
       "    </tr>\n",
       "  </thead>\n",
       "  <tbody>\n",
       "    <tr>\n",
       "      <th>564</th>\n",
       "      <td>5288304.0</td>\n",
       "      <td>5288523.0</td>\n",
       "      <td>NaN</td>\n",
       "    </tr>\n",
       "    <tr>\n",
       "      <th>1201</th>\n",
       "      <td>1554939.0</td>\n",
       "      <td>1482658.0</td>\n",
       "      <td>NaN</td>\n",
       "    </tr>\n",
       "    <tr>\n",
       "      <th>1308</th>\n",
       "      <td>4217108.0</td>\n",
       "      <td>4217284.0</td>\n",
       "      <td>NaN</td>\n",
       "    </tr>\n",
       "  </tbody>\n",
       "</table>\n",
       "</div>"
      ],
      "text/plain": [
       "      SiteEnergyUse(kBtu)  Electricity(kBtu) Outlier\n",
       "564             5288304.0          5288523.0     NaN\n",
       "1201            1554939.0          1482658.0     NaN\n",
       "1308            4217108.0          4217284.0     NaN"
      ]
     },
     "execution_count": 59,
     "metadata": {},
     "output_type": "execute_result"
    }
   ],
   "source": [
    "idx = outliers.index\n",
    "data_2015.loc[idx, ['SiteEnergyUse(kBtu)', 'Electricity(kBtu)', 'Outlier']]"
   ]
  },
  {
   "cell_type": "markdown",
   "metadata": {
    "hidden": true
   },
   "source": [
    "Ces observations n'ont pas été étiquetées comme outliers, mais elles le sont néanmoins. Il y a nécessairement une erreur lors du repport de la consommation. Cette dernière étant une des valeurs cibles que l'on cherche à modéliser, il est préférable d'écarter ces *outliers*."
   ]
  },
  {
   "cell_type": "code",
   "execution_count": 60,
   "metadata": {
    "ExecuteTime": {
     "end_time": "2020-04-27T15:55:54.767460Z",
     "start_time": "2020-04-27T15:55:54.758498Z"
    },
    "hidden": true
   },
   "outputs": [],
   "source": [
    "data_2015.drop(index=idx, inplace=True)"
   ]
  },
  {
   "cell_type": "markdown",
   "metadata": {},
   "source": [
    "## Sélection des observations"
   ]
  },
  {
   "cell_type": "markdown",
   "metadata": {},
   "source": [
    "### Vérifier la présence de doublons"
   ]
  },
  {
   "cell_type": "markdown",
   "metadata": {},
   "source": [
    "Pour vérifier la présence de doublons, nous utiliserons la variable *OSEBuildingID*. Au vu de son nom, il s'agit certainement d'une clé primaire permettant d'identifier chaque bâtiment de manière unique, donc particulièrement adaptée pour la recherche de doublons.\n",
    "\n",
    "Nous devons au préalable vérifier que toutes les données sont bien renseignées."
   ]
  },
  {
   "cell_type": "code",
   "execution_count": 80,
   "metadata": {
    "ExecuteTime": {
     "end_time": "2020-04-28T15:22:23.063479Z",
     "start_time": "2020-04-28T15:22:23.048683Z"
    }
   },
   "outputs": [
    {
     "name": "stdout",
     "output_type": "stream",
     "text": [
      "Il y a 0 données manquante pour les données de 2015\n",
      "Il y a 0 données manquante pour les données de 2016\n"
     ]
    }
   ],
   "source": [
    "na_15 = data_2015[data_2015['OSEBuildingID'].isna()].size\n",
    "na_16 = data_2015[data_2015['OSEBuildingID'].isna()].size\n",
    "print(\"Il y a {} données manquante pour les données de 2015\".format(na_15))\n",
    "print(\"Il y a {} données manquante pour les données de 2016\".format(na_16))\n"
   ]
  },
  {
   "cell_type": "markdown",
   "metadata": {},
   "source": [
    "C'est bien le cas, nous pouvons donc utiliser cette variable comme identifiant pour vérifier la présence de doublons"
   ]
  },
  {
   "cell_type": "code",
   "execution_count": 81,
   "metadata": {
    "ExecuteTime": {
     "end_time": "2020-04-28T15:22:58.341387Z",
     "start_time": "2020-04-28T15:22:58.334272Z"
    }
   },
   "outputs": [
    {
     "name": "stdout",
     "output_type": "stream",
     "text": [
      "Il y a 0 doublons pour les données de 2015\n",
      "Il y a 0 doublons pour les données de 2016\n"
     ]
    }
   ],
   "source": [
    "n_dup_15 = data_2015.shape[0] - data_2015['OSEBuildingID'].unique().size\n",
    "n_dup_16 = data_2016.shape[0] - data_2016['OSEBuildingID'].unique().size\n",
    "print(\"Il y a {} doublons pour les données de 2015\".format(n_dup_15))\n",
    "print(\"Il y a {} doublons pour les données de 2016\".format(n_dup_16))"
   ]
  },
  {
   "cell_type": "markdown",
   "metadata": {},
   "source": [
    "Il n'y a pas de doublons pour les deux jeux de données, nous utiliserons la variable *OSEBuildingID* comme index."
   ]
  },
  {
   "cell_type": "code",
   "execution_count": 84,
   "metadata": {
    "ExecuteTime": {
     "end_time": "2020-04-28T15:53:09.574917Z",
     "start_time": "2020-04-28T15:53:09.562160Z"
    }
   },
   "outputs": [],
   "source": [
    "data_2015.set_index('OSEBuildingID', inplace=True)\n",
    "data_2016.set_index('OSEBuildingID', inplace=True)"
   ]
  },
  {
   "cell_type": "markdown",
   "metadata": {},
   "source": [
    "### Traiter les outliers"
   ]
  },
  {
   "cell_type": "markdown",
   "metadata": {},
   "source": [
    "Nous avons vu précédement qu'une variable *Oulier* permettait de renseigner si des observations étaient des outliers ou non. Vérifions si beaucoup d'outliers ont été identifiés."
   ]
  },
  {
   "cell_type": "code",
   "execution_count": 61,
   "metadata": {
    "ExecuteTime": {
     "end_time": "2020-04-27T15:55:54.779410Z",
     "start_time": "2020-04-27T15:55:54.770448Z"
    }
   },
   "outputs": [
    {
     "data": {
      "text/plain": [
       "High Outlier    46\n",
       "Low Outlier     38\n",
       "Name: Outlier, dtype: int64"
      ]
     },
     "execution_count": 61,
     "metadata": {},
     "output_type": "execute_result"
    }
   ],
   "source": [
    "data_2015['Outlier'].value_counts()"
   ]
  },
  {
   "cell_type": "markdown",
   "metadata": {},
   "source": [
    "Au vu du faible nombre d'outliers identifiés, il est préférable de les écarter."
   ]
  },
  {
   "cell_type": "code",
   "execution_count": 62,
   "metadata": {
    "ExecuteTime": {
     "end_time": "2020-04-27T15:55:54.791359Z",
     "start_time": "2020-04-27T15:55:54.781401Z"
    }
   },
   "outputs": [],
   "source": [
    "idx = data_2015[data_2015['Outlier'].notna()].index\n",
    "data_2015.drop(index=idx, inplace=True)"
   ]
  },
  {
   "cell_type": "markdown",
   "metadata": {},
   "source": [
    "### Écarter les bâtiments destinés à l'habitation"
   ]
  },
  {
   "cell_type": "code",
   "execution_count": 82,
   "metadata": {
    "ExecuteTime": {
     "end_time": "2020-04-28T15:24:39.804988Z",
     "start_time": "2020-04-28T15:24:39.778310Z"
    }
   },
   "outputs": [
    {
     "data": {
      "text/plain": [
       "Index(['OSEBuildingID', 'DataYear', 'BuildingType', 'PrimaryPropertyType',\n",
       "       'PropertyName', 'TaxParcelIdentificationNumber', 'CouncilDistrictCode',\n",
       "       'Neighborhood', 'YearBuilt', 'NumberofBuildings', 'NumberofFloors',\n",
       "       'PropertyGFATotal', 'PropertyGFAParking', 'PropertyGFABuilding(s)',\n",
       "       'ListOfAllPropertyUseTypes', 'LargestPropertyUseType',\n",
       "       'LargestPropertyUseTypeGFA', 'SecondLargestPropertyUseType',\n",
       "       'SecondLargestPropertyUseTypeGFA', 'ThirdLargestPropertyUseType',\n",
       "       'ThirdLargestPropertyUseTypeGFA', 'YearsENERGYSTARCertified',\n",
       "       'ENERGYSTARScore', 'SiteEUI(kBtu/sf)', 'SiteEUIWN(kBtu/sf)',\n",
       "       'SourceEUI(kBtu/sf)', 'SourceEUIWN(kBtu/sf)', 'SiteEnergyUse(kBtu)',\n",
       "       'SiteEnergyUseWN(kBtu)', 'SteamUse(kBtu)', 'OtherFuelUse(kBtu)',\n",
       "       'TotalGHGEmissions', 'GHGEmissionsIntensity', 'DefaultData', 'Comments',\n",
       "       'ComplianceStatus', 'Outlier', '2010 Census Tracts',\n",
       "       'Seattle Police Department Micro Community Policing Plan Areas',\n",
       "       'City Council Districts', 'SPD Beats', 'Zip Codes', 'Latitude',\n",
       "       'Longitude', 'Address', 'City', 'State', 'ZipCode',\n",
       "       'Electricity(kBtu)_corr', 'NaturalGas(kBtu)_corr'],\n",
       "      dtype='object')"
      ]
     },
     "execution_count": 82,
     "metadata": {},
     "output_type": "execute_result"
    }
   ],
   "source": [
    "data_2015.columns"
   ]
  },
  {
   "cell_type": "code",
   "execution_count": 83,
   "metadata": {
    "ExecuteTime": {
     "end_time": "2020-04-28T15:25:20.498181Z",
     "start_time": "2020-04-28T15:25:20.488256Z"
    }
   },
   "outputs": [
    {
     "data": {
      "text/plain": [
       "NonResidential          1430\n",
       "Multifamily LR (1-4)     996\n",
       "Multifamily MR (5-9)     537\n",
       "Multifamily HR (10+)     104\n",
       "SPS-District K-12         97\n",
       "Nonresidential COS        68\n",
       "Campus                    21\n",
       "Name: BuildingType, dtype: int64"
      ]
     },
     "execution_count": 83,
     "metadata": {},
     "output_type": "execute_result"
    }
   ],
   "source": [
    "data_2015['BuildingType'].value_counts()"
   ]
  },
  {
   "cell_type": "code",
   "execution_count": 87,
   "metadata": {
    "ExecuteTime": {
     "end_time": "2020-04-28T15:58:05.350115Z",
     "start_time": "2020-04-28T15:58:05.344175Z"
    }
   },
   "outputs": [
    {
     "data": {
      "text/plain": [
       "1637"
      ]
     },
     "execution_count": 87,
     "metadata": {},
     "output_type": "execute_result"
    }
   ],
   "source": [
    "996+537+104"
   ]
  },
  {
   "cell_type": "code",
   "execution_count": 102,
   "metadata": {
    "ExecuteTime": {
     "end_time": "2020-04-28T16:30:58.162509Z",
     "start_time": "2020-04-28T16:30:58.152508Z"
    }
   },
   "outputs": [
    {
     "data": {
      "text/plain": [
       "Low-Rise Multifamily           965\n",
       "Mid-Rise Multifamily           522\n",
       "Small- and Mid-Sized Office    283\n",
       "Other                          258\n",
       "Non-Refrigerated Warehouse     187\n",
       "Large Office                   160\n",
       "K-12 School                    134\n",
       "Mixed Use Property             125\n",
       "High-Rise Multifamily          100\n",
       "Retail Store                    96\n",
       "Worship Facility                72\n",
       "Hotel                           71\n",
       "Distribution Center\\n           51\n",
       "Medical Office                  43\n",
       "Senior Care Community           43\n",
       "Supermarket/Grocery Store       36\n",
       "Self-Storage Facility\\n         27\n",
       "College/University              22\n",
       "Residence Hall/Dormitory        15\n",
       "Refrigerated Warehouse          13\n",
       "Restaurant\\n                    11\n",
       "Hospital                        10\n",
       "SPS-District K-12                4\n",
       "Distribution Center              2\n",
       "Restaurant                       1\n",
       "Self-Storage Facility            1\n",
       "Laboratory                       1\n",
       "Name: PrimaryPropertyType, dtype: int64"
      ]
     },
     "execution_count": 102,
     "metadata": {},
     "output_type": "execute_result"
    }
   ],
   "source": [
    "data_2015['PrimaryPropertyType'].value_counts()"
   ]
  },
  {
   "cell_type": "code",
   "execution_count": 89,
   "metadata": {
    "ExecuteTime": {
     "end_time": "2020-04-28T16:03:36.466375Z",
     "start_time": "2020-04-28T16:03:36.454425Z"
    }
   },
   "outputs": [
    {
     "data": {
      "text/plain": [
       "Low-Rise Multifamily           963\n",
       "Senior Care Community           15\n",
       "Mixed Use Property              12\n",
       "Other                            4\n",
       "College/University               1\n",
       "Small- and Mid-Sized Office      1\n",
       "Name: PrimaryPropertyType, dtype: int64"
      ]
     },
     "execution_count": 89,
     "metadata": {},
     "output_type": "execute_result"
    }
   ],
   "source": [
    "data_2015[data_2015['BuildingType']=='Multifamily LR (1-4)']['PrimaryPropertyType'].value_counts()"
   ]
  },
  {
   "cell_type": "code",
   "execution_count": 101,
   "metadata": {
    "ExecuteTime": {
     "end_time": "2020-04-28T16:26:38.640762Z",
     "start_time": "2020-04-28T16:26:38.618896Z"
    }
   },
   "outputs": [
    {
     "data": {
      "text/plain": [
       "array(['Multifamily Housing', 'Retail Store', 'Medical Office', 'Office',\n",
       "       'Parking', 'Other - Services', 'Restaurant', 'Other',\n",
       "       'Non-Refrigerated Warehouse', 'Residence Hall/Dormitory',\n",
       "       'Senior Care Community', 'Swimming Pool', 'Other - Restaurant/Bar',\n",
       "       'Self-Storage Facility', 'Supermarket/Grocery Store',\n",
       "       'Food Service', 'Other - Entertainment/Public Assembly',\n",
       "       'Other - Recreation', 'Other - Education', 'Fast Food Restaurant',\n",
       "       'Fitness Center/Health Club/Gym',\n",
       "       'Personal Services (Health/Beauty', 'Dry Cleaning', 'etc)',\n",
       "       'Other - Lodging/Residential', 'College/University',\n",
       "       'Social/Meeting Hall', 'Museum', 'Bank Branch', 'Strip Mall',\n",
       "       'Urgent Care/Clinic/Other Outpatient',\n",
       "       'Hospital (General Medical & Surgical)'], dtype=object)"
      ]
     },
     "execution_count": 101,
     "metadata": {},
     "output_type": "execute_result"
    }
   ],
   "source": [
    "s_test = data_2015[data_2015['BuildingType']=='Multifamily LR (1-4)']['ListOfAllPropertyUseTypes'].dropna()\n",
    "l_test = s_test.str.split(pat=\", \").tolist()\n",
    "flat_list = [i for sublist in l_test for i in sublist]\n",
    "s = pd.Series(flat_list, name='PropertyUseTypes')\n",
    "use_type = s.unique()\n",
    "use_type"
   ]
  },
  {
   "cell_type": "code",
   "execution_count": 92,
   "metadata": {
    "ExecuteTime": {
     "end_time": "2020-04-28T16:06:55.259464Z",
     "start_time": "2020-04-28T16:06:55.246003Z"
    }
   },
   "outputs": [
    {
     "data": {
      "text/plain": [
       "Multifamily Housing                                                                                                                                                            584\n",
       "Multifamily Housing, Parking                                                                                                                                                   229\n",
       "Multifamily Housing, Retail Store                                                                                                                                               24\n",
       "Multifamily Housing, Office, Parking                                                                                                                                            22\n",
       "Multifamily Housing, Parking, Retail Store                                                                                                                                      12\n",
       "Multifamily Housing, Office                                                                                                                                                     10\n",
       "Senior Care Community                                                                                                                                                            6\n",
       "Multifamily Housing, Parking, Swimming Pool                                                                                                                                      6\n",
       "Parking, Senior Care Community                                                                                                                                                   6\n",
       "Multifamily Housing, Restaurant                                                                                                                                                  5\n",
       "Multifamily Housing, Other                                                                                                                                                       4\n",
       "Multifamily Housing, Office, Retail Store                                                                                                                                        3\n",
       "Multifamily Housing, Non-Refrigerated Warehouse, Parking                                                                                                                         2\n",
       "Multifamily Housing, Office, Other, Parking, Retail Store                                                                                                                        2\n",
       "Multifamily Housing, Parking, Restaurant                                                                                                                                         2\n",
       "Multifamily Housing, Office, Parking, Retail Store                                                                                                                               2\n",
       "Medical Office, Multifamily Housing, Office, Retail Store                                                                                                                        1\n",
       "Multifamily Housing, Museum                                                                                                                                                      1\n",
       "Multifamily Housing, Other - Restaurant/Bar, Parking, Retail Store                                                                                                               1\n",
       "Multifamily Housing, Parking, Social/Meeting Hall                                                                                                                                1\n",
       "College/University                                                                                                                                                               1\n",
       "Hospital (General Medical & Surgical), Multifamily Housing, Parking                                                                                                              1\n",
       "Food Service, Multifamily Housing, Office, Other, Retail Store                                                                                                                   1\n",
       "Medical Office, Multifamily Housing, Office, Other, Parking, Restaurant, Self-Storage Facility                                                                                   1\n",
       "Food Service, Multifamily Housing, Other, Other - Entertainment/Public Assembly, Restaurant, Retail Store                                                                        1\n",
       "Other, Parking                                                                                                                                                                   1\n",
       "Multifamily Housing, Other - Education, Other - Entertainment/Public Assembly, Other - Restaurant/Bar                                                                            1\n",
       "Multifamily Housing, Office, Restaurant                                                                                                                                          1\n",
       "Multifamily Housing, Office, Other                                                                                                                                               1\n",
       "Restaurant, Senior Care Community                                                                                                                                                1\n",
       "Multifamily Housing, Other - Recreation, Parking, Restaurant                                                                                                                     1\n",
       "Multifamily Housing, Non-Refrigerated Warehouse, Parking, Residence Hall/Dormitory                                                                                               1\n",
       "Multifamily Housing, Restaurant, Retail Store                                                                                                                                    1\n",
       "Other, Retail Store                                                                                                                                                              1\n",
       "Multifamily Housing, Non-Refrigerated Warehouse, Retail Store                                                                                                                    1\n",
       "Office                                                                                                                                                                           1\n",
       "Multifamily Housing, Parking, Retail Store, Senior Care Community                                                                                                                1\n",
       "Multifamily Housing, Parking, Senior Care Community                                                                                                                              1\n",
       "Other - Lodging/Residential                                                                                                                                                      1\n",
       "Bank Branch, Multifamily Housing, Parking, Restaurant, Strip Mall                                                                                                                1\n",
       "Fast Food Restaurant, Multifamily Housing, Parking                                                                                                                               1\n",
       "Multifamily Housing, Non-Refrigerated Warehouse, Office, Restaurant                                                                                                              1\n",
       "Multifamily Housing, Other, Parking, Retail Store                                                                                                                                1\n",
       "Multifamily Housing, Retail Store, Self-Storage Facility, Supermarket/Grocery Store                                                                                              1\n",
       "Multifamily Housing, Other, Parking, Urgent Care/Clinic/Other Outpatient                                                                                                         1\n",
       "Fast Food Restaurant, Fitness Center/Health Club/Gym, Medical Office, Multifamily Housing, Other, Parking, Personal Services (Health/Beauty, Dry Cleaning, etc), Restaurant      1\n",
       "Multifamily Housing, Other, Parking                                                                                                                                              1\n",
       "Multifamily Housing, Office, Other - Services                                                                                                                                    1\n",
       "Multifamily Housing, Swimming Pool                                                                                                                                               1\n",
       "Multifamily Housing, Senior Care Community                                                                                                                                       1\n",
       "Medical Office, Multifamily Housing, Supermarket/Grocery Store                                                                                                                   1\n",
       "Name: ListOfAllPropertyUseTypes, dtype: int64"
      ]
     },
     "execution_count": 92,
     "metadata": {},
     "output_type": "execute_result"
    }
   ],
   "source": [
    "data_2015[data_2015['BuildingType']=='Multifamily LR (1-4)']['ListOfAllPropertyUseTypes'].value_counts()"
   ]
  },
  {
   "cell_type": "code",
   "execution_count": 91,
   "metadata": {
    "ExecuteTime": {
     "end_time": "2020-04-28T16:06:02.563189Z",
     "start_time": "2020-04-28T16:06:02.557215Z"
    }
   },
   "outputs": [
    {
     "data": {
      "text/plain": [
       "996"
      ]
     },
     "execution_count": 91,
     "metadata": {},
     "output_type": "execute_result"
    }
   ],
   "source": [
    "963+15+12+4+1+1"
   ]
  },
  {
   "cell_type": "code",
   "execution_count": 90,
   "metadata": {
    "ExecuteTime": {
     "end_time": "2020-04-28T16:03:57.413027Z",
     "start_time": "2020-04-28T16:03:57.402074Z"
    }
   },
   "outputs": [
    {
     "data": {
      "text/plain": [
       "Multifamily Housing            931\n",
       "Senior Care Community           14\n",
       "Other                            3\n",
       "College/University               1\n",
       "Office                           1\n",
       "Other - Lodging/Residential      1\n",
       "Name: LargestPropertyUseType, dtype: int64"
      ]
     },
     "execution_count": 90,
     "metadata": {},
     "output_type": "execute_result"
    }
   ],
   "source": [
    "data_2015[data_2015['BuildingType']=='Multifamily LR (1-4)']['LargestPropertyUseType'].value_counts()"
   ]
  },
  {
   "cell_type": "code",
   "execution_count": 86,
   "metadata": {
    "ExecuteTime": {
     "end_time": "2020-04-28T15:56:26.465833Z",
     "start_time": "2020-04-28T15:56:26.455907Z"
    }
   },
   "outputs": [
    {
     "data": {
      "text/plain": [
       "Multifamily Housing                                     1547\n",
       "Office                                                   454\n",
       "Non-Refrigerated Warehouse                               194\n",
       "K-12 School                                              134\n",
       "Other                                                    104\n",
       "Retail Store                                              94\n",
       "Worship Facility                                          70\n",
       "Hotel                                                     66\n",
       "Distribution Center                                       52\n",
       "Medical Office                                            43\n",
       "Senior Care Community                                     42\n",
       "Supermarket/Grocery Store                                 37\n",
       "Parking                                                   28\n",
       "Self-Storage Facility                                     27\n",
       "College/University                                        21\n",
       "Other - Entertainment/Public Assembly                     20\n",
       "Other - Recreation                                        20\n",
       "Residence Hall/Dormitory                                  16\n",
       "Refrigerated Warehouse                                    12\n",
       "Restaurant                                                12\n",
       "Social/Meeting Hall                                       10\n",
       "Laboratory                                                 9\n",
       "Hospital (General Medical & Surgical)                      9\n",
       "Other - Lodging/Residential                                6\n",
       "Strip Mall                                                 6\n",
       "Automobile Dealership                                      6\n",
       "Repair Services (Vehicle, Shoe, Locksmith, etc)            6\n",
       "Manufacturing/Industrial Plant                             6\n",
       "Other - Services                                           5\n",
       "Museum                                                     5\n",
       "Other - Education                                          4\n",
       "Performing Arts                                            4\n",
       "Fitness Center/Health Club/Gym                             4\n",
       "Bank Branch                                                4\n",
       "Urgent Care/Clinic/Other Outpatient                        4\n",
       "Library                                                    4\n",
       "Other/Specialty Hospital                                   4\n",
       "Other - Mall                                               3\n",
       "Financial Office                                           3\n",
       "Other - Public Services                                    2\n",
       "Lifestyle Center                                           2\n",
       "Other - Utility                                            2\n",
       "Other - Restaurant/Bar                                     2\n",
       "Data Center                                                2\n",
       "Adult Education                                            2\n",
       "Pre-school/Daycare                                         2\n",
       "Convention Center                                          1\n",
       "Personal Services (Health/Beauty, Dry Cleaning, etc)       1\n",
       "Food Service                                               1\n",
       "Wholesale Club/Supercenter                                 1\n",
       "Outpatient Rehabilitation/Physical Therapy                 1\n",
       "Fire Station                                               1\n",
       "Residential Care Facility                                  1\n",
       "Courthouse                                                 1\n",
       "Police Station                                             1\n",
       "Movie Theater                                              1\n",
       "Name: LargestPropertyUseType, dtype: int64"
      ]
     },
     "execution_count": 86,
     "metadata": {},
     "output_type": "execute_result"
    }
   ],
   "source": [
    "data_2015['LargestPropertyUseType'].value_counts()"
   ]
  },
  {
   "cell_type": "code",
   "execution_count": null,
   "metadata": {},
   "outputs": [],
   "source": [
    "# data_2015[P]"
   ]
  },
  {
   "cell_type": "markdown",
   "metadata": {
    "heading_collapsed": true
   },
   "source": [
    "## Nettoyage des variables liés à la consommation"
   ]
  },
  {
   "cell_type": "markdown",
   "metadata": {
    "hidden": true
   },
   "source": [
    "### Vérifier que les consommations sont bien positives"
   ]
  },
  {
   "cell_type": "code",
   "execution_count": 63,
   "metadata": {
    "ExecuteTime": {
     "end_time": "2020-04-27T15:55:58.837003Z",
     "start_time": "2020-04-27T15:55:58.783176Z"
    },
    "hidden": true
   },
   "outputs": [
    {
     "data": {
      "text/html": [
       "<div>\n",
       "<style scoped>\n",
       "    .dataframe tbody tr th:only-of-type {\n",
       "        vertical-align: middle;\n",
       "    }\n",
       "\n",
       "    .dataframe tbody tr th {\n",
       "        vertical-align: top;\n",
       "    }\n",
       "\n",
       "    .dataframe thead th {\n",
       "        text-align: right;\n",
       "    }\n",
       "</style>\n",
       "<table border=\"1\" class=\"dataframe\">\n",
       "  <thead>\n",
       "    <tr style=\"text-align: right;\">\n",
       "      <th></th>\n",
       "      <th>SiteEnergyUse(kBtu)</th>\n",
       "      <th>SiteEnergyUseWN(kBtu)</th>\n",
       "      <th>SteamUse(kBtu)</th>\n",
       "      <th>Electricity(kWh)</th>\n",
       "      <th>Electricity(kBtu)</th>\n",
       "      <th>NaturalGas(therms)</th>\n",
       "      <th>NaturalGas(kBtu)</th>\n",
       "      <th>OtherFuelUse(kBtu)</th>\n",
       "    </tr>\n",
       "  </thead>\n",
       "  <tbody>\n",
       "    <tr>\n",
       "      <th>count</th>\n",
       "      <td>3.245000e+03</td>\n",
       "      <td>3.245000e+03</td>\n",
       "      <td>3.245000e+03</td>\n",
       "      <td>3.245000e+03</td>\n",
       "      <td>3.245000e+03</td>\n",
       "      <td>3.245000e+03</td>\n",
       "      <td>3.245000e+03</td>\n",
       "      <td>3.245000e+03</td>\n",
       "    </tr>\n",
       "    <tr>\n",
       "      <th>mean</th>\n",
       "      <td>4.945992e+06</td>\n",
       "      <td>5.164167e+06</td>\n",
       "      <td>2.440606e+05</td>\n",
       "      <td>1.012985e+06</td>\n",
       "      <td>3.456450e+06</td>\n",
       "      <td>1.238293e+04</td>\n",
       "      <td>1.238293e+06</td>\n",
       "      <td>7.329388e+03</td>\n",
       "    </tr>\n",
       "    <tr>\n",
       "      <th>std</th>\n",
       "      <td>1.383722e+07</td>\n",
       "      <td>1.409213e+07</td>\n",
       "      <td>3.489462e+06</td>\n",
       "      <td>2.803500e+06</td>\n",
       "      <td>9.565940e+06</td>\n",
       "      <td>4.451396e+04</td>\n",
       "      <td>4.451396e+06</td>\n",
       "      <td>1.988304e+05</td>\n",
       "    </tr>\n",
       "    <tr>\n",
       "      <th>min</th>\n",
       "      <td>0.000000e+00</td>\n",
       "      <td>0.000000e+00</td>\n",
       "      <td>0.000000e+00</td>\n",
       "      <td>0.000000e+00</td>\n",
       "      <td>0.000000e+00</td>\n",
       "      <td>0.000000e+00</td>\n",
       "      <td>0.000000e+00</td>\n",
       "      <td>0.000000e+00</td>\n",
       "    </tr>\n",
       "    <tr>\n",
       "      <th>25%</th>\n",
       "      <td>9.181770e+05</td>\n",
       "      <td>9.927380e+05</td>\n",
       "      <td>0.000000e+00</td>\n",
       "      <td>1.880320e+05</td>\n",
       "      <td>6.415920e+05</td>\n",
       "      <td>0.000000e+00</td>\n",
       "      <td>0.000000e+00</td>\n",
       "      <td>0.000000e+00</td>\n",
       "    </tr>\n",
       "    <tr>\n",
       "      <th>50%</th>\n",
       "      <td>1.758580e+06</td>\n",
       "      <td>1.930609e+06</td>\n",
       "      <td>0.000000e+00</td>\n",
       "      <td>3.400090e+05</td>\n",
       "      <td>1.160158e+06</td>\n",
       "      <td>2.861000e+03</td>\n",
       "      <td>2.861160e+05</td>\n",
       "      <td>0.000000e+00</td>\n",
       "    </tr>\n",
       "    <tr>\n",
       "      <th>75%</th>\n",
       "      <td>3.983784e+06</td>\n",
       "      <td>4.313191e+06</td>\n",
       "      <td>0.000000e+00</td>\n",
       "      <td>8.030860e+05</td>\n",
       "      <td>2.740242e+06</td>\n",
       "      <td>1.087800e+04</td>\n",
       "      <td>1.087808e+06</td>\n",
       "      <td>0.000000e+00</td>\n",
       "    </tr>\n",
       "    <tr>\n",
       "      <th>max</th>\n",
       "      <td>2.958126e+08</td>\n",
       "      <td>2.977410e+08</td>\n",
       "      <td>1.278697e+08</td>\n",
       "      <td>8.344505e+07</td>\n",
       "      <td>2.847263e+08</td>\n",
       "      <td>1.364484e+06</td>\n",
       "      <td>1.364484e+08</td>\n",
       "      <td>8.269669e+06</td>\n",
       "    </tr>\n",
       "  </tbody>\n",
       "</table>\n",
       "</div>"
      ],
      "text/plain": [
       "       SiteEnergyUse(kBtu)  SiteEnergyUseWN(kBtu)  SteamUse(kBtu)  \\\n",
       "count         3.245000e+03           3.245000e+03    3.245000e+03   \n",
       "mean          4.945992e+06           5.164167e+06    2.440606e+05   \n",
       "std           1.383722e+07           1.409213e+07    3.489462e+06   \n",
       "min           0.000000e+00           0.000000e+00    0.000000e+00   \n",
       "25%           9.181770e+05           9.927380e+05    0.000000e+00   \n",
       "50%           1.758580e+06           1.930609e+06    0.000000e+00   \n",
       "75%           3.983784e+06           4.313191e+06    0.000000e+00   \n",
       "max           2.958126e+08           2.977410e+08    1.278697e+08   \n",
       "\n",
       "       Electricity(kWh)  Electricity(kBtu)  NaturalGas(therms)  \\\n",
       "count      3.245000e+03       3.245000e+03        3.245000e+03   \n",
       "mean       1.012985e+06       3.456450e+06        1.238293e+04   \n",
       "std        2.803500e+06       9.565940e+06        4.451396e+04   \n",
       "min        0.000000e+00       0.000000e+00        0.000000e+00   \n",
       "25%        1.880320e+05       6.415920e+05        0.000000e+00   \n",
       "50%        3.400090e+05       1.160158e+06        2.861000e+03   \n",
       "75%        8.030860e+05       2.740242e+06        1.087800e+04   \n",
       "max        8.344505e+07       2.847263e+08        1.364484e+06   \n",
       "\n",
       "       NaturalGas(kBtu)  OtherFuelUse(kBtu)  \n",
       "count      3.245000e+03        3.245000e+03  \n",
       "mean       1.238293e+06        7.329388e+03  \n",
       "std        4.451396e+06        1.988304e+05  \n",
       "min        0.000000e+00        0.000000e+00  \n",
       "25%        0.000000e+00        0.000000e+00  \n",
       "50%        2.861160e+05        0.000000e+00  \n",
       "75%        1.087808e+06        0.000000e+00  \n",
       "max        1.364484e+08        8.269669e+06  "
      ]
     },
     "execution_count": 63,
     "metadata": {},
     "output_type": "execute_result"
    }
   ],
   "source": [
    "col_conso = ['SiteEnergyUse(kBtu)',\n",
    "             'SiteEnergyUseWN(kBtu)',\n",
    "             'SteamUse(kBtu)', 'Electricity(kWh)',\n",
    "             'Electricity(kBtu)',\n",
    "             'NaturalGas(therms)',\n",
    "             'NaturalGas(kBtu)',\n",
    "             'OtherFuelUse(kBtu)']\n",
    "data_2015[col_conso].describe()"
   ]
  },
  {
   "cell_type": "markdown",
   "metadata": {
    "hidden": true
   },
   "source": [
    "Les valeurs sont bien positives ou nulles"
   ]
  },
  {
   "cell_type": "markdown",
   "metadata": {
    "hidden": true
   },
   "source": [
    "### Vérifier les conversions"
   ]
  },
  {
   "cell_type": "markdown",
   "metadata": {
    "hidden": true
   },
   "source": [
    "En parcourant les variables de consommation disponibles, nous notons que certaines variables donnent la même information mais avec des unités différentes :\n",
    "- Electricity(kBtu) et Electricity(kWh)\n",
    "- 'NaturalGas(kBtu)' et 'NaturalGas(therms)'\n",
    "\n",
    "L'unité usuelle pour *l'éléctricité* est le *kiloWatt heure (kWh)*. La consommation énergétique totale étant exprimée en *kBtu*, la consommation électrique mesurée en kWh a certainement été convertie en kBtu pour pouvoir la comparer à la consommation totale.\n",
    "Si la conversion a bien été effectuée, le ratio consommation électrique en kWh sur consommation électrique en kBtu, devrait être le même pour toute les observations, ie. *3.41214*."
   ]
  },
  {
   "cell_type": "code",
   "execution_count": 64,
   "metadata": {
    "ExecuteTime": {
     "end_time": "2020-04-27T15:57:01.279976Z",
     "start_time": "2020-04-27T15:57:01.266944Z"
    },
    "hidden": true
   },
   "outputs": [
    {
     "data": {
      "text/plain": [
       "count    3243.000000\n",
       "mean        3.412219\n",
       "std         0.004470\n",
       "min         3.411612\n",
       "25%         3.412139\n",
       "50%         3.412142\n",
       "75%         3.412143\n",
       "max         3.666667\n",
       "dtype: float64"
      ]
     },
     "execution_count": 64,
     "metadata": {},
     "output_type": "execute_result"
    }
   ],
   "source": [
    "test_elec = data_2015['Electricity(kBtu)'] / data_2015['Electricity(kWh)']\n",
    "test_elec.describe()"
   ]
  },
  {
   "cell_type": "markdown",
   "metadata": {
    "hidden": true
   },
   "source": [
    "Si pour la majorité le résultat obtenu est très proche de la valeur exacte, il n'est pas le même pour toutes les obervations. Cela rajoute inutilement du bruit aux données et pourrait abaisser les performances du modèle, il est donc préférable de corriger cette variable."
   ]
  },
  {
   "cell_type": "code",
   "execution_count": 65,
   "metadata": {
    "ExecuteTime": {
     "end_time": "2020-04-27T15:57:05.185311Z",
     "start_time": "2020-04-27T15:57:05.179369Z"
    },
    "hidden": true
   },
   "outputs": [],
   "source": [
    "data_2015['Electricity(kBtu)_corr'] = data_2015['Electricity(kBtu)'] * 3.41214"
   ]
  },
  {
   "cell_type": "markdown",
   "metadata": {
    "hidden": true
   },
   "source": [
    "Regardons maintenant le *gaz naturel*.\n",
    "\n",
    "Aux Etats-Unis, la quantité de gaz naturel consommé est exprimé en *therms* sur les factures. Là encore, cette valeur a été convertie en KBtu pour pouvoir la comparer à la consommation énergétique totale. Ici, la conversion est très simple vu qu'il suffit de multiplier par *100* pour passer des *therms* aux *kBtu*.\n",
    "Verifions si la conversion a bien été effectuée."
   ]
  },
  {
   "cell_type": "code",
   "execution_count": 66,
   "metadata": {
    "ExecuteTime": {
     "end_time": "2020-04-27T15:57:08.014703Z",
     "start_time": "2020-04-27T15:57:08.003235Z"
    },
    "hidden": true
   },
   "outputs": [
    {
     "data": {
      "text/plain": [
       "count    2014.000000\n",
       "mean      100.003450\n",
       "std         0.498022\n",
       "min        91.250000\n",
       "25%        99.997501\n",
       "50%       100.000000\n",
       "75%       100.002301\n",
       "max       111.000000\n",
       "dtype: float64"
      ]
     },
     "execution_count": 66,
     "metadata": {},
     "output_type": "execute_result"
    }
   ],
   "source": [
    "test_gas = data_2015['NaturalGas(kBtu)'] / data_2015['NaturalGas(therms)']\n",
    "test_gas.describe()"
   ]
  },
  {
   "cell_type": "markdown",
   "metadata": {
    "hidden": true
   },
   "source": [
    "Nous observons comme pour l'électricité que la conversion n'a pas été bien effectuée pour toutes les données, là encore il faut corriger les donnée en utilisant le bon taux de conversion."
   ]
  },
  {
   "cell_type": "code",
   "execution_count": 67,
   "metadata": {
    "ExecuteTime": {
     "end_time": "2020-04-27T15:57:10.241167Z",
     "start_time": "2020-04-27T15:57:10.234164Z"
    },
    "hidden": true
   },
   "outputs": [],
   "source": [
    "data_2015['NaturalGas(kBtu)_corr'] = data_2015['NaturalGas(therms)'] * 100"
   ]
  },
  {
   "cell_type": "markdown",
   "metadata": {
    "hidden": true
   },
   "source": [
    "Il est en général préférable d'éviter d'avoir des variables redondantes, au risque sinon de voir des variables sur-représentés lors de la modélisation. Nous garderons que les consommations exprimées en kBtu (la version corrigée pour l'électricité et le gaz naturel)"
   ]
  },
  {
   "cell_type": "code",
   "execution_count": 68,
   "metadata": {
    "ExecuteTime": {
     "end_time": "2020-04-27T15:57:30.604772Z",
     "start_time": "2020-04-27T15:57:30.593294Z"
    },
    "hidden": true
   },
   "outputs": [],
   "source": [
    "col_to_del = ['Electricity(kBtu)', 'Electricity(kWh)', 'NaturalGas(kBtu)', 'NaturalGas(therms)']\n",
    "data_2015.drop(columns=col_to_del, inplace=True)"
   ]
  },
  {
   "cell_type": "markdown",
   "metadata": {
    "hidden": true
   },
   "source": [
    "### Vérification des totaux"
   ]
  },
  {
   "cell_type": "code",
   "execution_count": null,
   "metadata": {
    "hidden": true
   },
   "outputs": [],
   "source": []
  },
  {
   "cell_type": "markdown",
   "metadata": {
    "heading_collapsed": true
   },
   "source": [
    "## Nettoyage des variables liées au Gross Floor Area (GFA)"
   ]
  },
  {
   "cell_type": "code",
   "execution_count": null,
   "metadata": {
    "hidden": true
   },
   "outputs": [],
   "source": [
    "Pour finir avec le nettoyages des variables nous regarderons si les totaux sont justes. Nous vérifierons notamment que :\n",
    "- PropertyGFATotal = PropertyGFAParking + "
   ]
  },
  {
   "cell_type": "markdown",
   "metadata": {
    "hidden": true
   },
   "source": [
    "Même si la différence est faible entre la valeur calculée et la variable initiale *OtherFuelUse(kBtu)*, il est préférable d'avoir des données les plus propres possible pour la modélisation. Nous remplacerons cette dernière par la valeur calculée pour l'année 2015, et ajouterons cette variable calculée aux données de 2015."
   ]
  },
  {
   "cell_type": "code",
   "execution_count": 31,
   "metadata": {
    "ExecuteTime": {
     "end_time": "2020-04-27T14:45:08.448132Z",
     "start_time": "2020-04-27T14:45:08.438175Z"
    },
    "hidden": true
   },
   "outputs": [],
   "source": [
    "data_2015['OtherFuelUse(kBtu)'] = data_2015['SiteEnergyUse(kBtu)'] - data_2015[['SteamUse(kBtu)', 'Electricity(kBtu)', 'NaturalGas(kBtu)']].sum(axis=1)\n",
    "\n",
    "data_2016['OtherFuelUse(kBtu)'] = data_2016['SiteEnergyUse(kBtu)'] - data_2016[['SteamUse(kBtu)', 'Electricity(kBtu)', 'NaturalGas(kBtu)']].sum(axis=1)"
   ]
  },
  {
   "cell_type": "code",
   "execution_count": 30,
   "metadata": {
    "ExecuteTime": {
     "end_time": "2020-04-27T14:44:48.514421Z",
     "start_time": "2020-04-27T14:44:48.504458Z"
    },
    "hidden": true
   },
   "outputs": [
    {
     "data": {
      "text/plain": [
       "0        6981580.0\n",
       "1        8354396.0\n",
       "2       73132739.0\n",
       "3       28229435.0\n",
       "4       14829350.0\n",
       "           ...    \n",
       "3335     1142996.0\n",
       "3336     1543328.0\n",
       "3337    16834654.0\n",
       "3338      777096.0\n",
       "3339      966416.0\n",
       "Length: 3337, dtype: float64"
      ]
     },
     "execution_count": 30,
     "metadata": {},
     "output_type": "execute_result"
    }
   ],
   "source": [
    "data_2015[['SteamUse(kBtu)', 'Electricity(kBtu)', 'NaturalGas(kBtu)']].sum(axis=1)"
   ]
  },
  {
   "cell_type": "code",
   "execution_count": 32,
   "metadata": {
    "ExecuteTime": {
     "end_time": "2020-04-27T14:45:10.989749Z",
     "start_time": "2020-04-27T14:45:10.969314Z"
    },
    "hidden": true
   },
   "outputs": [
    {
     "data": {
      "text/html": [
       "<div>\n",
       "<style scoped>\n",
       "    .dataframe tbody tr th:only-of-type {\n",
       "        vertical-align: middle;\n",
       "    }\n",
       "\n",
       "    .dataframe tbody tr th {\n",
       "        vertical-align: top;\n",
       "    }\n",
       "\n",
       "    .dataframe thead th {\n",
       "        text-align: right;\n",
       "    }\n",
       "</style>\n",
       "<table border=\"1\" class=\"dataframe\">\n",
       "  <thead>\n",
       "    <tr style=\"text-align: right;\">\n",
       "      <th></th>\n",
       "      <th>SiteEnergyUse(kBtu)</th>\n",
       "      <th>SiteEnergyUseWN(kBtu)</th>\n",
       "      <th>SteamUse(kBtu)</th>\n",
       "      <th>Electricity(kBtu)</th>\n",
       "      <th>NaturalGas(kBtu)</th>\n",
       "      <th>OtherFuelUse(kBtu)</th>\n",
       "    </tr>\n",
       "  </thead>\n",
       "  <tbody>\n",
       "    <tr>\n",
       "      <th>0</th>\n",
       "      <td>6981428.0</td>\n",
       "      <td>7097539.0</td>\n",
       "      <td>2023032.0</td>\n",
       "      <td>3686160.0</td>\n",
       "      <td>1272388.0</td>\n",
       "      <td>-152.0</td>\n",
       "    </tr>\n",
       "    <tr>\n",
       "      <th>1</th>\n",
       "      <td>8354235.0</td>\n",
       "      <td>8765788.0</td>\n",
       "      <td>0.0</td>\n",
       "      <td>3905411.0</td>\n",
       "      <td>4448985.0</td>\n",
       "      <td>-161.0</td>\n",
       "    </tr>\n",
       "    <tr>\n",
       "      <th>2</th>\n",
       "      <td>73130656.0</td>\n",
       "      <td>75506272.0</td>\n",
       "      <td>19660404.0</td>\n",
       "      <td>49762435.0</td>\n",
       "      <td>3709900.0</td>\n",
       "      <td>-2083.0</td>\n",
       "    </tr>\n",
       "    <tr>\n",
       "      <th>3</th>\n",
       "      <td>28229320.0</td>\n",
       "      <td>28363444.0</td>\n",
       "      <td>23458518.0</td>\n",
       "      <td>2769023.0</td>\n",
       "      <td>2001894.0</td>\n",
       "      <td>-115.0</td>\n",
       "    </tr>\n",
       "    <tr>\n",
       "      <th>4</th>\n",
       "      <td>14829099.0</td>\n",
       "      <td>15078243.0</td>\n",
       "      <td>0.0</td>\n",
       "      <td>6066245.0</td>\n",
       "      <td>8763105.0</td>\n",
       "      <td>-251.0</td>\n",
       "    </tr>\n",
       "    <tr>\n",
       "      <th>...</th>\n",
       "      <td>...</td>\n",
       "      <td>...</td>\n",
       "      <td>...</td>\n",
       "      <td>...</td>\n",
       "      <td>...</td>\n",
       "      <td>...</td>\n",
       "    </tr>\n",
       "    <tr>\n",
       "      <th>3335</th>\n",
       "      <td>1142949.0</td>\n",
       "      <td>1240429.0</td>\n",
       "      <td>0.0</td>\n",
       "      <td>1142996.0</td>\n",
       "      <td>0.0</td>\n",
       "      <td>-47.0</td>\n",
       "    </tr>\n",
       "    <tr>\n",
       "      <th>3336</th>\n",
       "      <td>1543282.0</td>\n",
       "      <td>1750143.0</td>\n",
       "      <td>0.0</td>\n",
       "      <td>1111352.0</td>\n",
       "      <td>431976.0</td>\n",
       "      <td>-46.0</td>\n",
       "    </tr>\n",
       "    <tr>\n",
       "      <th>3337</th>\n",
       "      <td>16834414.0</td>\n",
       "      <td>19623362.0</td>\n",
       "      <td>0.0</td>\n",
       "      <td>5767761.0</td>\n",
       "      <td>11066893.0</td>\n",
       "      <td>-240.0</td>\n",
       "    </tr>\n",
       "    <tr>\n",
       "      <th>3338</th>\n",
       "      <td>777064.0</td>\n",
       "      <td>849250.0</td>\n",
       "      <td>0.0</td>\n",
       "      <td>777096.0</td>\n",
       "      <td>0.0</td>\n",
       "      <td>-32.0</td>\n",
       "    </tr>\n",
       "    <tr>\n",
       "      <th>3339</th>\n",
       "      <td>966376.0</td>\n",
       "      <td>1053118.0</td>\n",
       "      <td>0.0</td>\n",
       "      <td>966416.0</td>\n",
       "      <td>0.0</td>\n",
       "      <td>-40.0</td>\n",
       "    </tr>\n",
       "  </tbody>\n",
       "</table>\n",
       "<p>3337 rows × 6 columns</p>\n",
       "</div>"
      ],
      "text/plain": [
       "      SiteEnergyUse(kBtu)  SiteEnergyUseWN(kBtu)  SteamUse(kBtu)  \\\n",
       "0               6981428.0              7097539.0       2023032.0   \n",
       "1               8354235.0              8765788.0             0.0   \n",
       "2              73130656.0             75506272.0      19660404.0   \n",
       "3              28229320.0             28363444.0      23458518.0   \n",
       "4              14829099.0             15078243.0             0.0   \n",
       "...                   ...                    ...             ...   \n",
       "3335            1142949.0              1240429.0             0.0   \n",
       "3336            1543282.0              1750143.0             0.0   \n",
       "3337           16834414.0             19623362.0             0.0   \n",
       "3338             777064.0               849250.0             0.0   \n",
       "3339             966376.0              1053118.0             0.0   \n",
       "\n",
       "      Electricity(kBtu)  NaturalGas(kBtu)  OtherFuelUse(kBtu)  \n",
       "0             3686160.0         1272388.0              -152.0  \n",
       "1             3905411.0         4448985.0              -161.0  \n",
       "2            49762435.0         3709900.0             -2083.0  \n",
       "3             2769023.0         2001894.0              -115.0  \n",
       "4             6066245.0         8763105.0              -251.0  \n",
       "...                 ...               ...                 ...  \n",
       "3335          1142996.0               0.0               -47.0  \n",
       "3336          1111352.0          431976.0               -46.0  \n",
       "3337          5767761.0        11066893.0              -240.0  \n",
       "3338           777096.0               0.0               -32.0  \n",
       "3339           966416.0               0.0               -40.0  \n",
       "\n",
       "[3337 rows x 6 columns]"
      ]
     },
     "execution_count": 32,
     "metadata": {},
     "output_type": "execute_result"
    }
   ],
   "source": [
    "data_2015[['SiteEnergyUse(kBtu)', 'SiteEnergyUseWN(kBtu)',\n",
    "                'SteamUse(kBtu)', 'Electricity(kBtu)', 'NaturalGas(kBtu)', 'OtherFuelUse(kBtu)']]"
   ]
  },
  {
   "cell_type": "code",
   "execution_count": null,
   "metadata": {
    "hidden": true
   },
   "outputs": [],
   "source": [
    "df = data_2015[['SiteEnergyUse(kBtu)', 'SiteEnergyUseWN(kBtu)',\n",
    "                'SteamUse(kBtu)', 'Electricity(kBtu)', 'NaturalGas(kBtu)', 'OtherFuelUse(kBtu)']].copy()\n",
    "\n",
    "df['Other_calc'] = df.iloc[:, 0] - df.iloc[:, 2:].sum(axis=1)\n",
    "df['Other_calc'] = df['Other_calc'] / df.iloc[:, 0]"
   ]
  },
  {
   "cell_type": "code",
   "execution_count": 18,
   "metadata": {
    "ExecuteTime": {
     "end_time": "2020-04-27T08:21:07.835890Z",
     "start_time": "2020-04-27T08:21:07.824937Z"
    },
    "hidden": true
   },
   "outputs": [
    {
     "data": {
      "text/plain": [
       "count    3328.000000\n",
       "mean        3.412217\n",
       "std         0.004412\n",
       "min         3.411612\n",
       "25%         3.412139\n",
       "50%         3.412142\n",
       "75%         3.412143\n",
       "max         3.666667\n",
       "dtype: float64"
      ]
     },
     "execution_count": 18,
     "metadata": {},
     "output_type": "execute_result"
    }
   ],
   "source": [
    "test_elec = data_2015['Electricity(kBtu)'] / data_2015['Electricity(kWh)']\n",
    "test_elec.describe()"
   ]
  },
  {
   "cell_type": "code",
   "execution_count": 19,
   "metadata": {
    "ExecuteTime": {
     "end_time": "2020-04-27T08:21:07.847803Z",
     "start_time": "2020-04-27T08:21:07.837396Z"
    },
    "hidden": true
   },
   "outputs": [
    {
     "data": {
      "text/plain": [
       "count    2074.000000\n",
       "mean      100.027864\n",
       "std         0.838721\n",
       "min        91.250000\n",
       "25%        99.997525\n",
       "50%       100.000000\n",
       "75%       100.002271\n",
       "max       122.000000\n",
       "dtype: float64"
      ]
     },
     "execution_count": 19,
     "metadata": {},
     "output_type": "execute_result"
    }
   ],
   "source": [
    "test_gas = data_2015['NaturalGas(kBtu)'] / data_2015['NaturalGas(therms)']\n",
    "test_gas.describe()"
   ]
  },
  {
   "cell_type": "code",
   "execution_count": 20,
   "metadata": {
    "ExecuteTime": {
     "end_time": "2020-04-27T08:21:07.861557Z",
     "start_time": "2020-04-27T08:21:07.849794Z"
    },
    "hidden": true
   },
   "outputs": [
    {
     "data": {
      "text/plain": [
       "count    3328.000000\n",
       "mean       -0.021069\n",
       "std         0.249590\n",
       "min        -4.581702\n",
       "25%        -0.002220\n",
       "50%        -0.000047\n",
       "75%         0.001617\n",
       "max         2.295078\n",
       "dtype: float64"
      ]
     },
     "execution_count": 20,
     "metadata": {},
     "output_type": "execute_result"
    }
   ],
   "source": [
    "test_tot = data_2015['SiteEnergyUse(kBtu)'] - data_2015['SiteEUI(kBtu/sf)']*data_2015['PropertyGFABuilding(s)']\n",
    "test_tot = test_tot/data_2015['SiteEnergyUse(kBtu)']\n",
    "test_tot.describe()"
   ]
  },
  {
   "cell_type": "code",
   "execution_count": 21,
   "metadata": {
    "ExecuteTime": {
     "end_time": "2020-04-27T08:21:07.870520Z",
     "start_time": "2020-04-27T08:21:07.863549Z"
    },
    "hidden": true
   },
   "outputs": [
    {
     "data": {
      "text/plain": [
       "1429"
      ]
     },
     "execution_count": 21,
     "metadata": {},
     "output_type": "execute_result"
    }
   ],
   "source": [
    "test_tot[test_tot.abs()>0.01].size"
   ]
  },
  {
   "cell_type": "code",
   "execution_count": 22,
   "metadata": {
    "ExecuteTime": {
     "end_time": "2020-04-27T08:21:07.884460Z",
     "start_time": "2020-04-27T08:21:07.872511Z"
    },
    "hidden": true
   },
   "outputs": [
    {
     "data": {
      "text/plain": [
       "count    3.328000e+03\n",
       "mean    -2.324305e-07\n",
       "std      4.610394e-06\n",
       "min     -8.238145e-05\n",
       "25%     -6.007792e-08\n",
       "50%     -7.064155e-10\n",
       "75%      4.631160e-08\n",
       "max      6.820846e-05\n",
       "dtype: float64"
      ]
     },
     "execution_count": 22,
     "metadata": {},
     "output_type": "execute_result"
    }
   ],
   "source": [
    "test_gfa = data_2015['PropertyGFATotal'] - (data_2015['PropertyGFAParking']+data_2015['PropertyGFABuilding(s)'])\n",
    "test_gfa = test_tot/data_2015['PropertyGFATotal']\n",
    "test_gfa.describe()"
   ]
  },
  {
   "cell_type": "code",
   "execution_count": 23,
   "metadata": {
    "ExecuteTime": {
     "end_time": "2020-04-27T08:21:07.903380Z",
     "start_time": "2020-04-27T08:21:07.891430Z"
    },
    "hidden": true
   },
   "outputs": [
    {
     "data": {
      "text/plain": [
       "High Outlier    46\n",
       "Low Outlier     38\n",
       "Name: Outlier, dtype: int64"
      ]
     },
     "execution_count": 23,
     "metadata": {},
     "output_type": "execute_result"
    }
   ],
   "source": [
    "data_2015['Outlier'].value_counts()"
   ]
  },
  {
   "cell_type": "code",
   "execution_count": 24,
   "metadata": {
    "ExecuteTime": {
     "end_time": "2020-04-27T08:21:07.915329Z",
     "start_time": "2020-04-27T08:21:07.906367Z"
    },
    "hidden": true
   },
   "outputs": [
    {
     "data": {
      "text/plain": [
       "Index(['OSEBuildingID', 'DataYear', 'BuildingType', 'PrimaryPropertyType',\n",
       "       'PropertyName', 'TaxParcelIdentificationNumber', 'CouncilDistrictCode',\n",
       "       'Neighborhood', 'YearBuilt', 'NumberofBuildings', 'NumberofFloors',\n",
       "       'PropertyGFATotal', 'PropertyGFAParking', 'PropertyGFABuilding(s)',\n",
       "       'ListOfAllPropertyUseTypes', 'LargestPropertyUseType',\n",
       "       'LargestPropertyUseTypeGFA', 'SecondLargestPropertyUseType',\n",
       "       'SecondLargestPropertyUseTypeGFA', 'ThirdLargestPropertyUseType',\n",
       "       'ThirdLargestPropertyUseTypeGFA', 'YearsENERGYSTARCertified',\n",
       "       'ENERGYSTARScore', 'SiteEUI(kBtu/sf)', 'SiteEUIWN(kBtu/sf)',\n",
       "       'SourceEUI(kBtu/sf)', 'SourceEUIWN(kBtu/sf)', 'SiteEnergyUse(kBtu)',\n",
       "       'SiteEnergyUseWN(kBtu)', 'SteamUse(kBtu)', 'Electricity(kWh)',\n",
       "       'Electricity(kBtu)', 'NaturalGas(therms)', 'NaturalGas(kBtu)',\n",
       "       'OtherFuelUse(kBtu)', 'TotalGHGEmissions', 'GHGEmissionsIntensity',\n",
       "       'DefaultData', 'Comments', 'ComplianceStatus', 'Outlier',\n",
       "       '2010 Census Tracts',\n",
       "       'Seattle Police Department Micro Community Policing Plan Areas',\n",
       "       'City Council Districts', 'SPD Beats', 'Zip Codes', 'Latitude',\n",
       "       'Longitude', 'Address', 'City', 'State', 'ZipCode'],\n",
       "      dtype='object')"
      ]
     },
     "execution_count": 24,
     "metadata": {},
     "output_type": "execute_result"
    }
   ],
   "source": [
    "data_2015.columns"
   ]
  }
 ],
 "metadata": {
  "kernelspec": {
   "display_name": "Python 3",
   "language": "python",
   "name": "python3"
  },
  "language_info": {
   "codemirror_mode": {
    "name": "ipython",
    "version": 3
   },
   "file_extension": ".py",
   "mimetype": "text/x-python",
   "name": "python",
   "nbconvert_exporter": "python",
   "pygments_lexer": "ipython3",
   "version": "3.7.3"
  },
  "toc": {
   "base_numbering": 1,
   "nav_menu": {},
   "number_sections": true,
   "sideBar": true,
   "skip_h1_title": true,
   "title_cell": "Table of Contents",
   "title_sidebar": "Contents",
   "toc_cell": true,
   "toc_position": {},
   "toc_section_display": true,
   "toc_window_display": true
  }
 },
 "nbformat": 4,
 "nbformat_minor": 4
}
