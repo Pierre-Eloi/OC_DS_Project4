{
 "cells": [
  {
   "cell_type": "markdown",
   "metadata": {},
   "source": [
    "# Projet 4 : Anticiper les besoins en consommation électrique de bâtiments\n",
    "*Pierre-Eloi Ragetly*\n",
    "\n",
    "Ce projet fait parti du parcours *DataScientist* d'OpenClassrooms.\n",
    "\n",
    "L'objectif principal est de trouver un modèle permettant de prédire **les émissions de CO2 et la consommation totale d’énergie de bâtiments non destinés à l'habitation.**\n",
    "\n",
    "Pour cela nous disposons des données de la ville de Seattle pour les années 2015 et 2016. Ces données sont à récupérer sur le site kaggle."
   ]
  },
  {
   "cell_type": "markdown",
   "metadata": {},
   "source": [
    "# Partie III : Data modeling\n",
    "\n",
    "Ce notebook a pour but de présenter le travail effectué sur la modélisation.\n",
    "\n",
    "Nous commencerons par séparer notre jeu de données en deux parties distinctes:\n",
    "- Le **training set**, qui va permettre d'entrainer les différents modèles;\n",
    "- Le **testing set**, qui permettra de déterminer la performance du modèle finale.\n",
    "\n",
    "Pour ce faire, la méthode `train_test_split()` de la classe *sklearn.model_selection* sera utilisée en réservant 20% des données pour le jeu de test.\n",
    "\n",
    "Puis les modèles les plus courants seront entraînés et comparés afin de conserver les plus prometteurs. Au préalable, *une recherche par quadrillage* sera effectuée pour automatiser le choix des *hyperparamètres*, et les variables les plus pertinentes seront sélectionnées par **RFE** (Recursive Feature Elimination).\n",
    "\n",
    "Après sélection des modèles les plus performants, nous affinerons encore les hyperparamètres à l'aide d'une *recherche aléatoire* cette fois ci, et nous en profiterons pour tester la pertinence de la variable *EnergyStarScore*.\n",
    "\n",
    "Nous analyserons enfin les erreurs des modèles afin de déterminer s'il est pertinent d'utiliser une *méthode d'ensemble*, ie. combiner plusieurs modèles pour construire un modèle plus performant.\n",
    "\n",
    "Le modèle final obtenu, nous pourrons évaluer sa performance à l'aide du jeu de test."
   ]
  },
  {
   "cell_type": "code",
   "execution_count": 1,
   "metadata": {
    "ExecuteTime": {
     "end_time": "2020-07-07T15:51:11.499371Z",
     "start_time": "2020-07-07T15:51:10.394013Z"
    }
   },
   "outputs": [],
   "source": [
    "# Import des librairies usuelles\n",
    "%matplotlib inline\n",
    "import matplotlib.pyplot as plt\n",
    "import numpy as np\n",
    "import scipy.stats as stats\n",
    "import pandas as pd\n",
    "import seaborn as sns"
   ]
  },
  {
   "cell_type": "code",
   "execution_count": 2,
   "metadata": {
    "ExecuteTime": {
     "end_time": "2020-07-07T15:51:11.509327Z",
     "start_time": "2020-07-07T15:51:11.501363Z"
    }
   },
   "outputs": [],
   "source": [
    "# Change some default parameters of matplotlib using seaborn\n",
    "plt.rcParams.update(plt.rcParamsDefault)\n",
    "plt.rcParams.update({'axes.titleweight': 'bold'})\n",
    "sns.set(style='ticks')\n",
    "current_palette = sns.color_palette('RdBu')\n",
    "sns.set_palette(current_palette)"
   ]
  },
  {
   "cell_type": "code",
   "execution_count": 3,
   "metadata": {
    "ExecuteTime": {
     "end_time": "2020-07-07T15:51:11.594934Z",
     "start_time": "2020-07-07T15:51:11.511319Z"
    }
   },
   "outputs": [],
   "source": [
    "# import data\n",
    "data = (pd.read_csv('data/data_tr.csv')\n",
    "          .set_index('OSEBuildingID')\n",
    "          .drop(columns='ENERGYSTARScore'))\n",
    "data_star = (pd.read_csv('data/data_tr.csv')\n",
    "              .set_index('OSEBuildingID')\n",
    "              .dropna(subset=['ENERGYSTARScore']))"
   ]
  },
  {
   "cell_type": "markdown",
   "metadata": {
    "toc": true
   },
   "source": [
    "<h1>Table of Contents<span class=\"tocSkip\"></span></h1>\n",
    "<div class=\"toc\"><ul class=\"toc-item\"><li><span><a href=\"#Modéliser-la-consommation-totale-d’énergie\" data-toc-modified-id=\"Modéliser-la-consommation-totale-d’énergie-1\"><span class=\"toc-item-num\">1&nbsp;&nbsp;</span>Modéliser la consommation totale d’énergie</a></span><ul class=\"toc-item\"><li><span><a href=\"#Créer-un-jeu-de-test\" data-toc-modified-id=\"Créer-un-jeu-de-test-1.1\"><span class=\"toc-item-num\">1.1&nbsp;&nbsp;</span>Créer un jeu de test</a></span></li><li><span><a href=\"#Comparaison-des-modèles\" data-toc-modified-id=\"Comparaison-des-modèles-1.2\"><span class=\"toc-item-num\">1.2&nbsp;&nbsp;</span>Comparaison des modèles</a></span><ul class=\"toc-item\"><li><span><a href=\"#En-conservant-les-valeurs-par-défaut-des-hyperparamères\" data-toc-modified-id=\"En-conservant-les-valeurs-par-défaut-des-hyperparamères-1.2.1\"><span class=\"toc-item-num\">1.2.1&nbsp;&nbsp;</span>En conservant les valeurs par défaut des hyperparamères</a></span></li><li><span><a href=\"#En-optimisant-les-hyperparamètres-via-des-recherches-aléatoires-et/ou-par-grille\" data-toc-modified-id=\"En-optimisant-les-hyperparamètres-via-des-recherches-aléatoires-et/ou-par-grille-1.2.2\"><span class=\"toc-item-num\">1.2.2&nbsp;&nbsp;</span>En optimisant les hyperparamètres via des recherches aléatoires et/ou par grille</a></span></li></ul></li><li><span><a href=\"#Recherche-des-variables-les-plus-significatives\" data-toc-modified-id=\"Recherche-des-variables-les-plus-significatives-1.3\"><span class=\"toc-item-num\">1.3&nbsp;&nbsp;</span>Recherche des variables les plus significatives</a></span></li><li><span><a href=\"#Sélection-des-cinq-meilleurs-modèles\" data-toc-modified-id=\"Sélection-des-cinq-meilleurs-modèles-1.4\"><span class=\"toc-item-num\">1.4&nbsp;&nbsp;</span>Sélection des cinq meilleurs modèles</a></span></li><li><span><a href=\"#Modèle-final\" data-toc-modified-id=\"Modèle-final-1.5\"><span class=\"toc-item-num\">1.5&nbsp;&nbsp;</span>Modèle final</a></span></li><li><span><a href=\"#Vérifier-la-pertinence-de-Energy-Star-Score\" data-toc-modified-id=\"Vérifier-la-pertinence-de-Energy-Star-Score-1.6\"><span class=\"toc-item-num\">1.6&nbsp;&nbsp;</span>Vérifier la pertinence de Energy Star Score</a></span></li></ul></li></ul></div>"
   ]
  },
  {
   "cell_type": "markdown",
   "metadata": {},
   "source": [
    "## Modéliser la consommation totale d’énergie"
   ]
  },
  {
   "cell_type": "markdown",
   "metadata": {},
   "source": [
    "Pour pouvoir modéliser la consommation totale en énergie il faut au préalable déterminer quelle sera notra valeur cible. Sous nous avons quatre variables potentielles :\n",
    "- SiteEnergyUse(kBtu)\n",
    "- SiteEnergyUseWN(kBtu)\n",
    "- SiteEnergyUse(kBtu)_log\n",
    "- SiteEnergyUseWN(kBtu)_log\n",
    "\n",
    "Nous avons vu lors de l'ingénierie des variable qu'il était préférable de prendre la version log pour avoir une distribution se rapprochant d'une distribution normale. On peut donc déjà écarter les deux premières.\n",
    "\n",
    "Se pose ensuite la question de savoir s'il est préférable de garder la version normalisée ou non normalisée. Pour rappel, la version normalisée et la consommation corrigée en prenant comme référence la température des trentes dernières années. Alors que la version normalisée est la consommation moyenne sur les années 2015 et 2016. Dans le contexte de réchauffement climatique, il est fort à parier que la températures des prochaines années sera plus proche de celles de 2015 et 2016 que de la température des trentes dernières années.\n",
    "\n",
    "Nous prendrons donc la version non normalisée **SiteEnergyUse(kBtu)_log**."
   ]
  },
  {
   "cell_type": "markdown",
   "metadata": {},
   "source": [
    "### Créer un jeu de test"
   ]
  },
  {
   "cell_type": "code",
   "execution_count": 4,
   "metadata": {
    "ExecuteTime": {
     "end_time": "2020-07-07T15:51:11.693514Z",
     "start_time": "2020-07-07T15:51:11.596924Z"
    }
   },
   "outputs": [],
   "source": [
    "from sklearn.model_selection import train_test_split\n",
    "\n",
    "X = data.iloc[:, :-6].values\n",
    "y = data.loc[:, 'SiteEnergyUse(kBtu)_log'].values\n",
    "X_train, X_test, y_train, y_test = train_test_split(X, y,\n",
    "                                                    test_size=0.2,\n",
    "                                                    random_state=42)"
   ]
  },
  {
   "cell_type": "markdown",
   "metadata": {},
   "source": [
    "Le paramètre *random_state* permet de définir *le germe* (seed) du générateur de nombre aléatoires, afin qu'il génère toujours la même suite d'indices pseudo-aléatoires."
   ]
  },
  {
   "cell_type": "markdown",
   "metadata": {},
   "source": [
    "### Comparaison des modèles"
   ]
  },
  {
   "cell_type": "markdown",
   "metadata": {},
   "source": [
    "Pour comparer les résultats obtenus avec les algorithmes de regression les plus courants (voir liste ci-dessous), nous utiliserons la librairie *Scikit-Learn* ainsi que la librairie *XGBoost*.\n",
    "- Régression Ridge\n",
    "- Régression Lasso\n",
    "- Elastic Net\n",
    "- Régression SVM linéaire\n",
    "- Régression SVM avec noyau\n",
    "- Régression kNN\n",
    "- Arbre de décision\n",
    "- Forêt aléatoire\n",
    "- Gradient Boosting\n",
    "- XGBoost\n",
    "- Perceptron multi-couches\n",
    "\n",
    "Nous utiliserons comme mesure de performance la RMSE par validation croisée."
   ]
  },
  {
   "cell_type": "markdown",
   "metadata": {},
   "source": [
    "#### En conservant les valeurs par défaut des hyperparamères"
   ]
  },
  {
   "cell_type": "code",
   "execution_count": 5,
   "metadata": {
    "ExecuteTime": {
     "end_time": "2020-07-07T15:51:20.138133Z",
     "start_time": "2020-07-07T15:51:11.695506Z"
    }
   },
   "outputs": [
    {
     "data": {
      "text/html": [
       "<div>\n",
       "<style scoped>\n",
       "    .dataframe tbody tr th:only-of-type {\n",
       "        vertical-align: middle;\n",
       "    }\n",
       "\n",
       "    .dataframe tbody tr th {\n",
       "        vertical-align: top;\n",
       "    }\n",
       "\n",
       "    .dataframe thead th {\n",
       "        text-align: right;\n",
       "    }\n",
       "</style>\n",
       "<table border=\"1\" class=\"dataframe\">\n",
       "  <thead>\n",
       "    <tr style=\"text-align: right;\">\n",
       "      <th></th>\n",
       "      <th>RMSE</th>\n",
       "      <th>RMSE_std</th>\n",
       "      <th>R2</th>\n",
       "      <th>R2_std</th>\n",
       "    </tr>\n",
       "  </thead>\n",
       "  <tbody>\n",
       "    <tr>\n",
       "      <th>Ridge</th>\n",
       "      <td>1.225298</td>\n",
       "      <td>0.731001</td>\n",
       "      <td>-0.221627</td>\n",
       "      <td>1.574230</td>\n",
       "    </tr>\n",
       "    <tr>\n",
       "      <th>Lasso</th>\n",
       "      <td>1.302335</td>\n",
       "      <td>0.024078</td>\n",
       "      <td>-0.001867</td>\n",
       "      <td>0.002141</td>\n",
       "    </tr>\n",
       "    <tr>\n",
       "      <th>ElasticNet</th>\n",
       "      <td>1.281978</td>\n",
       "      <td>0.023693</td>\n",
       "      <td>0.029077</td>\n",
       "      <td>0.016423</td>\n",
       "    </tr>\n",
       "    <tr>\n",
       "      <th>LinearSVR</th>\n",
       "      <td>1.294354</td>\n",
       "      <td>0.708138</td>\n",
       "      <td>-0.304864</td>\n",
       "      <td>1.530209</td>\n",
       "    </tr>\n",
       "    <tr>\n",
       "      <th>SVR</th>\n",
       "      <td>0.836307</td>\n",
       "      <td>0.040984</td>\n",
       "      <td>0.586477</td>\n",
       "      <td>0.031824</td>\n",
       "    </tr>\n",
       "    <tr>\n",
       "      <th>KNeighborsRegressor</th>\n",
       "      <td>1.008789</td>\n",
       "      <td>0.038625</td>\n",
       "      <td>0.398683</td>\n",
       "      <td>0.032113</td>\n",
       "    </tr>\n",
       "    <tr>\n",
       "      <th>DecisionTreeRegressor</th>\n",
       "      <td>0.845726</td>\n",
       "      <td>0.026259</td>\n",
       "      <td>0.576822</td>\n",
       "      <td>0.028541</td>\n",
       "    </tr>\n",
       "    <tr>\n",
       "      <th>RandomForestRegressor</th>\n",
       "      <td>0.643409</td>\n",
       "      <td>0.040500</td>\n",
       "      <td>0.754909</td>\n",
       "      <td>0.027334</td>\n",
       "    </tr>\n",
       "    <tr>\n",
       "      <th>GradientBoostingRegressor</th>\n",
       "      <td>0.635189</td>\n",
       "      <td>0.033111</td>\n",
       "      <td>0.761350</td>\n",
       "      <td>0.020930</td>\n",
       "    </tr>\n",
       "    <tr>\n",
       "      <th>XGBRegressor</th>\n",
       "      <td>0.670338</td>\n",
       "      <td>0.035690</td>\n",
       "      <td>0.734257</td>\n",
       "      <td>0.022718</td>\n",
       "    </tr>\n",
       "    <tr>\n",
       "      <th>MLPRegressor</th>\n",
       "      <td>1.964690</td>\n",
       "      <td>0.910893</td>\n",
       "      <td>-1.802105</td>\n",
       "      <td>2.559753</td>\n",
       "    </tr>\n",
       "  </tbody>\n",
       "</table>\n",
       "</div>"
      ],
      "text/plain": [
       "                               RMSE  RMSE_std        R2    R2_std\n",
       "Ridge                      1.225298  0.731001 -0.221627  1.574230\n",
       "Lasso                      1.302335  0.024078 -0.001867  0.002141\n",
       "ElasticNet                 1.281978  0.023693  0.029077  0.016423\n",
       "LinearSVR                  1.294354  0.708138 -0.304864  1.530209\n",
       "SVR                        0.836307  0.040984  0.586477  0.031824\n",
       "KNeighborsRegressor        1.008789  0.038625  0.398683  0.032113\n",
       "DecisionTreeRegressor      0.845726  0.026259  0.576822  0.028541\n",
       "RandomForestRegressor      0.643409  0.040500  0.754909  0.027334\n",
       "GradientBoostingRegressor  0.635189  0.033111  0.761350  0.020930\n",
       "XGBRegressor               0.670338  0.035690  0.734257  0.022718\n",
       "MLPRegressor               1.964690  0.910893 -1.802105  2.559753"
      ]
     },
     "execution_count": 5,
     "metadata": {},
     "output_type": "execute_result"
    }
   ],
   "source": [
    "from functions.ml_modeling import get_models\n",
    "from functions.ml_modeling import compare_models\n",
    "\n",
    "# Create models\n",
    "default_models = get_models(X_train, y_train)\n",
    "\n",
    "# Compare models\n",
    "compare_models(X_train, y_train, default_models)"
   ]
  },
  {
   "cell_type": "markdown",
   "metadata": {},
   "source": [
    "#### En optimisant les hyperparamètres via des recherches aléatoires et/ou par grille"
   ]
  },
  {
   "cell_type": "code",
   "execution_count": 6,
   "metadata": {
    "ExecuteTime": {
     "end_time": "2020-07-07T15:55:01.269249Z",
     "start_time": "2020-07-07T15:51:20.140124Z"
    }
   },
   "outputs": [
    {
     "data": {
      "text/html": [
       "<div>\n",
       "<style scoped>\n",
       "    .dataframe tbody tr th:only-of-type {\n",
       "        vertical-align: middle;\n",
       "    }\n",
       "\n",
       "    .dataframe tbody tr th {\n",
       "        vertical-align: top;\n",
       "    }\n",
       "\n",
       "    .dataframe thead th {\n",
       "        text-align: right;\n",
       "    }\n",
       "</style>\n",
       "<table border=\"1\" class=\"dataframe\">\n",
       "  <thead>\n",
       "    <tr style=\"text-align: right;\">\n",
       "      <th></th>\n",
       "      <th>RMSE</th>\n",
       "      <th>RMSE_std</th>\n",
       "      <th>R2</th>\n",
       "      <th>R2_std</th>\n",
       "    </tr>\n",
       "  </thead>\n",
       "  <tbody>\n",
       "    <tr>\n",
       "      <th>Ridge</th>\n",
       "      <td>0.955646</td>\n",
       "      <td>0.066553</td>\n",
       "      <td>0.457714</td>\n",
       "      <td>0.079133</td>\n",
       "    </tr>\n",
       "    <tr>\n",
       "      <th>Lasso</th>\n",
       "      <td>1.072417</td>\n",
       "      <td>0.355106</td>\n",
       "      <td>0.239687</td>\n",
       "      <td>0.579399</td>\n",
       "    </tr>\n",
       "    <tr>\n",
       "      <th>ElasticNet</th>\n",
       "      <td>0.977885</td>\n",
       "      <td>0.108398</td>\n",
       "      <td>0.427271</td>\n",
       "      <td>0.139759</td>\n",
       "    </tr>\n",
       "    <tr>\n",
       "      <th>LinearSVR</th>\n",
       "      <td>1.208167</td>\n",
       "      <td>0.302127</td>\n",
       "      <td>0.078588</td>\n",
       "      <td>0.491968</td>\n",
       "    </tr>\n",
       "    <tr>\n",
       "      <th>SVR</th>\n",
       "      <td>0.779613</td>\n",
       "      <td>0.036656</td>\n",
       "      <td>0.640436</td>\n",
       "      <td>0.029816</td>\n",
       "    </tr>\n",
       "    <tr>\n",
       "      <th>KNeighborsRegressor</th>\n",
       "      <td>0.984303</td>\n",
       "      <td>0.021795</td>\n",
       "      <td>0.427676</td>\n",
       "      <td>0.011266</td>\n",
       "    </tr>\n",
       "    <tr>\n",
       "      <th>DecisionTreeRegressor</th>\n",
       "      <td>0.735019</td>\n",
       "      <td>0.044614</td>\n",
       "      <td>0.680169</td>\n",
       "      <td>0.033964</td>\n",
       "    </tr>\n",
       "    <tr>\n",
       "      <th>RandomForestRegressor</th>\n",
       "      <td>0.639299</td>\n",
       "      <td>0.040270</td>\n",
       "      <td>0.758054</td>\n",
       "      <td>0.026444</td>\n",
       "    </tr>\n",
       "    <tr>\n",
       "      <th>GradientBoostingRegressor</th>\n",
       "      <td>0.621407</td>\n",
       "      <td>0.031967</td>\n",
       "      <td>0.771643</td>\n",
       "      <td>0.019237</td>\n",
       "    </tr>\n",
       "    <tr>\n",
       "      <th>XGBRegressor</th>\n",
       "      <td>0.620977</td>\n",
       "      <td>0.028500</td>\n",
       "      <td>0.771859</td>\n",
       "      <td>0.019121</td>\n",
       "    </tr>\n",
       "    <tr>\n",
       "      <th>MLPRegressor</th>\n",
       "      <td>0.731443</td>\n",
       "      <td>0.030912</td>\n",
       "      <td>0.683880</td>\n",
       "      <td>0.018644</td>\n",
       "    </tr>\n",
       "  </tbody>\n",
       "</table>\n",
       "</div>"
      ],
      "text/plain": [
       "                               RMSE  RMSE_std        R2    R2_std\n",
       "Ridge                      0.955646  0.066553  0.457714  0.079133\n",
       "Lasso                      1.072417  0.355106  0.239687  0.579399\n",
       "ElasticNet                 0.977885  0.108398  0.427271  0.139759\n",
       "LinearSVR                  1.208167  0.302127  0.078588  0.491968\n",
       "SVR                        0.779613  0.036656  0.640436  0.029816\n",
       "KNeighborsRegressor        0.984303  0.021795  0.427676  0.011266\n",
       "DecisionTreeRegressor      0.735019  0.044614  0.680169  0.033964\n",
       "RandomForestRegressor      0.639299  0.040270  0.758054  0.026444\n",
       "GradientBoostingRegressor  0.621407  0.031967  0.771643  0.019237\n",
       "XGBRegressor               0.620977  0.028500  0.771859  0.019121\n",
       "MLPRegressor               0.731443  0.030912  0.683880  0.018644"
      ]
     },
     "execution_count": 6,
     "metadata": {},
     "output_type": "execute_result"
    }
   ],
   "source": [
    "# Create models\n",
    "models = get_models(X_train, y_train, best_hparams=True)\n",
    "\n",
    "# Compare models\n",
    "df = compare_models(X_train, y_train, models)\n",
    "df"
   ]
  },
  {
   "cell_type": "markdown",
   "metadata": {},
   "source": [
    "### Recherche des variables les plus significatives"
   ]
  },
  {
   "cell_type": "markdown",
   "metadata": {},
   "source": [
    "Une grande qualité des forêts aléatoires est qu'elles permettent de mesurer facilement l'importance relative des variables. C'est donc tout naturellement que nous allons utiliser cet algorithme pour sélectionner les variables les plus pertinentes.\n",
    "\n",
    "Pour cela nous allons utiliser la classe **SelectFromModel** de *sklearn.feature_selection*. Cette classe permet de sélectionner toutes les variables dont l'importance (mesurée pour un modèle donné, donc ici une forêt aléatoire) est supérieure à un certain seuil, seuil qui est donné en paramètre. Nous utiliserons une recherche par grille pour trouver le seuil optimal.\n",
    "\n",
    "Ensuite nous ne conserverons que les variables qui sont significatives et réentrainerons les modèles avec ces variables."
   ]
  },
  {
   "cell_type": "code",
   "execution_count": 7,
   "metadata": {
    "ExecuteTime": {
     "end_time": "2020-07-07T15:56:26.217046Z",
     "start_time": "2020-07-07T15:55:01.274245Z"
    }
   },
   "outputs": [
    {
     "name": "stdout",
     "output_type": "stream",
     "text": [
      "34 features have been selected\n"
     ]
    }
   ],
   "source": [
    "from functions.ml_modeling import select_features\n",
    "\n",
    "# Get the mask of the features to be selected\n",
    "forest_reg = [m for m in models if type(m).__name__=='RandomForestRegressor'][0]\n",
    "mask = select_features(X_train, y_train, forest_reg)\n",
    "\n",
    "# Use the mask to select the significant features only\n",
    "X_train_select = X_train[:, mask].copy()\n",
    "n_features_select = mask.sum()\n",
    "print('{} features have been selected'.format(n_features_select))"
   ]
  },
  {
   "cell_type": "markdown",
   "metadata": {},
   "source": [
    "Nous observons que les meilleurs résultats sont obtenus lorsque nous conservons 33 variables sur les 54. Regardons ce qu'il se passe quand on entraine les modèles sur 33 variables."
   ]
  },
  {
   "cell_type": "code",
   "execution_count": 8,
   "metadata": {
    "ExecuteTime": {
     "end_time": "2020-07-07T16:00:07.089527Z",
     "start_time": "2020-07-07T15:56:26.221030Z"
    }
   },
   "outputs": [
    {
     "data": {
      "text/html": [
       "<div>\n",
       "<style scoped>\n",
       "    .dataframe tbody tr th:only-of-type {\n",
       "        vertical-align: middle;\n",
       "    }\n",
       "\n",
       "    .dataframe tbody tr th {\n",
       "        vertical-align: top;\n",
       "    }\n",
       "\n",
       "    .dataframe thead th {\n",
       "        text-align: right;\n",
       "    }\n",
       "</style>\n",
       "<table border=\"1\" class=\"dataframe\">\n",
       "  <thead>\n",
       "    <tr style=\"text-align: right;\">\n",
       "      <th></th>\n",
       "      <th>RMSE</th>\n",
       "      <th>RMSE_std</th>\n",
       "      <th>R2</th>\n",
       "      <th>R2_std</th>\n",
       "    </tr>\n",
       "  </thead>\n",
       "  <tbody>\n",
       "    <tr>\n",
       "      <th>Ridge</th>\n",
       "      <td>0.958769</td>\n",
       "      <td>0.066341</td>\n",
       "      <td>0.454171</td>\n",
       "      <td>0.079510</td>\n",
       "    </tr>\n",
       "    <tr>\n",
       "      <th>Lasso</th>\n",
       "      <td>1.068229</td>\n",
       "      <td>0.347054</td>\n",
       "      <td>0.248536</td>\n",
       "      <td>0.562026</td>\n",
       "    </tr>\n",
       "    <tr>\n",
       "      <th>ElasticNet</th>\n",
       "      <td>0.977489</td>\n",
       "      <td>0.106056</td>\n",
       "      <td>0.428042</td>\n",
       "      <td>0.136566</td>\n",
       "    </tr>\n",
       "    <tr>\n",
       "      <th>LinearSVR</th>\n",
       "      <td>1.152546</td>\n",
       "      <td>0.324242</td>\n",
       "      <td>0.147884</td>\n",
       "      <td>0.546579</td>\n",
       "    </tr>\n",
       "    <tr>\n",
       "      <th>SVR</th>\n",
       "      <td>0.757629</td>\n",
       "      <td>0.040834</td>\n",
       "      <td>0.660011</td>\n",
       "      <td>0.035713</td>\n",
       "    </tr>\n",
       "    <tr>\n",
       "      <th>KNeighborsRegressor</th>\n",
       "      <td>0.971358</td>\n",
       "      <td>0.024791</td>\n",
       "      <td>0.442625</td>\n",
       "      <td>0.015210</td>\n",
       "    </tr>\n",
       "    <tr>\n",
       "      <th>DecisionTreeRegressor</th>\n",
       "      <td>0.732818</td>\n",
       "      <td>0.045665</td>\n",
       "      <td>0.681981</td>\n",
       "      <td>0.035304</td>\n",
       "    </tr>\n",
       "    <tr>\n",
       "      <th>RandomForestRegressor</th>\n",
       "      <td>0.639796</td>\n",
       "      <td>0.042164</td>\n",
       "      <td>0.757623</td>\n",
       "      <td>0.027774</td>\n",
       "    </tr>\n",
       "    <tr>\n",
       "      <th>GradientBoostingRegressor</th>\n",
       "      <td>0.621264</td>\n",
       "      <td>0.032599</td>\n",
       "      <td>0.771839</td>\n",
       "      <td>0.018382</td>\n",
       "    </tr>\n",
       "    <tr>\n",
       "      <th>XGBRegressor</th>\n",
       "      <td>0.620027</td>\n",
       "      <td>0.025102</td>\n",
       "      <td>0.772629</td>\n",
       "      <td>0.016591</td>\n",
       "    </tr>\n",
       "    <tr>\n",
       "      <th>MLPRegressor</th>\n",
       "      <td>0.700850</td>\n",
       "      <td>0.032999</td>\n",
       "      <td>0.709258</td>\n",
       "      <td>0.025278</td>\n",
       "    </tr>\n",
       "  </tbody>\n",
       "</table>\n",
       "</div>"
      ],
      "text/plain": [
       "                               RMSE  RMSE_std        R2    R2_std\n",
       "Ridge                      0.958769  0.066341  0.454171  0.079510\n",
       "Lasso                      1.068229  0.347054  0.248536  0.562026\n",
       "ElasticNet                 0.977489  0.106056  0.428042  0.136566\n",
       "LinearSVR                  1.152546  0.324242  0.147884  0.546579\n",
       "SVR                        0.757629  0.040834  0.660011  0.035713\n",
       "KNeighborsRegressor        0.971358  0.024791  0.442625  0.015210\n",
       "DecisionTreeRegressor      0.732818  0.045665  0.681981  0.035304\n",
       "RandomForestRegressor      0.639796  0.042164  0.757623  0.027774\n",
       "GradientBoostingRegressor  0.621264  0.032599  0.771839  0.018382\n",
       "XGBRegressor               0.620027  0.025102  0.772629  0.016591\n",
       "MLPRegressor               0.700850  0.032999  0.709258  0.025278"
      ]
     },
     "execution_count": 8,
     "metadata": {},
     "output_type": "execute_result"
    }
   ],
   "source": [
    "# Create models\n",
    "models_select_f = get_models(X_train_select, y_train, best_hparams=True)\n",
    "\n",
    "# Compare models\n",
    "df_select_f = compare_models(X_train_select, y_train, models_select_f)\n",
    "df_select_f"
   ]
  },
  {
   "cell_type": "markdown",
   "metadata": {},
   "source": [
    "Les résultats sont similaires, voir légèrement meilleurs pour certains modèles. Nous continuerons donc avec 35 variables, cela permettra de réduire les temps d'entrainement sans abaisser la performance pour autant."
   ]
  },
  {
   "cell_type": "markdown",
   "metadata": {},
   "source": [
    "### Sélection des cinq meilleurs modèles"
   ]
  },
  {
   "cell_type": "code",
   "execution_count": 9,
   "metadata": {
    "ExecuteTime": {
     "end_time": "2020-07-07T16:00:07.119429Z",
     "start_time": "2020-07-07T16:00:07.092513Z"
    }
   },
   "outputs": [
    {
     "name": "stdout",
     "output_type": "stream",
     "text": [
      "The top five models are:\n",
      "XGBRegressor\n",
      "GradientBoostingRegressor\n",
      "RandomForestRegressor\n",
      "MLPRegressor\n",
      "DecisionTreeRegressor\n"
     ]
    }
   ],
   "source": [
    "# Get a score based on both RMSE and R2 scores\n",
    "df_select_f['RMSE_minmax'] = (df_select_f['RMSE']-df_select_f['RMSE'].min())/ \\\n",
    "                             (df_select_f['RMSE'].max()-df_select_f['RMSE'].min())\n",
    "df_select_f['R2_minmax'] = (df_select_f['R2']-df_select_f['R2'].min())/ \\\n",
    "                           (df_select_f['R2'].max()-df_select_f['R2'].min())\n",
    "df_select_f['Score'] = df_select_f['R2_minmax'] - df_select_f['RMSE_minmax']\n",
    "\n",
    "# Keep the 3 models with the largest score\n",
    "best_models_name = df_select_f['Score'].nlargest(5).index\n",
    "best_models = [m for m in models_select_f if type(m).__name__ in best_models_name]\n",
    "print(\"The top five models are:\")\n",
    "for m in best_models_name:\n",
    "    print(m)"
   ]
  },
  {
   "cell_type": "markdown",
   "metadata": {},
   "source": [
    "### Modèle final"
   ]
  },
  {
   "cell_type": "markdown",
   "metadata": {},
   "source": [
    "Maintenant que nous avons réentrainé les modèles les plus prometteurs en ne conservant que les variables significatives, nous allons pouvoir obtenir le modèle finale.\n",
    "\n",
    "Pour ce modèle finale, nous allons reprendre l'astuce des modèles ensemblistes, nous allons chercher à obtenir le meilleur des modèles sélectionnés en les empilant de manière à former un nouveau modèle plus performant. Pour cela, nous utiliserons la classe **StackingRegressor** de *sklearn.ensemble*."
   ]
  },
  {
   "cell_type": "code",
   "execution_count": 10,
   "metadata": {
    "ExecuteTime": {
     "end_time": "2020-07-07T16:00:35.349783Z",
     "start_time": "2020-07-07T16:00:07.124408Z"
    }
   },
   "outputs": [
    {
     "data": {
      "text/html": [
       "<div>\n",
       "<style scoped>\n",
       "    .dataframe tbody tr th:only-of-type {\n",
       "        vertical-align: middle;\n",
       "    }\n",
       "\n",
       "    .dataframe tbody tr th {\n",
       "        vertical-align: top;\n",
       "    }\n",
       "\n",
       "    .dataframe thead th {\n",
       "        text-align: right;\n",
       "    }\n",
       "</style>\n",
       "<table border=\"1\" class=\"dataframe\">\n",
       "  <thead>\n",
       "    <tr style=\"text-align: right;\">\n",
       "      <th></th>\n",
       "      <th>RMSE</th>\n",
       "      <th>RMSE_std</th>\n",
       "      <th>R2</th>\n",
       "      <th>R2_std</th>\n",
       "    </tr>\n",
       "  </thead>\n",
       "  <tbody>\n",
       "    <tr>\n",
       "      <th>DecisionTreeRegressor</th>\n",
       "      <td>0.732818</td>\n",
       "      <td>0.045665</td>\n",
       "      <td>0.681981</td>\n",
       "      <td>0.035304</td>\n",
       "    </tr>\n",
       "    <tr>\n",
       "      <th>RandomForestRegressor</th>\n",
       "      <td>0.639796</td>\n",
       "      <td>0.042164</td>\n",
       "      <td>0.757623</td>\n",
       "      <td>0.027774</td>\n",
       "    </tr>\n",
       "    <tr>\n",
       "      <th>GradientBoostingRegressor</th>\n",
       "      <td>0.621264</td>\n",
       "      <td>0.032599</td>\n",
       "      <td>0.771839</td>\n",
       "      <td>0.018382</td>\n",
       "    </tr>\n",
       "    <tr>\n",
       "      <th>XGBRegressor</th>\n",
       "      <td>0.620027</td>\n",
       "      <td>0.025102</td>\n",
       "      <td>0.772629</td>\n",
       "      <td>0.016591</td>\n",
       "    </tr>\n",
       "    <tr>\n",
       "      <th>MLPRegressor</th>\n",
       "      <td>0.700850</td>\n",
       "      <td>0.032999</td>\n",
       "      <td>0.709258</td>\n",
       "      <td>0.025278</td>\n",
       "    </tr>\n",
       "    <tr>\n",
       "      <th>StackingRegressor</th>\n",
       "      <td>0.611389</td>\n",
       "      <td>0.030168</td>\n",
       "      <td>0.778991</td>\n",
       "      <td>0.017631</td>\n",
       "    </tr>\n",
       "  </tbody>\n",
       "</table>\n",
       "</div>"
      ],
      "text/plain": [
       "                               RMSE  RMSE_std        R2    R2_std\n",
       "DecisionTreeRegressor      0.732818  0.045665  0.681981  0.035304\n",
       "RandomForestRegressor      0.639796  0.042164  0.757623  0.027774\n",
       "GradientBoostingRegressor  0.621264  0.032599  0.771839  0.018382\n",
       "XGBRegressor               0.620027  0.025102  0.772629  0.016591\n",
       "MLPRegressor               0.700850  0.032999  0.709258  0.025278\n",
       "StackingRegressor          0.611389  0.030168  0.778991  0.017631"
      ]
     },
     "execution_count": 10,
     "metadata": {},
     "output_type": "execute_result"
    }
   ],
   "source": [
    "from sklearn.ensemble import StackingRegressor\n",
    "from sklearn.linear_model import RidgeCV\n",
    "\n",
    "# Get a stacking ensemble of models\n",
    "estimators = []\n",
    "for m in best_models:\n",
    "    estimators.append((type(m).__name__, m))\n",
    "stack_reg = StackingRegressor(estimators=estimators,\n",
    "                              final_estimator=RidgeCV(alphas=np.logspace(-2, 2, 5)))\n",
    "\n",
    "# Get the results\n",
    "best_models.append(stack_reg)\n",
    "df = compare_models(X_train_select, y_train, best_models)\n",
    "df"
   ]
  },
  {
   "cell_type": "markdown",
   "metadata": {},
   "source": [
    "Le modèle ainsi créé est plus performant. Cependant, le gain de performance est bien faible comparé aux résultats obtenus avec le Gradient Boosting, alors que le temps de calcul nécessaire est lui nettement supérieur (il faut entrainer six modèles au lieu d'un seul). C'est pour cette raison que le modèle Gradient Boosting est préféré au modèle qui utilise la technique de l'empilement.\n",
    "\n",
    "Pour finir, regardons ce que donne le Gradient Boosting sur les données de tests."
   ]
  },
  {
   "cell_type": "code",
   "execution_count": 11,
   "metadata": {
    "ExecuteTime": {
     "end_time": "2020-07-07T16:00:35.367705Z",
     "start_time": "2020-07-07T16:00:35.353765Z"
    }
   },
   "outputs": [
    {
     "name": "stdout",
     "output_type": "stream",
     "text": [
      "0.8952105269428131\n"
     ]
    }
   ],
   "source": [
    "from sklearn.metrics import r2_score\n",
    "\n",
    "gboost = best_models[-4]\n",
    "y_pred = np.exp(gboost.predict(X_test[:, mask]))\n",
    "y_true = np.exp(y_test)\n",
    "r2 = r2_score(y_true, y_pred)\n",
    "print(r2)"
   ]
  },
  {
   "cell_type": "markdown",
   "metadata": {},
   "source": [
    "### Vérifier la pertinence de Energy Star Score"
   ]
  },
  {
   "cell_type": "markdown",
   "metadata": {},
   "source": [
    "Nous allons pour clore cette partie consacrée à la modélisation des consommations énergétiques, vérifier la pertinence de la variable *Energy Star Score*. Pour cela nous allons entrainer le modèle XGBoost sur deux jeux données distincts uniquement par la présence (ou non) de cette variable. Puis nous comparerons les résultats obtenus avec chaque modèles."
   ]
  },
  {
   "cell_type": "code",
   "execution_count": 12,
   "metadata": {
    "ExecuteTime": {
     "end_time": "2020-07-07T16:01:40.460716Z",
     "start_time": "2020-07-07T16:00:35.371688Z"
    }
   },
   "outputs": [
    {
     "data": {
      "text/html": [
       "<div>\n",
       "<style scoped>\n",
       "    .dataframe tbody tr th:only-of-type {\n",
       "        vertical-align: middle;\n",
       "    }\n",
       "\n",
       "    .dataframe tbody tr th {\n",
       "        vertical-align: top;\n",
       "    }\n",
       "\n",
       "    .dataframe thead th {\n",
       "        text-align: right;\n",
       "    }\n",
       "</style>\n",
       "<table border=\"1\" class=\"dataframe\">\n",
       "  <thead>\n",
       "    <tr style=\"text-align: right;\">\n",
       "      <th></th>\n",
       "      <th>EnergyStarScore</th>\n",
       "      <th>R2</th>\n",
       "    </tr>\n",
       "  </thead>\n",
       "  <tbody>\n",
       "    <tr>\n",
       "      <th>0</th>\n",
       "      <td>True</td>\n",
       "      <td>0.762806</td>\n",
       "    </tr>\n",
       "    <tr>\n",
       "      <th>1</th>\n",
       "      <td>False</td>\n",
       "      <td>0.622659</td>\n",
       "    </tr>\n",
       "  </tbody>\n",
       "</table>\n",
       "</div>"
      ],
      "text/plain": [
       "   EnergyStarScore        R2\n",
       "0             True  0.762806\n",
       "1            False  0.622659"
      ]
     },
     "execution_count": 12,
     "metadata": {},
     "output_type": "execute_result"
    }
   ],
   "source": [
    "from sklearn.ensemble import GradientBoostingRegressor\n",
    "from functions.ml_modeling import gboost_reg_best_params\n",
    "\n",
    "\n",
    "# Split the dataset into random train and test subsets\n",
    "mask_star = (data_star.columns[:-6]!='ENERGYSTARScore')\n",
    "X_star = data_star.iloc[:, :-6].values\n",
    "y_star = data_star.loc[:, 'SiteEnergyUse(kBtu)_log'].values\n",
    "X_star_train, X_star_test, y_star_train, y_star_test = train_test_split(X_star,\n",
    "                                                                        y_star,\n",
    "                                                                        test_size=0.2,\n",
    "                                                                        random_state=42)\n",
    "# Train the models\n",
    "gboost_star = gboost_reg_best_params(X_star_train,\n",
    "                                     y_star_train,\n",
    "                                     GradientBoostingRegressor())\n",
    "gboost_no_star = gboost_reg_best_params(X_star_train[:, mask_star],\n",
    "                                        y_star_train,\n",
    "                                        GradientBoostingRegressor())\n",
    "\n",
    "# Get results\n",
    "r2 = []\n",
    "y_pred = np.exp(gboost_star.predict(X_star_test))\n",
    "y_true = np.exp(y_star_test)\n",
    "r2.append(r2_score(y_true, y_pred))\n",
    "y_pred = np.exp(gboost_no_star.predict(X_star_test[:, mask_star]))\n",
    "r2.append(r2_score(y_true, y_pred))\n",
    "df_star = pd.DataFrame({'EnergyStarScore': [True, False], 'R2': r2})\n",
    "df_star"
   ]
  }
 ],
 "metadata": {
  "kernelspec": {
   "display_name": "Python 3",
   "language": "python",
   "name": "python3"
  },
  "language_info": {
   "codemirror_mode": {
    "name": "ipython",
    "version": 3
   },
   "file_extension": ".py",
   "mimetype": "text/x-python",
   "name": "python",
   "nbconvert_exporter": "python",
   "pygments_lexer": "ipython3",
   "version": "3.8.3"
  },
  "toc": {
   "base_numbering": "1",
   "nav_menu": {},
   "number_sections": true,
   "sideBar": true,
   "skip_h1_title": true,
   "title_cell": "Table of Contents",
   "title_sidebar": "Contents",
   "toc_cell": true,
   "toc_position": {
    "height": "calc(100% - 180px)",
    "left": "10px",
    "top": "150px",
    "width": "254px"
   },
   "toc_section_display": true,
   "toc_window_display": false
  }
 },
 "nbformat": 4,
 "nbformat_minor": 4
}
