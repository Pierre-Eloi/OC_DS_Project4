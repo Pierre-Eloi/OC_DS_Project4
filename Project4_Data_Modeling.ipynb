{
 "cells": [
  {
   "cell_type": "markdown",
   "metadata": {},
   "source": [
    "# Projet 4 : Anticiper les besoins en consommation électrique de bâtiments\n",
    "*Pierre-Eloi Ragetly*\n",
    "\n",
    "Ce projet fait parti du parcours *DataScientist* d'OpenClassrooms.\n",
    "\n",
    "L'objectif principal est de trouver un modèle permettant de prédire **les émissions de CO2 et la consommation totale d’énergie de bâtiments non destinés à l'habitation.**\n",
    "\n",
    "Pour cela nous disposons des données de la ville de Seattle pour les années 2015 et 2016. Ces données sont à récupérer sur le site kaggle."
   ]
  },
  {
   "cell_type": "markdown",
   "metadata": {},
   "source": [
    "# Partie III : Data modeling\n",
    "\n",
    "Ce notebook a pour but de présenter le travail effectué sur la modélisation.\n",
    "\n",
    "Dans un premier temps les modèles les plus courants seront entraînés et testés (une séparation des données sera faite au préalable) sur les données de 2015. Les modèles plus prometteurs seront conservés. Vu qu'il s'agit d'un problème de regression nous utiliserons la **RMSE** (Root Mean Square Error) comme mesure de performance.\n",
    "\n",
    "Puis nous améliorerons les performances de nos modèles en ne gardant que les variables significatives et en affinant les hyperparamètres à l'aide d'une recherche par quadrillage (nous testerons aussi une recherche aléatoire.)\n",
    "\n",
    "La dernière étape de la partie modélisation consistera à combiner les meilleurs modèles afin d'obtenir un modèle encore plus performant.\n",
    "\n",
    "Enfin, le modèle final sera testé sur le jeu de données de 2016 nettoyé afin d'évaluer sa performance."
   ]
  },
  {
   "cell_type": "code",
   "execution_count": 1,
   "metadata": {
    "ExecuteTime": {
     "end_time": "2020-06-05T08:08:05.063180Z",
     "start_time": "2020-06-05T08:08:04.488167Z"
    }
   },
   "outputs": [],
   "source": [
    "# Import des librairies usuelles\n",
    "%matplotlib inline\n",
    "import matplotlib.pyplot as plt\n",
    "import numpy as np\n",
    "import scipy.stats as stats\n",
    "import pandas as pd\n",
    "import seaborn as sns\n",
    "import os"
   ]
  },
  {
   "cell_type": "code",
   "execution_count": 2,
   "metadata": {
    "ExecuteTime": {
     "end_time": "2020-06-05T08:08:05.069063Z",
     "start_time": "2020-06-05T08:08:05.064578Z"
    }
   },
   "outputs": [],
   "source": [
    "# Change some default parameters of matplotlib using seaborn\n",
    "plt.rcParams.update(plt.rcParamsDefault)\n",
    "plt.rcParams.update({'axes.titleweight': 'bold'})\n",
    "sns.set(style='ticks')\n",
    "current_palette = sns.color_palette('RdBu')\n",
    "sns.set_palette(current_palette)"
   ]
  },
  {
   "cell_type": "code",
   "execution_count": 3,
   "metadata": {
    "ExecuteTime": {
     "end_time": "2020-06-05T08:08:05.109589Z",
     "start_time": "2020-06-05T08:08:05.071015Z"
    }
   },
   "outputs": [],
   "source": [
    "df_train = (pd.read_csv('data/data_2015_tr.csv')\n",
    "              .set_index('OSEBuildingID')\n",
    "              .drop(columns='ENERGYSTARScore'))\n",
    "\n",
    "df_test = pd.read_csv('data/data_2016_tr.csv').set_index('OSEBuildingID')"
   ]
  },
  {
   "cell_type": "markdown",
   "metadata": {
    "toc": true
   },
   "source": [
    "<h1>Table of Contents<span class=\"tocSkip\"></span></h1>\n",
    "<div class=\"toc\"><ul class=\"toc-item\"><li><span><a href=\"#Résultats-des-modèles-les-plus-courants-pour-la-consommation\" data-toc-modified-id=\"Résultats-des-modèles-les-plus-courants-pour-la-consommation-1\"><span class=\"toc-item-num\">1&nbsp;&nbsp;</span>Résultats des modèles les plus courants pour la consommation</a></span></li></ul></div>"
   ]
  },
  {
   "cell_type": "markdown",
   "metadata": {},
   "source": [
    "## Résultats des modèles les plus courants pour la consommation"
   ]
  },
  {
   "cell_type": "markdown",
   "metadata": {},
   "source": [
    "Pour comparer les résultats obtenus avec les algorithmes de regression les plus courants (voir liste ci-dessous), nous utiliserons la librairie *Scikit-Learn* ainsi que la librairie *XGBoost*.\n",
    "- Régression Ridge\n",
    "- Régression Lasso\n",
    "- Elastic Net\n",
    "- Regression SVM\n",
    "- Arbre de décision\n",
    "- Forêt aléatoire\n",
    "- Gradient Boosting\n",
    "- XG Boost\n",
    "- Perceptron\n",
    "\n",
    "Nous utiliserons comme valeur cible le log de la consommation normalisée, et comme mesure de performance la RMSE par validation croisée."
   ]
  },
  {
   "cell_type": "code",
   "execution_count": 29,
   "metadata": {
    "ExecuteTime": {
     "end_time": "2020-06-05T09:09:52.839201Z",
     "start_time": "2020-06-05T09:09:52.833205Z"
    }
   },
   "outputs": [],
   "source": [
    "from sklearn.linear_model import Ridge\n",
    "from sklearn.linear_model import Lasso\n",
    "from sklearn.linear_model import ElasticNet\n",
    "from sklearn.svm import LinearSVR\n",
    "from sklearn.tree import DecisionTreeRegressor\n",
    "from sklearn.ensemble import RandomForestRegressor\n",
    "from sklearn.ensemble import GradientBoostingRegressor\n",
    "#from xgboost import XGBRegressor\n",
    "from sklearn.linear_model import Perceptron\n",
    "from sklearn.model_selection import cross_val_score\n",
    "\n",
    "def compare_models(X, y):\n",
    "    \"\"\" Fonction to compare the RMSE get with the\n",
    "    most common Machine Learning Regressors.\n",
    "    -----------\n",
    "    Parameters:\n",
    "    X: Array\n",
    "        the array object holding data\n",
    "    y: Array\n",
    "        the target\n",
    "    -----------\n",
    "    Return:\n",
    "        DataFrame\n",
    "    \"\"\"\n",
    "    # Create models\n",
    "    ridge = Ridge()\n",
    "    lasso = Lasso()\n",
    "    elastic_net = ElasticNet()\n",
    "    svm_reg = LinearSVR()\n",
    "    tree_reg = DecisionTreeRegressor()\n",
    "    forest_reg = RandomForestRegressor()\n",
    "    gbrt = GradientBoostingRegressor()\n",
    "    # xgbr = XGBRegressor()\n",
    "    perceptron = Perceptron()\n",
    "    models = [ridge,\n",
    "              lasso,\n",
    "              elastic_net,\n",
    "              #svm_reg,\n",
    "              tree_reg,\n",
    "              forest_reg,\n",
    "              gbrt]\n",
    "    # Train models\n",
    "    scores = []\n",
    "    names = []\n",
    "    std_rmse = []\n",
    "    for m in models:\n",
    "        m.fit(X, y)\n",
    "        m_scores = cross_val_score(m,X, y,\n",
    "                                   scoring=\"neg_mean_squared_error\",\n",
    "                                   cv=10)\n",
    "        m_scores = np.sqrt(-m_scores)\n",
    "        m_names = type(m).__name__\n",
    "        scores.append(m_scores.mean())\n",
    "        std_rmse.append(m_scores.std())\n",
    "        names.append(m_names)\n",
    "    # Create the DataFrame\n",
    "    df = pd.DataFrame({'RMSE_mean': scores, 'RMSE_std': std_rmse}, index=names)\n",
    "    return df"
   ]
  },
  {
   "cell_type": "code",
   "execution_count": 30,
   "metadata": {
    "ExecuteTime": {
     "end_time": "2020-06-05T09:10:08.645007Z",
     "start_time": "2020-06-05T09:09:53.993194Z"
    }
   },
   "outputs": [
    {
     "data": {
      "text/html": [
       "<div>\n",
       "<style scoped>\n",
       "    .dataframe tbody tr th:only-of-type {\n",
       "        vertical-align: middle;\n",
       "    }\n",
       "\n",
       "    .dataframe tbody tr th {\n",
       "        vertical-align: top;\n",
       "    }\n",
       "\n",
       "    .dataframe thead th {\n",
       "        text-align: right;\n",
       "    }\n",
       "</style>\n",
       "<table border=\"1\" class=\"dataframe\">\n",
       "  <thead>\n",
       "    <tr style=\"text-align: right;\">\n",
       "      <th></th>\n",
       "      <th>RMSE_mean</th>\n",
       "      <th>RMSE_std</th>\n",
       "    </tr>\n",
       "  </thead>\n",
       "  <tbody>\n",
       "    <tr>\n",
       "      <th>Ridge</th>\n",
       "      <td>0.742024</td>\n",
       "      <td>0.083778</td>\n",
       "    </tr>\n",
       "    <tr>\n",
       "      <th>Lasso</th>\n",
       "      <td>1.318409</td>\n",
       "      <td>0.160921</td>\n",
       "    </tr>\n",
       "    <tr>\n",
       "      <th>ElasticNet</th>\n",
       "      <td>1.132786</td>\n",
       "      <td>0.157217</td>\n",
       "    </tr>\n",
       "    <tr>\n",
       "      <th>DecisionTreeRegressor</th>\n",
       "      <td>0.321335</td>\n",
       "      <td>0.047397</td>\n",
       "    </tr>\n",
       "    <tr>\n",
       "      <th>RandomForestRegressor</th>\n",
       "      <td>0.229443</td>\n",
       "      <td>0.027190</td>\n",
       "    </tr>\n",
       "    <tr>\n",
       "      <th>GradientBoostingRegressor</th>\n",
       "      <td>0.212370</td>\n",
       "      <td>0.024227</td>\n",
       "    </tr>\n",
       "  </tbody>\n",
       "</table>\n",
       "</div>"
      ],
      "text/plain": [
       "                           RMSE_mean  RMSE_std\n",
       "Ridge                       0.742024  0.083778\n",
       "Lasso                       1.318409  0.160921\n",
       "ElasticNet                  1.132786  0.157217\n",
       "DecisionTreeRegressor       0.321335  0.047397\n",
       "RandomForestRegressor       0.229443  0.027190\n",
       "GradientBoostingRegressor   0.212370  0.024227"
      ]
     },
     "execution_count": 30,
     "metadata": {},
     "output_type": "execute_result"
    }
   ],
   "source": [
    "X = df_train.iloc[:, :-6].values\n",
    "y = df_train.iloc[:, -1].values\n",
    "df_comp =  compare_models(X, y)\n",
    "df_comp"
   ]
  },
  {
   "cell_type": "code",
   "execution_count": null,
   "metadata": {},
   "outputs": [],
   "source": []
  }
 ],
 "metadata": {
  "kernelspec": {
   "display_name": "Python 3",
   "language": "python",
   "name": "python3"
  },
  "language_info": {
   "codemirror_mode": {
    "name": "ipython",
    "version": 3
   },
   "file_extension": ".py",
   "mimetype": "text/x-python",
   "name": "python",
   "nbconvert_exporter": "python",
   "pygments_lexer": "ipython3",
   "version": "3.7.3"
  },
  "toc": {
   "base_numbering": "1",
   "nav_menu": {},
   "number_sections": true,
   "sideBar": true,
   "skip_h1_title": true,
   "title_cell": "Table of Contents",
   "title_sidebar": "Contents",
   "toc_cell": true,
   "toc_position": {
    "height": "calc(100% - 180px)",
    "left": "10px",
    "top": "150px",
    "width": "254px"
   },
   "toc_section_display": true,
   "toc_window_display": true
  }
 },
 "nbformat": 4,
 "nbformat_minor": 4
}
