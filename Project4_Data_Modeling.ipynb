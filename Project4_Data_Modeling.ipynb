{
 "cells": [
  {
   "cell_type": "markdown",
   "metadata": {},
   "source": [
    "# Projet 4 : Anticiper les besoins en consommation électrique de bâtiments\n",
    "*Pierre-Eloi Ragetly*\n",
    "\n",
    "Ce projet fait parti du parcours *DataScientist* d'OpenClassrooms.\n",
    "\n",
    "L'objectif principal est de trouver un modèle permettant de prédire **les émissions de CO2 et la consommation totale d’énergie de bâtiments non destinés à l'habitation.**\n",
    "\n",
    "Pour cela nous disposons des données de la ville de Seattle pour les années 2015 et 2016. Ces données sont à récupérer sur le site kaggle."
   ]
  },
  {
   "cell_type": "markdown",
   "metadata": {},
   "source": [
    "# Partie III : Data modeling\n",
    "\n",
    "Ce notebook a pour but de présenter le travail effectué sur la modélisation.\n",
    "\n",
    "Nous commencerons par séparer notre jeu de données en deux parties distinctes:\n",
    "- Le **training set**, qui va permettre d'entrainer les différents modèles;\n",
    "- Le **testing set**, qui permettra de déterminer la performance du modèle finale.\n",
    "\n",
    "Pour ce faire, la méthode `train_test_split()` de la classe *sklearn.model_selection* sera utilisée en réservant 20% des données pour le jeu de test.\n",
    "\n",
    "Puis les modèles les plus courants seront entraînés et comparés afin de conserver les plus prometteurs. Au préalable, *une recherche par quadrillage* sera effectuée pour automatiser le choix des *hyperparamètres*, et les variables les plus pertinentes seront sélectionnées par **RFE** (Recursive Feature Elimination).\n",
    "\n",
    "Après sélection des modèles les plus performants, nous affinerons encore les hyperparamètres à l'aide d'une *recherche aléatoire* cette fois ci, et nous en profiterons pour tester la pertinence de la variable *EnergyStarScore*.\n",
    "\n",
    "Nous analyserons enfin les erreurs des modèles afin de déterminer s'il est pertinent d'utiliser une *méthode d'ensemble*, ie. combiner plusieurs modèles pour construire un modèle plus performant.\n",
    "\n",
    "Le modèle final obtenu, nous pourrons évaluer sa performance à l'aide du jeu de test."
   ]
  },
  {
   "cell_type": "code",
   "execution_count": 1,
   "metadata": {
    "ExecuteTime": {
     "end_time": "2020-06-25T14:57:13.960946Z",
     "start_time": "2020-06-25T14:57:11.433848Z"
    }
   },
   "outputs": [],
   "source": [
    "# Import des librairies usuelles\n",
    "%matplotlib inline\n",
    "import matplotlib.pyplot as plt\n",
    "import numpy as np\n",
    "import scipy.stats as stats\n",
    "import pandas as pd\n",
    "import seaborn as sns"
   ]
  },
  {
   "cell_type": "code",
   "execution_count": 2,
   "metadata": {
    "ExecuteTime": {
     "end_time": "2020-06-25T14:57:13.974400Z",
     "start_time": "2020-06-25T14:57:13.963937Z"
    }
   },
   "outputs": [],
   "source": [
    "# Change some default parameters of matplotlib using seaborn\n",
    "plt.rcParams.update(plt.rcParamsDefault)\n",
    "plt.rcParams.update({'axes.titleweight': 'bold'})\n",
    "sns.set(style='ticks')\n",
    "current_palette = sns.color_palette('RdBu')\n",
    "sns.set_palette(current_palette)"
   ]
  },
  {
   "cell_type": "code",
   "execution_count": 3,
   "metadata": {
    "ExecuteTime": {
     "end_time": "2020-06-25T14:57:14.062531Z",
     "start_time": "2020-06-25T14:57:13.978872Z"
    }
   },
   "outputs": [],
   "source": [
    "# import data\n",
    "data = (pd.read_csv('data/data_tr.csv')\n",
    "          .set_index('OSEBuildingID')\n",
    "          .drop(columns='ENERGYSTARScore'))\n",
    "data_ess = (pd.read_csv('data/data_tr.csv')\n",
    "              .set_index('OSEBuildingID')\n",
    "              .dropna(subset=['ENERGYSTARScore']))"
   ]
  },
  {
   "cell_type": "markdown",
   "metadata": {
    "toc": true
   },
   "source": [
    "<h1>Table of Contents<span class=\"tocSkip\"></span></h1>\n",
    "<div class=\"toc\"><ul class=\"toc-item\"><li><span><a href=\"#Modéliser-la-consommation-totale-d’énergie\" data-toc-modified-id=\"Modéliser-la-consommation-totale-d’énergie-1\"><span class=\"toc-item-num\">1&nbsp;&nbsp;</span>Modéliser la consommation totale d’énergie</a></span><ul class=\"toc-item\"><li><span><a href=\"#Créer-un-jeu-de-test\" data-toc-modified-id=\"Créer-un-jeu-de-test-1.1\"><span class=\"toc-item-num\">1.1&nbsp;&nbsp;</span>Créer un jeu de test</a></span></li><li><span><a href=\"#Comparaison-des-modèles\" data-toc-modified-id=\"Comparaison-des-modèles-1.2\"><span class=\"toc-item-num\">1.2&nbsp;&nbsp;</span>Comparaison des modèles</a></span></li></ul></li></ul></div>"
   ]
  },
  {
   "cell_type": "markdown",
   "metadata": {},
   "source": [
    "## Modéliser la consommation totale d’énergie"
   ]
  },
  {
   "cell_type": "markdown",
   "metadata": {},
   "source": [
    "Pour pouvoir modéliser la consommation totale en énergie il faut au préalable déterminer quelle sera notra valeur cible. Sous nous avons quatre variables potentielles :\n",
    "- SiteEnergyUse(kBtu)\n",
    "- SiteEnergyUseWN(kBtu)\n",
    "- SiteEnergyUse(kBtu)_log\n",
    "- SiteEnergyUseWN(kBtu)_log\n",
    "\n",
    "Nous avons vu lors de l'ingénierie des variable qu'il était préférable de prendre la version log pour avoir une distribution se rapprochant d'une distribution normale. On peut donc déjà écarter les deux premières.\n",
    "\n",
    "Se pose ensuite la question de savoir s'il est préférable de garder la version normalisée ou non normalisée. Pour rappel, la version normalisée et la consommation corrigée en prenant comme référence la température des trentes dernières années. Alors que la version normalisée est la consommation moyenne sur les années 2015 et 2016. Dans le contexte de réchauffement climatique, il est fort à parier que la températures des prochaines années sera plus proche de celles de 2015 et 2016 que de la température des trentes dernières années.\n",
    "\n",
    "Nous prendrons donc la version non normalisée **SiteEnergyUse(kBtu)_log**."
   ]
  },
  {
   "cell_type": "markdown",
   "metadata": {},
   "source": [
    "### Créer un jeu de test"
   ]
  },
  {
   "cell_type": "code",
   "execution_count": 4,
   "metadata": {
    "ExecuteTime": {
     "end_time": "2020-06-25T14:57:14.338405Z",
     "start_time": "2020-06-25T14:57:14.065518Z"
    }
   },
   "outputs": [],
   "source": [
    "from sklearn.model_selection import train_test_split\n",
    "\n",
    "X = data.iloc[:, :-6].values\n",
    "y = data.loc[:, 'SiteEnergyUse(kBtu)_log'].values\n",
    "X_train, X_test, y_train, y_test = train_test_split(X, y,\n",
    "                                                    test_size=0.2,\n",
    "                                                    random_state=42)"
   ]
  },
  {
   "cell_type": "markdown",
   "metadata": {},
   "source": [
    "Le paramètre *random_state* permet de définir *le germe* (seed) du générateur de nombre aléatoires, afin qu'il génère toujours la même suite d'indices pseudo-aléatoires."
   ]
  },
  {
   "cell_type": "markdown",
   "metadata": {},
   "source": [
    "### Comparaison des modèles"
   ]
  },
  {
   "cell_type": "markdown",
   "metadata": {},
   "source": [
    "Pour comparer les résultats obtenus avec les algorithmes de regression les plus courants (voir liste ci-dessous), nous utiliserons la librairie *Scikit-Learn* ainsi que la librairie *XGBoost*.\n",
    "- Régression Ridge\n",
    "- Régression Lasso\n",
    "- Elastic Net\n",
    "- Regression SVM linéaire\n",
    "- Regression SVM avec noyau\n",
    "- Arbre de décision\n",
    "- Forêt aléatoire\n",
    "- Gradient Boosting\n",
    "- XG Boost\n",
    "- Perceptron\n",
    "- Perceptron multi-couches\n",
    "\n",
    "Nous utiliserons comme mesure de performance la RMSE par validation croisée."
   ]
  },
  {
   "cell_type": "code",
   "execution_count": 5,
   "metadata": {
    "ExecuteTime": {
     "end_time": "2020-06-25T14:57:32.352054Z",
     "start_time": "2020-06-25T14:57:14.340397Z"
    }
   },
   "outputs": [
    {
     "data": {
      "text/html": [
       "<div>\n",
       "<style scoped>\n",
       "    .dataframe tbody tr th:only-of-type {\n",
       "        vertical-align: middle;\n",
       "    }\n",
       "\n",
       "    .dataframe tbody tr th {\n",
       "        vertical-align: top;\n",
       "    }\n",
       "\n",
       "    .dataframe thead th {\n",
       "        text-align: right;\n",
       "    }\n",
       "</style>\n",
       "<table border=\"1\" class=\"dataframe\">\n",
       "  <thead>\n",
       "    <tr style=\"text-align: right;\">\n",
       "      <th></th>\n",
       "      <th>RMSE_mean</th>\n",
       "      <th>RMSE_std</th>\n",
       "    </tr>\n",
       "  </thead>\n",
       "  <tbody>\n",
       "    <tr>\n",
       "      <th>Ridge</th>\n",
       "      <td>1.167202</td>\n",
       "      <td>-0.733387</td>\n",
       "    </tr>\n",
       "    <tr>\n",
       "      <th>Lasso</th>\n",
       "      <td>1.302400</td>\n",
       "      <td>-0.028977</td>\n",
       "    </tr>\n",
       "    <tr>\n",
       "      <th>ElasticNet</th>\n",
       "      <td>1.274081</td>\n",
       "      <td>-0.037091</td>\n",
       "    </tr>\n",
       "    <tr>\n",
       "      <th>LinearSVR</th>\n",
       "      <td>1.223156</td>\n",
       "      <td>-0.744995</td>\n",
       "    </tr>\n",
       "    <tr>\n",
       "      <th>SVR</th>\n",
       "      <td>0.720006</td>\n",
       "      <td>-0.052223</td>\n",
       "    </tr>\n",
       "    <tr>\n",
       "      <th>DecisionTreeRegressor</th>\n",
       "      <td>0.451453</td>\n",
       "      <td>-0.023162</td>\n",
       "    </tr>\n",
       "    <tr>\n",
       "      <th>RandomForestRegressor</th>\n",
       "      <td>0.310822</td>\n",
       "      <td>-0.033982</td>\n",
       "    </tr>\n",
       "    <tr>\n",
       "      <th>GradientBoostingRegressor</th>\n",
       "      <td>0.223332</td>\n",
       "      <td>-0.035582</td>\n",
       "    </tr>\n",
       "    <tr>\n",
       "      <th>XGBRegressor</th>\n",
       "      <td>0.234940</td>\n",
       "      <td>-0.030488</td>\n",
       "    </tr>\n",
       "  </tbody>\n",
       "</table>\n",
       "</div>"
      ],
      "text/plain": [
       "                           RMSE_mean  RMSE_std\n",
       "Ridge                       1.167202 -0.733387\n",
       "Lasso                       1.302400 -0.028977\n",
       "ElasticNet                  1.274081 -0.037091\n",
       "LinearSVR                   1.223156 -0.744995\n",
       "SVR                         0.720006 -0.052223\n",
       "DecisionTreeRegressor       0.451453 -0.023162\n",
       "RandomForestRegressor       0.310822 -0.033982\n",
       "GradientBoostingRegressor   0.223332 -0.035582\n",
       "XGBRegressor                0.234940 -0.030488"
      ]
     },
     "execution_count": 5,
     "metadata": {},
     "output_type": "execute_result"
    }
   ],
   "source": [
    "from sklearn.linear_model import Ridge\n",
    "from sklearn.linear_model import Lasso\n",
    "from sklearn.linear_model import ElasticNet\n",
    "from sklearn.linear_model import Perceptron\n",
    "from sklearn.svm import LinearSVR\n",
    "from sklearn.svm import SVR\n",
    "from sklearn.tree import DecisionTreeRegressor\n",
    "from sklearn.ensemble import RandomForestRegressor\n",
    "from sklearn.ensemble import GradientBoostingRegressor\n",
    "from sklearn.neural_network import MLPRegressor\n",
    "from xgboost import XGBRegressor\n",
    "from functions.ml_modeling import compare_models\n",
    "\n",
    "# Create models\n",
    "ridge = Ridge()\n",
    "lasso = Lasso()\n",
    "elastic_net = ElasticNet()\n",
    "svm_lin_reg = LinearSVR(loss='squared_epsilon_insensitive', dual=False)\n",
    "svm_rbf_reg = SVR()\n",
    "tree_reg = DecisionTreeRegressor()\n",
    "forest_reg = RandomForestRegressor()\n",
    "gbrt = GradientBoostingRegressor()\n",
    "xgbr = XGBRegressor()\n",
    "#perceptron = Perceptron()\n",
    "#mlp_reg = MLPRegressor()\n",
    "models = [ridge,\n",
    "          lasso,\n",
    "          elastic_net,\n",
    "          svm_lin_reg,\n",
    "          svm_rbf_reg,\n",
    "          tree_reg,\n",
    "          forest_reg,\n",
    "          #perceptron,\n",
    "          #mlp_reg,\n",
    "          gbrt,\n",
    "          xgbr]\n",
    "# Compare models\n",
    "df = compare_models(X_train, y_train, models)\n",
    "df"
   ]
  },
  {
   "cell_type": "code",
   "execution_count": 6,
   "metadata": {
    "ExecuteTime": {
     "end_time": "2020-06-25T15:07:11.622210Z",
     "start_time": "2020-06-25T14:57:32.354047Z"
    }
   },
   "outputs": [
    {
     "data": {
      "text/html": [
       "<div>\n",
       "<style scoped>\n",
       "    .dataframe tbody tr th:only-of-type {\n",
       "        vertical-align: middle;\n",
       "    }\n",
       "\n",
       "    .dataframe tbody tr th {\n",
       "        vertical-align: top;\n",
       "    }\n",
       "\n",
       "    .dataframe thead th {\n",
       "        text-align: right;\n",
       "    }\n",
       "</style>\n",
       "<table border=\"1\" class=\"dataframe\">\n",
       "  <thead>\n",
       "    <tr style=\"text-align: right;\">\n",
       "      <th></th>\n",
       "      <th>RMSE_mean</th>\n",
       "      <th>RMSE_std</th>\n",
       "    </tr>\n",
       "  </thead>\n",
       "  <tbody>\n",
       "    <tr>\n",
       "      <th>Ridge</th>\n",
       "      <td>0.893922</td>\n",
       "      <td>-0.085935</td>\n",
       "    </tr>\n",
       "    <tr>\n",
       "      <th>Lasso</th>\n",
       "      <td>1.022367</td>\n",
       "      <td>-0.397194</td>\n",
       "    </tr>\n",
       "    <tr>\n",
       "      <th>ElasticNet</th>\n",
       "      <td>0.931766</td>\n",
       "      <td>-0.168744</td>\n",
       "    </tr>\n",
       "    <tr>\n",
       "      <th>LinearSVR</th>\n",
       "      <td>1.152093</td>\n",
       "      <td>-0.455272</td>\n",
       "    </tr>\n",
       "    <tr>\n",
       "      <th>SVR</th>\n",
       "      <td>0.602459</td>\n",
       "      <td>-0.077108</td>\n",
       "    </tr>\n",
       "  </tbody>\n",
       "</table>\n",
       "</div>"
      ],
      "text/plain": [
       "            RMSE_mean  RMSE_std\n",
       "Ridge        0.893922 -0.085935\n",
       "Lasso        1.022367 -0.397194\n",
       "ElasticNet   0.931766 -0.168744\n",
       "LinearSVR    1.152093 -0.455272\n",
       "SVR          0.602459 -0.077108"
      ]
     },
     "execution_count": 6,
     "metadata": {},
     "output_type": "execute_result"
    }
   ],
   "source": [
    "from functions.ml_modeling import lin_reg_best_params\n",
    "from functions.ml_modeling import svm_reg_best_params\n",
    "\n",
    "# Create models\n",
    "ridge = lin_reg_best_params(X_train, y_train, Ridge())\n",
    "lasso = lin_reg_best_params(X_train, y_train, Lasso())\n",
    "elastic_net = lin_reg_best_params(X_train, y_train,\n",
    "                                 ElasticNet(), elastic_net=True)\n",
    "svm_lin_reg = svm_reg_best_params(X_train, y_train, LinearSVR())\n",
    "svm_rbf_reg = svm_reg_best_params(X_train, y_train, SVR(), kernel=True)\n",
    "models = [ridge,\n",
    "          lasso,\n",
    "          elastic_net,\n",
    "          svm_lin_reg,\n",
    "          svm_rbf_reg]\n",
    "\n",
    "# Compare models\n",
    "df = compare_models(X_train, y_train, models)\n",
    "df"
   ]
  },
  {
   "cell_type": "code",
   "execution_count": null,
   "metadata": {},
   "outputs": [],
   "source": [
    "df = compare_models(X_train, y_train, models, rfe=True)\n",
    "df"
   ]
  }
 ],
 "metadata": {
  "kernelspec": {
   "display_name": "Python 3",
   "language": "python",
   "name": "python3"
  },
  "language_info": {
   "codemirror_mode": {
    "name": "ipython",
    "version": 3
   },
   "file_extension": ".py",
   "mimetype": "text/x-python",
   "name": "python",
   "nbconvert_exporter": "python",
   "pygments_lexer": "ipython3",
   "version": "3.8.3"
  },
  "toc": {
   "base_numbering": "1",
   "nav_menu": {},
   "number_sections": true,
   "sideBar": true,
   "skip_h1_title": true,
   "title_cell": "Table of Contents",
   "title_sidebar": "Contents",
   "toc_cell": true,
   "toc_position": {
    "height": "calc(100% - 180px)",
    "left": "10px",
    "top": "150px",
    "width": "254px"
   },
   "toc_section_display": true,
   "toc_window_display": false
  }
 },
 "nbformat": 4,
 "nbformat_minor": 4
}
